{
 "cells": [
  {
   "cell_type": "code",
   "execution_count": 2,
   "id": "3d6544b7-c7ad-45a5-a3d0-1d2387a4d9d1",
   "metadata": {},
   "outputs": [],
   "source": [
    "import sympy as sp"
   ]
  },
  {
   "cell_type": "code",
   "execution_count": 3,
   "id": "1df67b34-5305-41d6-974a-13b16456c55d",
   "metadata": {},
   "outputs": [],
   "source": [
    "x, y, z, r, phi = sp.symbols('x y z r phi')\n",
    "\n",
    "psi_0, psi = sp.symbols('psi_0 psi')\n",
    "\n",
    "lambda_r, lambda_z = sp.symbols('lambda_r lambda_z')\n",
    "\n",
    "zeta, v_swell, mu = sp.symbols('zeta v_\\\\text{swell} mu')"
   ]
  },
  {
   "cell_type": "code",
   "execution_count": 4,
   "id": "7df2dbd6-a2a9-4f88-beec-f644b2930371",
   "metadata": {},
   "outputs": [],
   "source": [
    "x_hat = sp.Matrix([1, 0, 0])\n",
    "y_hat = sp.Matrix([0, 1, 0])\n",
    "z_hat = sp.Matrix([0, 0, 1])\n",
    "\n",
    "r_hat = sp.cos(phi) * x_hat + sp.sin(phi) * y_hat\n",
    "phi_hat = - sp.sin(phi) * x_hat + sp.cos(phi) * y_hat"
   ]
  },
  {
   "cell_type": "code",
   "execution_count": 5,
   "id": "58e5042c-6348-4af5-bc8d-5728186e453e",
   "metadata": {},
   "outputs": [
    {
     "data": {
      "text/latex": [
       "$\\displaystyle \\left[\\begin{matrix}- \\sin{\\left(\\phi \\right)}\\\\\\cos{\\left(\\phi \\right)}\\\\0\\end{matrix}\\right]$"
      ],
      "text/plain": [
       "Matrix([\n",
       "[-sin(phi)],\n",
       "[ cos(phi)],\n",
       "[        0]])"
      ]
     },
     "execution_count": 5,
     "metadata": {},
     "output_type": "execute_result"
    }
   ],
   "source": [
    "phi_hat"
   ]
  },
  {
   "cell_type": "code",
   "execution_count": 6,
   "id": "fdb0a696-56f6-44da-b3a9-ed7e38a4960a",
   "metadata": {},
   "outputs": [],
   "source": [
    "n_hat = - sp.sin(psi) * phi_hat + sp.cos(psi) * z_hat\n",
    "n_hat_0 = n_hat.subs(psi, psi_0)"
   ]
  },
  {
   "cell_type": "code",
   "execution_count": 7,
   "id": "28597e57-71e8-49f1-b37d-cee709c09d4b",
   "metadata": {},
   "outputs": [
    {
     "data": {
      "text/latex": [
       "$\\displaystyle \\left[\\begin{matrix}\\sin{\\left(\\phi \\right)} \\sin{\\left(\\psi \\right)}\\\\- \\sin{\\left(\\psi \\right)} \\cos{\\left(\\phi \\right)}\\\\\\cos{\\left(\\psi \\right)}\\end{matrix}\\right]$"
      ],
      "text/plain": [
       "Matrix([\n",
       "[ sin(phi)*sin(psi)],\n",
       "[-sin(psi)*cos(phi)],\n",
       "[          cos(psi)]])"
      ]
     },
     "execution_count": 7,
     "metadata": {},
     "output_type": "execute_result"
    }
   ],
   "source": [
    "n_hat"
   ]
  },
  {
   "cell_type": "code",
   "execution_count": 8,
   "id": "1b75d293-cc6e-422e-9e0f-924d55072afb",
   "metadata": {},
   "outputs": [
    {
     "data": {
      "text/latex": [
       "$\\displaystyle \\left[\\begin{matrix}\\sin{\\left(\\phi \\right)} \\sin{\\left(\\psi_{0} \\right)}\\\\- \\sin{\\left(\\psi_{0} \\right)} \\cos{\\left(\\phi \\right)}\\\\\\cos{\\left(\\psi_{0} \\right)}\\end{matrix}\\right]$"
      ],
      "text/plain": [
       "Matrix([\n",
       "[ sin(phi)*sin(psi_0)],\n",
       "[-sin(psi_0)*cos(phi)],\n",
       "[          cos(psi_0)]])"
      ]
     },
     "execution_count": 8,
     "metadata": {},
     "output_type": "execute_result"
    }
   ],
   "source": [
    "n_hat_0"
   ]
  },
  {
   "cell_type": "code",
   "execution_count": 9,
   "id": "8698920f-c697-49b7-b7b8-98e25450b299",
   "metadata": {},
   "outputs": [
    {
     "data": {
      "text/latex": [
       "$\\displaystyle \\left[\\begin{matrix}\\lambda_{r} & 0 & 0\\\\0 & \\lambda_{r} & 0\\\\0 & 0 & \\lambda_{z}\\end{matrix}\\right]$"
      ],
      "text/plain": [
       "Matrix([\n",
       "[lambda_r,        0,        0],\n",
       "[       0, lambda_r,        0],\n",
       "[       0,        0, lambda_z]])"
      ]
     },
     "execution_count": 9,
     "metadata": {},
     "output_type": "execute_result"
    }
   ],
   "source": [
    "Lambda = sp.diag(lambda_r, lambda_r, lambda_z)\n",
    "Lambda"
   ]
  },
  {
   "cell_type": "code",
   "execution_count": 10,
   "id": "0677ef9a-8a75-44b0-a733-38610fc2b0ee",
   "metadata": {},
   "outputs": [
    {
     "data": {
      "text/latex": [
       "$\\displaystyle \\left[\\begin{matrix}1 & 0 & 0\\\\0 & 1 & 0\\\\0 & 0 & 1\\end{matrix}\\right]$"
      ],
      "text/plain": [
       "Matrix([\n",
       "[1, 0, 0],\n",
       "[0, 1, 0],\n",
       "[0, 0, 1]])"
      ]
     },
     "execution_count": 10,
     "metadata": {},
     "output_type": "execute_result"
    }
   ],
   "source": [
    "delta = sp.eye(3)\n",
    "delta"
   ]
  },
  {
   "cell_type": "code",
   "execution_count": 11,
   "id": "1966d3bc-939a-4bf6-bd87-906eea0d5bce",
   "metadata": {},
   "outputs": [
    {
     "data": {
      "text/latex": [
       "$\\displaystyle \\left[\\begin{matrix}\\left(\\zeta - 1\\right) \\sin^{2}{\\left(\\phi \\right)} \\sin^{2}{\\left(\\psi_{0} \\right)} + 1 & - \\left(\\zeta - 1\\right) \\sin{\\left(\\phi \\right)} \\sin^{2}{\\left(\\psi_{0} \\right)} \\cos{\\left(\\phi \\right)} & \\left(\\zeta - 1\\right) \\sin{\\left(\\phi \\right)} \\sin{\\left(\\psi_{0} \\right)} \\cos{\\left(\\psi_{0} \\right)}\\\\- \\left(\\zeta - 1\\right) \\sin{\\left(\\phi \\right)} \\sin^{2}{\\left(\\psi_{0} \\right)} \\cos{\\left(\\phi \\right)} & \\left(\\zeta - 1\\right) \\sin^{2}{\\left(\\psi_{0} \\right)} \\cos^{2}{\\left(\\phi \\right)} + 1 & - \\left(\\zeta - 1\\right) \\sin{\\left(\\psi_{0} \\right)} \\cos{\\left(\\phi \\right)} \\cos{\\left(\\psi_{0} \\right)}\\\\\\left(\\zeta - 1\\right) \\sin{\\left(\\phi \\right)} \\sin{\\left(\\psi_{0} \\right)} \\cos{\\left(\\psi_{0} \\right)} & - \\left(\\zeta - 1\\right) \\sin{\\left(\\psi_{0} \\right)} \\cos{\\left(\\phi \\right)} \\cos{\\left(\\psi_{0} \\right)} & \\left(\\zeta - 1\\right) \\cos^{2}{\\left(\\psi_{0} \\right)} + 1\\end{matrix}\\right]$"
      ],
      "text/plain": [
       "Matrix([\n",
       "[   (zeta - 1)*sin(phi)**2*sin(psi_0)**2 + 1, -(zeta - 1)*sin(phi)*sin(psi_0)**2*cos(phi),  (zeta - 1)*sin(phi)*sin(psi_0)*cos(psi_0)],\n",
       "[-(zeta - 1)*sin(phi)*sin(psi_0)**2*cos(phi),    (zeta - 1)*sin(psi_0)**2*cos(phi)**2 + 1, -(zeta - 1)*sin(psi_0)*cos(phi)*cos(psi_0)],\n",
       "[  (zeta - 1)*sin(phi)*sin(psi_0)*cos(psi_0),  -(zeta - 1)*sin(psi_0)*cos(phi)*cos(psi_0),               (zeta - 1)*cos(psi_0)**2 + 1]])"
      ]
     },
     "execution_count": 11,
     "metadata": {},
     "output_type": "execute_result"
    }
   ],
   "source": [
    "L = delta + (zeta - 1) * (n_hat * sp.transpose(n_hat))\n",
    "L_0 = L.subs(psi, psi_0)\n",
    "\n",
    "L_0"
   ]
  },
  {
   "cell_type": "code",
   "execution_count": 97,
   "id": "6ae49422-8584-40d8-8298-60720dfe2307",
   "metadata": {},
   "outputs": [],
   "source": [
    "f = mu/2 * sp.Trace(L_0 * sp.Transpose(Lambda) * sp.Inverse(L) * Lambda)\n",
    "f = f.simplify()  # calculates trace"
   ]
  },
  {
   "cell_type": "code",
   "execution_count": 40,
   "id": "45e7f788-82da-4c65-aaca-03998ee7dd5f",
   "metadata": {},
   "outputs": [
    {
     "data": {
      "text/latex": [
       "$\\displaystyle \\frac{\\mu \\left(- \\frac{\\lambda_{r} \\left(\\lambda_{r} \\left(\\zeta - 1\\right)^{2} \\sin^{2}{\\left(\\phi \\right)} \\sin^{2}{\\left(\\psi \\right)} \\sin^{2}{\\left(\\psi_{0} \\right)} \\cos^{2}{\\left(\\phi \\right)} - \\lambda_{r} \\left(\\left(\\zeta - 1\\right) \\sin^{2}{\\left(\\phi \\right)} \\sin^{2}{\\left(\\psi_{0} \\right)} + 1\\right) \\left(- \\zeta \\sin^{2}{\\left(\\phi \\right)} \\sin^{2}{\\left(\\psi \\right)} + \\zeta + \\sin^{2}{\\left(\\phi \\right)} \\sin^{2}{\\left(\\psi \\right)}\\right) + \\lambda_{z} \\left(\\zeta - 1\\right)^{2} \\sin^{2}{\\left(\\phi \\right)} \\sin{\\left(\\psi \\right)} \\sin{\\left(\\psi_{0} \\right)} \\cos{\\left(\\psi \\right)} \\cos{\\left(\\psi_{0} \\right)}\\right)}{\\zeta} - \\frac{\\lambda_{r} \\left(\\lambda_{r} \\left(\\zeta - 1\\right)^{2} \\sin^{2}{\\left(\\phi \\right)} \\sin^{2}{\\left(\\psi \\right)} \\sin^{2}{\\left(\\psi_{0} \\right)} \\cos^{2}{\\left(\\phi \\right)} - \\lambda_{r} \\left(\\left(\\zeta - 1\\right) \\sin^{2}{\\left(\\psi_{0} \\right)} \\cos^{2}{\\left(\\phi \\right)} + 1\\right) \\left(\\zeta \\sin^{2}{\\left(\\phi \\right)} \\sin^{2}{\\left(\\psi \\right)} - \\zeta \\sin^{2}{\\left(\\psi \\right)} + \\zeta - \\sin^{2}{\\left(\\phi \\right)} \\sin^{2}{\\left(\\psi \\right)} + \\sin^{2}{\\left(\\psi \\right)}\\right) + \\lambda_{z} \\left(\\zeta - 1\\right)^{2} \\sin{\\left(\\psi \\right)} \\sin{\\left(\\psi_{0} \\right)} \\cos^{2}{\\left(\\phi \\right)} \\cos{\\left(\\psi \\right)} \\cos{\\left(\\psi_{0} \\right)}\\right)}{\\zeta} - \\frac{\\lambda_{z} \\left(\\lambda_{r} \\left(\\zeta - 1\\right)^{2} \\sin^{2}{\\left(\\phi \\right)} \\sin{\\left(\\psi \\right)} \\sin{\\left(\\psi_{0} \\right)} \\cos{\\left(\\psi \\right)} \\cos{\\left(\\psi_{0} \\right)} + \\lambda_{r} \\left(\\zeta - 1\\right)^{2} \\sin{\\left(\\psi \\right)} \\sin{\\left(\\psi_{0} \\right)} \\cos^{2}{\\left(\\phi \\right)} \\cos{\\left(\\psi \\right)} \\cos{\\left(\\psi_{0} \\right)} - \\lambda_{z} \\left(\\left(\\zeta - 1\\right) \\cos^{2}{\\left(\\psi_{0} \\right)} + 1\\right) \\left(- \\zeta \\cos^{2}{\\left(\\psi \\right)} + \\zeta + \\cos^{2}{\\left(\\psi \\right)}\\right)\\right)}{\\zeta}\\right)}{2}$"
      ],
      "text/plain": [
       "mu*(-lambda_r*(lambda_r*(zeta - 1)**2*sin(phi)**2*sin(psi)**2*sin(psi_0)**2*cos(phi)**2 - lambda_r*((zeta - 1)*sin(phi)**2*sin(psi_0)**2 + 1)*(-zeta*sin(phi)**2*sin(psi)**2 + zeta + sin(phi)**2*sin(psi)**2) + lambda_z*(zeta - 1)**2*sin(phi)**2*sin(psi)*sin(psi_0)*cos(psi)*cos(psi_0))/zeta - lambda_r*(lambda_r*(zeta - 1)**2*sin(phi)**2*sin(psi)**2*sin(psi_0)**2*cos(phi)**2 - lambda_r*((zeta - 1)*sin(psi_0)**2*cos(phi)**2 + 1)*(zeta*sin(phi)**2*sin(psi)**2 - zeta*sin(psi)**2 + zeta - sin(phi)**2*sin(psi)**2 + sin(psi)**2) + lambda_z*(zeta - 1)**2*sin(psi)*sin(psi_0)*cos(phi)**2*cos(psi)*cos(psi_0))/zeta - lambda_z*(lambda_r*(zeta - 1)**2*sin(phi)**2*sin(psi)*sin(psi_0)*cos(psi)*cos(psi_0) + lambda_r*(zeta - 1)**2*sin(psi)*sin(psi_0)*cos(phi)**2*cos(psi)*cos(psi_0) - lambda_z*((zeta - 1)*cos(psi_0)**2 + 1)*(-zeta*cos(psi)**2 + zeta + cos(psi)**2))/zeta)/2"
      ]
     },
     "execution_count": 40,
     "metadata": {},
     "output_type": "execute_result"
    }
   ],
   "source": [
    "f"
   ]
  },
  {
   "cell_type": "markdown",
   "id": "b183cd45-03e0-4cd0-a815-895cdfe2fd15",
   "metadata": {},
   "source": [
    "# Path 1"
   ]
  },
  {
   "cell_type": "code",
   "execution_count": 98,
   "id": "f1fa0ddf-4d27-4b42-94de-ff6363fb1d7d",
   "metadata": {},
   "outputs": [],
   "source": [
    "f = f.simplify()"
   ]
  },
  {
   "cell_type": "code",
   "execution_count": 99,
   "id": "bf1ac2ee-4240-4db5-93c1-2eb98d34ff26",
   "metadata": {},
   "outputs": [
    {
     "data": {
      "text/latex": [
       "$\\displaystyle - \\frac{\\lambda_{r}^{2} \\mu \\zeta \\sin^{2}{\\left(\\psi \\right)} \\sin^{2}{\\left(\\psi_{0} \\right)}}{2} + \\frac{\\lambda_{r}^{2} \\mu \\zeta \\sin^{2}{\\left(\\psi_{0} \\right)}}{2} + \\lambda_{r}^{2} \\mu \\sin^{2}{\\left(\\psi \\right)} \\sin^{2}{\\left(\\psi_{0} \\right)} - \\frac{\\lambda_{r}^{2} \\mu \\sin^{2}{\\left(\\psi \\right)}}{2} - \\frac{\\lambda_{r}^{2} \\mu \\sin^{2}{\\left(\\psi_{0} \\right)}}{2} + \\lambda_{r}^{2} \\mu - \\frac{\\lambda_{r}^{2} \\mu \\sin^{2}{\\left(\\psi \\right)} \\sin^{2}{\\left(\\psi_{0} \\right)}}{2 \\zeta} + \\frac{\\lambda_{r}^{2} \\mu \\sin^{2}{\\left(\\psi \\right)}}{2 \\zeta} - \\lambda_{r} \\lambda_{z} \\mu \\zeta \\sin{\\left(\\psi \\right)} \\sin{\\left(\\psi_{0} \\right)} \\cos{\\left(\\psi \\right)} \\cos{\\left(\\psi_{0} \\right)} + 2 \\lambda_{r} \\lambda_{z} \\mu \\sin{\\left(\\psi \\right)} \\sin{\\left(\\psi_{0} \\right)} \\cos{\\left(\\psi \\right)} \\cos{\\left(\\psi_{0} \\right)} - \\frac{\\lambda_{r} \\lambda_{z} \\mu \\sin{\\left(\\psi \\right)} \\sin{\\left(\\psi_{0} \\right)} \\cos{\\left(\\psi \\right)} \\cos{\\left(\\psi_{0} \\right)}}{\\zeta} - \\frac{\\lambda_{z}^{2} \\mu \\zeta \\sin^{2}{\\left(\\psi \\right)} \\sin^{2}{\\left(\\psi_{0} \\right)}}{2} + \\frac{\\lambda_{z}^{2} \\mu \\zeta \\sin^{2}{\\left(\\psi \\right)}}{2} + \\lambda_{z}^{2} \\mu \\sin^{2}{\\left(\\psi \\right)} \\sin^{2}{\\left(\\psi_{0} \\right)} - \\frac{\\lambda_{z}^{2} \\mu \\sin^{2}{\\left(\\psi \\right)}}{2} - \\frac{\\lambda_{z}^{2} \\mu \\sin^{2}{\\left(\\psi_{0} \\right)}}{2} + \\frac{\\lambda_{z}^{2} \\mu}{2} - \\frac{\\lambda_{z}^{2} \\mu \\sin^{2}{\\left(\\psi \\right)} \\sin^{2}{\\left(\\psi_{0} \\right)}}{2 \\zeta} + \\frac{\\lambda_{z}^{2} \\mu \\sin^{2}{\\left(\\psi_{0} \\right)}}{2 \\zeta}$"
      ],
      "text/plain": [
       "-lambda_r**2*mu*zeta*sin(psi)**2*sin(psi_0)**2/2 + lambda_r**2*mu*zeta*sin(psi_0)**2/2 + lambda_r**2*mu*sin(psi)**2*sin(psi_0)**2 - lambda_r**2*mu*sin(psi)**2/2 - lambda_r**2*mu*sin(psi_0)**2/2 + lambda_r**2*mu - lambda_r**2*mu*sin(psi)**2*sin(psi_0)**2/(2*zeta) + lambda_r**2*mu*sin(psi)**2/(2*zeta) - lambda_r*lambda_z*mu*zeta*sin(psi)*sin(psi_0)*cos(psi)*cos(psi_0) + 2*lambda_r*lambda_z*mu*sin(psi)*sin(psi_0)*cos(psi)*cos(psi_0) - lambda_r*lambda_z*mu*sin(psi)*sin(psi_0)*cos(psi)*cos(psi_0)/zeta - lambda_z**2*mu*zeta*sin(psi)**2*sin(psi_0)**2/2 + lambda_z**2*mu*zeta*sin(psi)**2/2 + lambda_z**2*mu*sin(psi)**2*sin(psi_0)**2 - lambda_z**2*mu*sin(psi)**2/2 - lambda_z**2*mu*sin(psi_0)**2/2 + lambda_z**2*mu/2 - lambda_z**2*mu*sin(psi)**2*sin(psi_0)**2/(2*zeta) + lambda_z**2*mu*sin(psi_0)**2/(2*zeta)"
      ]
     },
     "execution_count": 99,
     "metadata": {},
     "output_type": "execute_result"
    }
   ],
   "source": [
    "f = sp.expand(f)\n",
    "#f = f.trigsimp()\n",
    "#f = sp.expand(f)\n",
    "f"
   ]
  },
  {
   "cell_type": "code",
   "execution_count": 92,
   "id": "1526beb2-b1e5-4c85-9f8d-400d0a4937ca",
   "metadata": {},
   "outputs": [
    {
     "data": {
      "text/latex": [
       "$\\displaystyle - \\lambda_{r}^{2} \\zeta \\sin^{2}{\\left(\\psi \\right)} \\sin^{2}{\\left(\\psi_{0} \\right)} + \\lambda_{r}^{2} \\zeta \\sin^{2}{\\left(\\psi_{0} \\right)} + 2 \\lambda_{r}^{2} \\sin^{2}{\\left(\\psi \\right)} \\sin^{2}{\\left(\\psi_{0} \\right)} - \\lambda_{r}^{2} \\sin^{2}{\\left(\\psi \\right)} - \\lambda_{r}^{2} \\sin^{2}{\\left(\\psi_{0} \\right)} + 2 \\lambda_{r}^{2} - \\frac{\\lambda_{r}^{2} \\sin^{2}{\\left(\\psi \\right)} \\sin^{2}{\\left(\\psi_{0} \\right)}}{\\zeta} + \\frac{\\lambda_{r}^{2} \\sin^{2}{\\left(\\psi \\right)}}{\\zeta} - 2 \\lambda_{r} \\lambda_{z} \\zeta \\sin{\\left(\\psi \\right)} \\sin{\\left(\\psi_{0} \\right)} \\cos{\\left(\\psi \\right)} \\cos{\\left(\\psi_{0} \\right)} + 4 \\lambda_{r} \\lambda_{z} \\sin{\\left(\\psi \\right)} \\sin{\\left(\\psi_{0} \\right)} \\cos{\\left(\\psi \\right)} \\cos{\\left(\\psi_{0} \\right)} - \\frac{2 \\lambda_{r} \\lambda_{z} \\sin{\\left(\\psi \\right)} \\sin{\\left(\\psi_{0} \\right)} \\cos{\\left(\\psi \\right)} \\cos{\\left(\\psi_{0} \\right)}}{\\zeta} - \\lambda_{z}^{2} \\zeta \\sin^{2}{\\left(\\psi \\right)} \\sin^{2}{\\left(\\psi_{0} \\right)} + \\lambda_{z}^{2} \\zeta \\sin^{2}{\\left(\\psi \\right)} + 2 \\lambda_{z}^{2} \\sin^{2}{\\left(\\psi \\right)} \\sin^{2}{\\left(\\psi_{0} \\right)} - \\lambda_{z}^{2} \\sin^{2}{\\left(\\psi \\right)} - \\lambda_{z}^{2} \\sin^{2}{\\left(\\psi_{0} \\right)} + \\lambda_{z}^{2} - \\frac{\\lambda_{z}^{2} \\sin^{2}{\\left(\\psi \\right)} \\sin^{2}{\\left(\\psi_{0} \\right)}}{\\zeta} + \\frac{\\lambda_{z}^{2} \\sin^{2}{\\left(\\psi_{0} \\right)}}{\\zeta}$"
      ],
      "text/plain": [
       "-lambda_r**2*zeta*sin(psi)**2*sin(psi_0)**2 + lambda_r**2*zeta*sin(psi_0)**2 + 2*lambda_r**2*sin(psi)**2*sin(psi_0)**2 - lambda_r**2*sin(psi)**2 - lambda_r**2*sin(psi_0)**2 + 2*lambda_r**2 - lambda_r**2*sin(psi)**2*sin(psi_0)**2/zeta + lambda_r**2*sin(psi)**2/zeta - 2*lambda_r*lambda_z*zeta*sin(psi)*sin(psi_0)*cos(psi)*cos(psi_0) + 4*lambda_r*lambda_z*sin(psi)*sin(psi_0)*cos(psi)*cos(psi_0) - 2*lambda_r*lambda_z*sin(psi)*sin(psi_0)*cos(psi)*cos(psi_0)/zeta - lambda_z**2*zeta*sin(psi)**2*sin(psi_0)**2 + lambda_z**2*zeta*sin(psi)**2 + 2*lambda_z**2*sin(psi)**2*sin(psi_0)**2 - lambda_z**2*sin(psi)**2 - lambda_z**2*sin(psi_0)**2 + lambda_z**2 - lambda_z**2*sin(psi)**2*sin(psi_0)**2/zeta + lambda_z**2*sin(psi_0)**2/zeta"
      ]
     },
     "execution_count": 92,
     "metadata": {},
     "output_type": "execute_result"
    }
   ],
   "source": [
    "f_factor_mu = sp.collect(f, mu, evaluate = False)\n",
    "f_factor_mu[mu] * 2"
   ]
  },
  {
   "cell_type": "code",
   "execution_count": 93,
   "id": "5551ae89-b05e-47f7-8172-9db0161c8981",
   "metadata": {},
   "outputs": [
    {
     "data": {
      "text/latex": [
       "$\\displaystyle \\mu \\left(\\lambda_{r}^{2} \\left(- \\frac{\\zeta \\sin^{2}{\\left(\\psi \\right)} \\sin^{2}{\\left(\\psi_{0} \\right)}}{2} + \\frac{\\zeta \\sin^{2}{\\left(\\psi_{0} \\right)}}{2} + \\sin^{2}{\\left(\\psi \\right)} \\sin^{2}{\\left(\\psi_{0} \\right)} - \\frac{\\sin^{2}{\\left(\\psi \\right)}}{2} - \\frac{\\sin^{2}{\\left(\\psi_{0} \\right)}}{2} + 1 - \\frac{\\sin^{2}{\\left(\\psi \\right)} \\sin^{2}{\\left(\\psi_{0} \\right)}}{2 \\zeta} + \\frac{\\sin^{2}{\\left(\\psi \\right)}}{2 \\zeta}\\right) + \\lambda_{r} \\lambda_{z} \\left(- \\zeta \\sin{\\left(\\psi \\right)} \\sin{\\left(\\psi_{0} \\right)} \\cos{\\left(\\psi \\right)} \\cos{\\left(\\psi_{0} \\right)} + 2 \\sin{\\left(\\psi \\right)} \\sin{\\left(\\psi_{0} \\right)} \\cos{\\left(\\psi \\right)} \\cos{\\left(\\psi_{0} \\right)} - \\frac{\\sin{\\left(\\psi \\right)} \\sin{\\left(\\psi_{0} \\right)} \\cos{\\left(\\psi \\right)} \\cos{\\left(\\psi_{0} \\right)}}{\\zeta}\\right) + \\lambda_{z}^{2} \\left(- \\frac{\\zeta \\sin^{2}{\\left(\\psi \\right)} \\sin^{2}{\\left(\\psi_{0} \\right)}}{2} + \\frac{\\zeta \\sin^{2}{\\left(\\psi \\right)}}{2} + \\sin^{2}{\\left(\\psi \\right)} \\sin^{2}{\\left(\\psi_{0} \\right)} - \\frac{\\sin^{2}{\\left(\\psi \\right)}}{2} - \\frac{\\sin^{2}{\\left(\\psi_{0} \\right)}}{2} + \\frac{1}{2} - \\frac{\\sin^{2}{\\left(\\psi \\right)} \\sin^{2}{\\left(\\psi_{0} \\right)}}{2 \\zeta} + \\frac{\\sin^{2}{\\left(\\psi_{0} \\right)}}{2 \\zeta}\\right)\\right)$"
      ],
      "text/plain": [
       "mu*(lambda_r**2*(-zeta*sin(psi)**2*sin(psi_0)**2/2 + zeta*sin(psi_0)**2/2 + sin(psi)**2*sin(psi_0)**2 - sin(psi)**2/2 - sin(psi_0)**2/2 + 1 - sin(psi)**2*sin(psi_0)**2/(2*zeta) + sin(psi)**2/(2*zeta)) + lambda_r*lambda_z*(-zeta*sin(psi)*sin(psi_0)*cos(psi)*cos(psi_0) + 2*sin(psi)*sin(psi_0)*cos(psi)*cos(psi_0) - sin(psi)*sin(psi_0)*cos(psi)*cos(psi_0)/zeta) + lambda_z**2*(-zeta*sin(psi)**2*sin(psi_0)**2/2 + zeta*sin(psi)**2/2 + sin(psi)**2*sin(psi_0)**2 - sin(psi)**2/2 - sin(psi_0)**2/2 + 1/2 - sin(psi)**2*sin(psi_0)**2/(2*zeta) + sin(psi_0)**2/(2*zeta)))"
      ]
     },
     "execution_count": 93,
     "metadata": {},
     "output_type": "execute_result"
    }
   ],
   "source": [
    "f = sp.collect(f, [lambda_z*lambda_r, lambda_z, lambda_r])\n",
    "f = sp.collect(f, mu)\n",
    "f"
   ]
  },
  {
   "cell_type": "code",
   "execution_count": 106,
   "id": "5539f779-6bbe-42ab-bde6-d474921ffa45",
   "metadata": {},
   "outputs": [],
   "source": [
    "def remove_brackets_psi(str_1):\n",
    "    str_2 = str_1.replace('\\\\left(\\\\psi_{0} \\\\right)', '\\\\psi_{0}')\n",
    "    str_3 = str_2.replace('\\\\left(\\\\psi \\\\right)', '\\\\psi')\n",
    "    \n",
    "    return str_3"
   ]
  },
  {
   "cell_type": "code",
   "execution_count": 117,
   "id": "4f6160c8-45ca-4c41-9b33-9b57d77a3448",
   "metadata": {},
   "outputs": [
    {
     "name": "stdout",
     "output_type": "stream",
     "text": [
      "- \\lambda_{r}^{2} \\zeta \\sin^{2}{\\psi} \\sin^{2}{\\psi_{0}} + \\lambda_{r}^{2} \\zeta \\sin^{2}{\\psi_{0}} + 2 \\lambda_{r}^{2} \\sin^{2}{\\psi} \\sin^{2}{\\psi_{0}} - \\lambda_{r}^{2} \\sin^{2}{\\psi} - \\lambda_{r}^{2} \\sin^{2}{\\psi_{0}} + 2 \\lambda_{r}^{2} - \\frac{\\lambda_{r}^{2} \\sin^{2}{\\psi} \\sin^{2}{\\psi_{0}}}{\\zeta} + \\frac{\\lambda_{r}^{2} \\sin^{2}{\\psi}}{\\zeta} - 2 \\lambda_{r} \\lambda_{z} \\zeta \\sin{\\psi} \\sin{\\psi_{0}} \\cos{\\psi} \\cos{\\psi_{0}} + 4 \\lambda_{r} \\lambda_{z} \\sin{\\psi} \\sin{\\psi_{0}} \\cos{\\psi} \\cos{\\psi_{0}} - \\frac{2 \\lambda_{r} \\lambda_{z} \\sin{\\psi} \\sin{\\psi_{0}} \\cos{\\psi} \\cos{\\psi_{0}}}{\\zeta} - \\lambda_{z}^{2} \\zeta \\sin^{2}{\\psi} \\sin^{2}{\\psi_{0}} + \\lambda_{z}^{2} \\zeta \\sin^{2}{\\psi} + 2 \\lambda_{z}^{2} \\sin^{2}{\\psi} \\sin^{2}{\\psi_{0}} - \\lambda_{z}^{2} \\sin^{2}{\\psi} - \\lambda_{z}^{2} \\sin^{2}{\\psi_{0}} + \\lambda_{z}^{2} - \\frac{\\lambda_{z}^{2} \\sin^{2}{\\psi} \\sin^{2}{\\psi_{0}}}{\\zeta} + \\frac{\\lambda_{z}^{2} \\sin^{2}{\\psi_{0}}}{\\zeta}\n"
     ]
    }
   ],
   "source": [
    "print(remove_brackets_psi(sp.printing.latex(f_factor_mu[mu] * 2)))"
   ]
  },
  {
   "cell_type": "code",
   "execution_count": 110,
   "id": "ad38934a-61af-4dad-a594-2de4fdfa0749",
   "metadata": {},
   "outputs": [
    {
     "name": "stdout",
     "output_type": "stream",
     "text": [
      "lambda_r**2:  \\zeta \\left(- \\sin^{2}{\\psi} \\sin^{2}{\\psi_{0}} + \\sin^{2}{\\psi_{0}}\\right) + 2 \\sin^{2}{\\psi} \\sin^{2}{\\psi_{0}} - \\sin^{2}{\\psi} - \\sin^{2}{\\psi_{0}} + 2 + \\frac{- \\sin^{2}{\\psi} \\sin^{2}{\\psi_{0}} + \\sin^{2}{\\psi}}{\\zeta}\n",
      "lambda_r*lambda_z:  - 2 \\zeta \\sin{\\psi} \\sin{\\psi_{0}} \\cos{\\psi} \\cos{\\psi_{0}} + 4 \\sin{\\psi} \\sin{\\psi_{0}} \\cos{\\psi} \\cos{\\psi_{0}} - \\frac{2 \\sin{\\psi} \\sin{\\psi_{0}} \\cos{\\psi} \\cos{\\psi_{0}}}{\\zeta}\n",
      "lambda_z**2:  \\zeta \\left(- \\sin^{2}{\\psi} \\sin^{2}{\\psi_{0}} + \\sin^{2}{\\psi}\\right) + 2 \\sin^{2}{\\psi} \\sin^{2}{\\psi_{0}} - \\sin^{2}{\\psi} - \\sin^{2}{\\psi_{0}} + 1 + \\frac{- \\sin^{2}{\\psi} \\sin^{2}{\\psi_{0}} + \\sin^{2}{\\psi_{0}}}{\\zeta}\n"
     ]
    }
   ],
   "source": [
    "f_collect_lambdas = sp.collect(f, [lambda_z*lambda_r, lambda_z, lambda_r], evaluate = False)\n",
    "print(\"lambda_r**2: \", remove_brackets_psi(sp.printing.latex(sp.collect(sp.expand(2/mu * f_collect_lambdas[lambda_r**2]), zeta))))\n",
    "print(\"lambda_r*lambda_z: \", remove_brackets_psi(sp.printing.latex(sp.collect(sp.expand(2/mu * f_collect_lambdas[lambda_r*lambda_z]), zeta))))\n",
    "print(\"lambda_z**2: \", remove_brackets_psi(sp.printing.latex(sp.collect(sp.expand(2/mu * f_collect_lambdas[lambda_z**2]), zeta))))"
   ]
  },
  {
   "cell_type": "code",
   "execution_count": 18,
   "id": "0dacf7a1-0f66-4b9b-bfcc-f7ac44aa7795",
   "metadata": {},
   "outputs": [
    {
     "data": {
      "text/latex": [
       "$\\displaystyle \\lambda_{r}^{2} \\left(\\mu \\sin^{2}{\\left(\\psi \\right)} \\sin^{2}{\\left(\\psi_{0} \\right)} + \\mu\\right) + \\lambda_{r} \\lambda_{z} \\left(- \\mu \\zeta \\sin{\\left(\\psi \\right)} \\sin{\\left(\\psi_{0} \\right)} \\cos{\\left(\\psi \\right)} \\cos{\\left(\\psi_{0} \\right)} + 2 \\mu \\sin{\\left(\\psi \\right)} \\sin{\\left(\\psi_{0} \\right)} \\cos{\\left(\\psi \\right)} \\cos{\\left(\\psi_{0} \\right)} - \\frac{\\mu \\sin{\\left(\\psi \\right)} \\sin{\\left(\\psi_{0} \\right)} \\cos{\\left(\\psi \\right)} \\cos{\\left(\\psi_{0} \\right)}}{\\zeta}\\right) + \\lambda_{z}^{2} \\mu \\sin^{2}{\\left(\\psi \\right)} \\sin^{2}{\\left(\\psi_{0} \\right)} + \\frac{\\mu \\left(\\lambda_{r}^{2} \\left(- \\zeta \\sin^{2}{\\left(\\psi \\right)} \\sin^{2}{\\left(\\psi_{0} \\right)} + \\zeta \\sin^{2}{\\left(\\psi_{0} \\right)} - \\sin^{2}{\\left(\\psi \\right)} - \\sin^{2}{\\left(\\psi_{0} \\right)} - \\frac{\\sin^{2}{\\left(\\psi \\right)} \\sin^{2}{\\left(\\psi_{0} \\right)}}{\\zeta} + \\frac{\\sin^{2}{\\left(\\psi \\right)}}{\\zeta}\\right) + \\lambda_{z}^{2} \\left(- \\zeta \\sin^{2}{\\left(\\psi \\right)} \\sin^{2}{\\left(\\psi_{0} \\right)} + \\zeta \\sin^{2}{\\left(\\psi \\right)} - \\sin^{2}{\\left(\\psi \\right)} - \\sin^{2}{\\left(\\psi_{0} \\right)} + 1 - \\frac{\\sin^{2}{\\left(\\psi \\right)} \\sin^{2}{\\left(\\psi_{0} \\right)}}{\\zeta} + \\frac{\\sin^{2}{\\left(\\psi_{0} \\right)}}{\\zeta}\\right)\\right)}{2}$"
      ],
      "text/plain": [
       "lambda_r**2*(mu*sin(psi)**2*sin(psi_0)**2 + mu) + lambda_r*lambda_z*(-mu*zeta*sin(psi)*sin(psi_0)*cos(psi)*cos(psi_0) + 2*mu*sin(psi)*sin(psi_0)*cos(psi)*cos(psi_0) - mu*sin(psi)*sin(psi_0)*cos(psi)*cos(psi_0)/zeta) + lambda_z**2*mu*sin(psi)**2*sin(psi_0)**2 + mu*(lambda_r**2*(-zeta*sin(psi)**2*sin(psi_0)**2 + zeta*sin(psi_0)**2 - sin(psi)**2 - sin(psi_0)**2 - sin(psi)**2*sin(psi_0)**2/zeta + sin(psi)**2/zeta) + lambda_z**2*(-zeta*sin(psi)**2*sin(psi_0)**2 + zeta*sin(psi)**2 - sin(psi)**2 - sin(psi_0)**2 + 1 - sin(psi)**2*sin(psi_0)**2/zeta + sin(psi_0)**2/zeta))/2"
      ]
     },
     "execution_count": 18,
     "metadata": {},
     "output_type": "execute_result"
    }
   ],
   "source": [
    "sp.collect(f, [lambda_z*lambda_r, lambda_z, lambda_r])"
   ]
  },
  {
   "cell_type": "code",
   "execution_count": 77,
   "id": "83f4ad4e-b1ae-4e46-9cd7-93c8bb1334df",
   "metadata": {},
   "outputs": [
    {
     "name": "stdout",
     "output_type": "stream",
     "text": [
      "there is the funnel cake\n"
     ]
    }
   ],
   "source": [
    "str_1 = \"here is the pancake\"\n",
    "\n",
    "str_2 = str_1.replace('here', 'there')\n",
    "\n",
    "print(str_1)\n",
    "print(str_2)\n",
    "\n",
    "str_3 = str_2.replace('pan', 'funnel ')\n",
    "print(str_3)"
   ]
  }
 ],
 "metadata": {
  "kernelspec": {
   "display_name": "Python 3 (ipykernel)",
   "language": "python",
   "name": "python3"
  },
  "language_info": {
   "codemirror_mode": {
    "name": "ipython",
    "version": 3
   },
   "file_extension": ".py",
   "mimetype": "text/x-python",
   "name": "python",
   "nbconvert_exporter": "python",
   "pygments_lexer": "ipython3",
   "version": "3.9.12"
  }
 },
 "nbformat": 4,
 "nbformat_minor": 5
}
