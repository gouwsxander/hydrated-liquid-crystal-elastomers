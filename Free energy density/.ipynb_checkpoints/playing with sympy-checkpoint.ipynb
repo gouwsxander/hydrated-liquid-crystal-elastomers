{
 "cells": [
  {
   "cell_type": "markdown",
   "metadata": {},
   "source": [
    "# Tutorial"
   ]
  },
  {
   "cell_type": "markdown",
   "metadata": {},
   "source": [
    "## symbolic computation"
   ]
  },
  {
   "cell_type": "code",
   "execution_count": 1,
   "metadata": {},
   "outputs": [],
   "source": [
    "import sympy\n",
    "import math"
   ]
  },
  {
   "cell_type": "code",
   "execution_count": 2,
   "metadata": {},
   "outputs": [
    {
     "data": {
      "text/plain": [
       "1.7320508075688772"
      ]
     },
     "execution_count": 2,
     "metadata": {},
     "output_type": "execute_result"
    }
   ],
   "source": [
    "math.sqrt(3)"
   ]
  },
  {
   "cell_type": "code",
   "execution_count": 3,
   "metadata": {},
   "outputs": [
    {
     "data": {
      "text/latex": [
       "$\\displaystyle \\sqrt{3}$"
      ],
      "text/plain": [
       "sqrt(3)"
      ]
     },
     "execution_count": 3,
     "metadata": {},
     "output_type": "execute_result"
    }
   ],
   "source": [
    "sympy.sqrt(3)"
   ]
  },
  {
   "cell_type": "markdown",
   "metadata": {},
   "source": [
    "## expressions"
   ]
  },
  {
   "cell_type": "code",
   "execution_count": 6,
   "metadata": {},
   "outputs": [
    {
     "name": "stdout",
     "output_type": "stream",
     "text": [
      "x + 2*y\n"
     ]
    },
    {
     "data": {
      "text/latex": [
       "$\\displaystyle x + 2 y$"
      ],
      "text/plain": [
       "x + 2*y"
      ]
     },
     "execution_count": 6,
     "metadata": {},
     "output_type": "execute_result"
    }
   ],
   "source": [
    "from sympy import symbols\n",
    "\n",
    "x, y = symbols('x y')\n",
    "\n",
    "expr = x + 2*y\n",
    "\n",
    "print(expr)\n",
    "expr"
   ]
  },
  {
   "cell_type": "code",
   "execution_count": 11,
   "metadata": {},
   "outputs": [
    {
     "data": {
      "text/latex": [
       "$\\displaystyle x - y + 1$"
      ],
      "text/plain": [
       "x - y + 1"
      ]
     },
     "execution_count": 11,
     "metadata": {},
     "output_type": "execute_result"
    }
   ],
   "source": [
    "expr - 3*y + 1"
   ]
  },
  {
   "cell_type": "code",
   "execution_count": 12,
   "metadata": {},
   "outputs": [
    {
     "data": {
      "text/latex": [
       "$\\displaystyle x \\left(x + 2 y\\right)$"
      ],
      "text/plain": [
       "x*(x + 2*y)"
      ]
     },
     "execution_count": 12,
     "metadata": {},
     "output_type": "execute_result"
    }
   ],
   "source": [
    "x * expr"
   ]
  },
  {
   "cell_type": "markdown",
   "metadata": {},
   "source": [
    "Note that the terms were not automatically distributed.\n",
    "\n",
    "Only obvious simplifications are performed.\n",
    "\n",
    "In this case, the factored and unfactored expressions could each be useful in different contexts."
   ]
  },
  {
   "cell_type": "code",
   "execution_count": 13,
   "metadata": {},
   "outputs": [
    {
     "data": {
      "text/latex": [
       "$\\displaystyle x^{2} + 2 x y$"
      ],
      "text/plain": [
       "x**2 + 2*x*y"
      ]
     },
     "execution_count": 13,
     "metadata": {},
     "output_type": "execute_result"
    }
   ],
   "source": [
    "from sympy import expand, factor\n",
    "\n",
    "expanded_expr = expand(x * expr)\n",
    "expanded_expr"
   ]
  },
  {
   "cell_type": "code",
   "execution_count": 14,
   "metadata": {},
   "outputs": [
    {
     "data": {
      "text/latex": [
       "$\\displaystyle x \\left(x + 2 y\\right)$"
      ],
      "text/plain": [
       "x*(x + 2*y)"
      ]
     },
     "execution_count": 14,
     "metadata": {},
     "output_type": "execute_result"
    }
   ],
   "source": [
    "factored_expr = factor(expanded_expr)\n",
    "factored_expr"
   ]
  },
  {
   "cell_type": "code",
   "execution_count": 15,
   "metadata": {},
   "outputs": [
    {
     "data": {
      "text/latex": [
       "$\\displaystyle - x^{5} + x^{4} y + x^{4} - x^{2} y^{2} - x^{2} y + x y^{2}$"
      ],
      "text/plain": [
       "-x**5 + x**4*y + x**4 - x**2*y**2 - x**2*y + x*y**2"
      ]
     },
     "execution_count": 15,
     "metadata": {},
     "output_type": "execute_result"
    }
   ],
   "source": [
    "expand(x*(x-1)*(y-x)*(x**2 - y))"
   ]
  },
  {
   "cell_type": "markdown",
   "metadata": {},
   "source": [
    "## Calculus"
   ]
  },
  {
   "cell_type": "code",
   "execution_count": 16,
   "metadata": {},
   "outputs": [],
   "source": [
    "from sympy import *\n",
    "x, t, z, nu = symbols('x t z nu')"
   ]
  },
  {
   "cell_type": "code",
   "execution_count": 18,
   "metadata": {},
   "outputs": [],
   "source": [
    "init_printing(use_unicode=True)"
   ]
  },
  {
   "cell_type": "code",
   "execution_count": 28,
   "metadata": {},
   "outputs": [
    {
     "data": {
      "image/png": "[encoded data removed]",
      "text/latex": [
       "$\\displaystyle 1$"
      ],
      "text/plain": [
       "1"
      ]
     },
     "execution_count": 28,
     "metadata": {},
     "output_type": "execute_result"
    }
   ],
   "source": [
    "limit(sin(x) / (exp(x) - 1), x, 0)"
   ]
  },
  {
   "cell_type": "code",
   "execution_count": 25,
   "metadata": {},
   "outputs": [
    {
     "name": "stdout",
     "output_type": "stream",
     "text": [
      "exp(x)*sin(x)\n",
      "exp(x)*sin(x) + exp(x)*cos(x)\n",
      "exp(x)*sin(x)\n"
     ]
    }
   ],
   "source": [
    "y = sin(x) * exp(x)\n",
    "print(y)\n",
    "\n",
    "deriv = diff(y, x)\n",
    "print(deriv)\n",
    "\n",
    "integral = integrate(deriv, x)\n",
    "print(integral)"
   ]
  },
  {
   "cell_type": "code",
   "execution_count": 26,
   "metadata": {},
   "outputs": [
    {
     "data": {
      "image/png": "[encoded data removed]",
      "text/latex": [
       "$\\displaystyle \\frac{\\sqrt{2} \\sqrt{\\pi}}{2}$"
      ],
      "text/plain": [
       "√2⋅√π\n",
       "─────\n",
       "  2  "
      ]
     },
     "execution_count": 26,
     "metadata": {},
     "output_type": "execute_result"
    }
   ],
   "source": [
    "integrate(sin(x**2), (x, -oo, oo))"
   ]
  },
  {
   "cell_type": "code",
   "execution_count": null,
   "metadata": {},
   "outputs": [],
   "source": []
  },
  {
   "cell_type": "markdown",
   "metadata": {},
   "source": [
    "## Solve equations"
   ]
  },
  {
   "cell_type": "code",
   "execution_count": 29,
   "metadata": {},
   "outputs": [
    {
     "data": {
      "image/png": "[encoded data removed]",
      "text/latex": [
       "$\\displaystyle \\left[ - \\sqrt{2}, \\  \\sqrt{2}\\right]$"
      ],
      "text/plain": [
       "[-√2, √2]"
      ]
     },
     "execution_count": 29,
     "metadata": {},
     "output_type": "execute_result"
    }
   ],
   "source": [
    "solve(x**2 - 2, x)"
   ]
  },
  {
   "cell_type": "code",
   "execution_count": 30,
   "metadata": {},
   "outputs": [
    {
     "data": {
      "image/png": "[encoded data removed]",
      "text/latex": [
       "$\\displaystyle \\left[ \\frac{1}{2} - \\frac{\\sqrt{3} i}{2}, \\  \\frac{1}{2} + \\frac{\\sqrt{3} i}{2}, \\  - \\frac{1}{3} + \\left(- \\frac{1}{2} - \\frac{\\sqrt{3} i}{2}\\right) \\sqrt[3]{\\frac{\\sqrt{69}}{18} + \\frac{25}{54}} + \\frac{1}{9 \\left(- \\frac{1}{2} - \\frac{\\sqrt{3} i}{2}\\right) \\sqrt[3]{\\frac{\\sqrt{69}}{18} + \\frac{25}{54}}}, \\  - \\frac{1}{3} + \\frac{1}{9 \\left(- \\frac{1}{2} + \\frac{\\sqrt{3} i}{2}\\right) \\sqrt[3]{\\frac{\\sqrt{69}}{18} + \\frac{25}{54}}} + \\left(- \\frac{1}{2} + \\frac{\\sqrt{3} i}{2}\\right) \\sqrt[3]{\\frac{\\sqrt{69}}{18} + \\frac{25}{54}}, \\  - \\frac{1}{3} + \\frac{1}{9 \\sqrt[3]{\\frac{\\sqrt{69}}{18} + \\frac{25}{54}}} + \\sqrt[3]{\\frac{\\sqrt{69}}{18} + \\frac{25}{54}}\\right]$"
      ],
      "text/plain": [
       "⎡                                           __________                        \n",
       "⎢1   √3⋅ⅈ  1   √3⋅ⅈ    1   ⎛  1   √3⋅ⅈ⎞    ╱ √69   25                  1      \n",
       "⎢─ - ────, ─ + ────, - ─ + ⎜- ─ - ────⎟⋅3 ╱  ─── + ──  + ─────────────────────\n",
       "⎢2    2    2    2      3   ⎝  2    2  ⎠ ╲╱    18   54                       __\n",
       "⎢                                                          ⎛  1   √3⋅ⅈ⎞    ╱ √\n",
       "⎢                                                        9⋅⎜- ─ - ────⎟⋅3 ╱  ─\n",
       "⎣                                                          ⎝  2    2  ⎠ ╲╱    \n",
       "\n",
       "                                                                 __________   \n",
       "            1                 1                 ⎛  1   √3⋅ⅈ⎞    ╱ √69   25    \n",
       "────────, - ─ + ───────────────────────────── + ⎜- ─ + ────⎟⋅3 ╱  ─── + ── , -\n",
       "________    3                      __________   ⎝  2    2  ⎠ ╲╱    18   54    \n",
       "69   25           ⎛  1   √3⋅ⅈ⎞    ╱ √69   25                                  \n",
       "── + ──         9⋅⎜- ─ + ────⎟⋅3 ╱  ─── + ──                                  \n",
       "18   54           ⎝  2    2  ⎠ ╲╱    18   54                                  \n",
       "\n",
       "                            __________⎤\n",
       " 1          1              ╱ √69   25 ⎥\n",
       " ─ + ──────────────── + 3 ╱  ─── + ── ⎥\n",
       " 3         __________   ╲╱    18   54 ⎥\n",
       "          ╱ √69   25                  ⎥\n",
       "     9⋅3 ╱  ─── + ──                  ⎥\n",
       "       ╲╱    18   54                  ⎦"
      ]
     },
     "execution_count": 30,
     "metadata": {},
     "output_type": "execute_result"
    }
   ],
   "source": [
    "solve(x**5 + x - 1, x)"
   ]
  },
  {
   "cell_type": "code",
   "execution_count": 32,
   "metadata": {},
   "outputs": [
    {
     "data": {
      "image/png": "[encoded data removed]",
      "text/latex": [
       "$\\displaystyle \\left[ \\operatorname{CRootOf} {\\left(x^{5} + 3 x^{3} - x - 1, 0\\right)}, \\  \\operatorname{CRootOf} {\\left(x^{5} + 3 x^{3} - x - 1, 1\\right)}, \\  \\operatorname{CRootOf} {\\left(x^{5} + 3 x^{3} - x - 1, 2\\right)}, \\  \\operatorname{CRootOf} {\\left(x^{5} + 3 x^{3} - x - 1, 3\\right)}, \\  \\operatorname{CRootOf} {\\left(x^{5} + 3 x^{3} - x - 1, 4\\right)}\\right]$"
      ],
      "text/plain": [
       "⎡       ⎛ 5      3           ⎞         ⎛ 5      3           ⎞         ⎛ 5     \n",
       "⎣CRootOf⎝x  + 3⋅x  - x - 1, 0⎠, CRootOf⎝x  + 3⋅x  - x - 1, 1⎠, CRootOf⎝x  + 3⋅\n",
       "\n",
       " 3           ⎞         ⎛ 5      3           ⎞         ⎛ 5      3           ⎞⎤\n",
       "x  - x - 1, 2⎠, CRootOf⎝x  + 3⋅x  - x - 1, 3⎠, CRootOf⎝x  + 3⋅x  - x - 1, 4⎠⎦"
      ]
     },
     "execution_count": 32,
     "metadata": {},
     "output_type": "execute_result"
    }
   ],
   "source": [
    "solve(x**5 + 3 * x**3 - x - 1, x)"
   ]
  },
  {
   "cell_type": "markdown",
   "metadata": {},
   "source": [
    "## Differential equations"
   ]
  },
  {
   "cell_type": "markdown",
   "metadata": {},
   "source": [
    "Here we solve the differential equation $y''(t) - y(t) = e^t$."
   ]
  },
  {
   "cell_type": "code",
   "execution_count": 37,
   "metadata": {},
   "outputs": [
    {
     "data": {
      "image/png": "[encoded data removed]",
      "text/latex": [
       "$\\displaystyle y{\\left(t \\right)} = 1 - e^{t}$"
      ],
      "text/plain": [
       "            t\n",
       "y(t) = 1 - ℯ "
      ]
     },
     "execution_count": 37,
     "metadata": {},
     "output_type": "execute_result"
    }
   ],
   "source": [
    "y = Function('y')\n",
    "\n",
    "LHS = y.diff(t, t) - y(t)\n",
    "RHS = exp(t)\n",
    "\n",
    "sympy.solvers.ode.dsolve(Eq(LHS, RHS), y(t))"
   ]
  },
  {
   "cell_type": "markdown",
   "metadata": {},
   "source": [
    "... hmmm"
   ]
  },
  {
   "cell_type": "markdown",
   "metadata": {},
   "source": [
    "## Matrices"
   ]
  },
  {
   "cell_type": "code",
   "execution_count": 40,
   "metadata": {},
   "outputs": [
    {
     "data": {
      "image/png": "[encoded data removed]",
      "text/latex": [
       "$\\displaystyle \\left[\\begin{matrix}1 & 2\\\\2 & 2\\end{matrix}\\right]$"
      ],
      "text/plain": [
       "⎡1  2⎤\n",
       "⎢    ⎥\n",
       "⎣2  2⎦"
      ]
     },
     "execution_count": 40,
     "metadata": {},
     "output_type": "execute_result"
    }
   ],
   "source": [
    "M = Matrix([[1, 2], [2, 2]])\n",
    "M"
   ]
  },
  {
   "cell_type": "code",
   "execution_count": 41,
   "metadata": {},
   "outputs": [
    {
     "data": {
      "image/png": "[encoded data removed]",
      "text/latex": [
       "$\\displaystyle \\left\\{ \\frac{3}{2} - \\frac{\\sqrt{17}}{2} : 1, \\  \\frac{3}{2} + \\frac{\\sqrt{17}}{2} : 1\\right\\}$"
      ],
      "text/plain": [
       "⎧3   √17     3   √17   ⎫\n",
       "⎨─ - ───: 1, ─ + ───: 1⎬\n",
       "⎩2    2      2    2    ⎭"
      ]
     },
     "execution_count": 41,
     "metadata": {},
     "output_type": "execute_result"
    }
   ],
   "source": [
    "M.eigenvals()"
   ]
  },
  {
   "cell_type": "markdown",
   "metadata": {},
   "source": [
    "## Simplify\n",
    "\n",
    "simplify(expr) --> simplifications\n",
    "\n",
    "expand(expr) --> expand multiplication\n",
    "\n",
    "factor(expr) --> factors expressions\n",
    "\n",
    "collect(expr, term) --> collect common powers of a term.\n",
    "\n",
    "cancel(rational_expr) --> cancel like-terms in numerator and denominator\n",
    "\n",
    "apart(rational_expr) --> separate the addition in the numerator\n",
    "\n",
    "expr.rewrite(function) --> rewrite the expression in terms of another function e.g. tan(x).rewrite(sin)"
   ]
  },
  {
   "cell_type": "markdown",
   "metadata": {},
   "source": [
    "simplify(expr)"
   ]
  },
  {
   "cell_type": "markdown",
   "metadata": {},
   "source": [
    "# Trying Matthew calculations"
   ]
  },
  {
   "cell_type": "code",
   "execution_count": 31,
   "metadata": {},
   "outputs": [],
   "source": [
    "import sympy as sp"
   ]
  },
  {
   "cell_type": "code",
   "execution_count": 32,
   "metadata": {},
   "outputs": [],
   "source": [
    "a, b, r = sp.symbols('a b r')"
   ]
  },
  {
   "cell_type": "code",
   "execution_count": 33,
   "metadata": {},
   "outputs": [],
   "source": [
    "psi_0 = a*r  # b"
   ]
  },
  {
   "cell_type": "code",
   "execution_count": 34,
   "metadata": {},
   "outputs": [],
   "source": [
    "psi = sp.symbols('psi')"
   ]
  },
  {
   "cell_type": "code",
   "execution_count": 63,
   "metadata": {},
   "outputs": [
    {
     "data": {
      "text/latex": [
       "$\\displaystyle \\left[\\begin{matrix}\\cos{\\left(\\phi \\right)}\\\\\\sin{\\left(\\phi \\right)}\\\\0\\end{matrix}\\right]$"
      ],
      "text/plain": [
       "⎡cos(φ)⎤\n",
       "⎢      ⎥\n",
       "⎢sin(φ)⎥\n",
       "⎢      ⎥\n",
       "⎣  0   ⎦"
      ]
     },
     "execution_count": 63,
     "metadata": {},
     "output_type": "execute_result"
    }
   ],
   "source": [
    "r, phi = sp.symbols('r phi')\n",
    "x, y, z = sp.symbols('x y z')\n",
    "\n",
    "#x = r * sp.cos(phi)\n",
    "#y = r * sp.sin(phi)\n",
    "\n",
    "x_hat = sp.Matrix([1, 0, 0])\n",
    "y_hat = sp.Matrix([0, 1, 0])\n",
    "z_hat = sp.Matrix([0, 0, 1])\n",
    "\n",
    "r_hat = sp.cos(phi) * x_hat + sp.sin(phi) * y_hat\n",
    "phi_hat = - sp.sin(phi) * x_hat + sp.cos(phi) * y_hat\n",
    "\n",
    "r_hat"
   ]
  },
  {
   "cell_type": "code",
   "execution_count": 69,
   "metadata": {},
   "outputs": [],
   "source": [
    "#n_hat = - sp.sin(psi) * P.p + sp.cos(psi) * P.z\n",
    "#n_hat_0 = - sp.sin(psi_0) * P.p + sp.cos(psi_0) * P.z\n",
    "\n",
    "n_hat = - sp.sin(psi) * phi_hat + sp.cos(psi) * z_hat\n",
    "n_hat_0 = n_hat.subs(psi, psi_0) #- sp.sin(psi_0) * phi_hat + sp.cos(psi_0) * z_hat"
   ]
  },
  {
   "cell_type": "code",
   "execution_count": 70,
   "metadata": {},
   "outputs": [
    {
     "data": {
      "text/latex": [
       "$\\displaystyle \\left[\\begin{matrix}\\sin{\\left(\\phi \\right)} \\sin{\\left(\\psi \\right)}\\\\- \\sin{\\left(\\psi \\right)} \\cos{\\left(\\phi \\right)}\\\\\\cos{\\left(\\psi \\right)}\\end{matrix}\\right]$"
      ],
      "text/plain": [
       "⎡sin(φ)⋅sin(ψ) ⎤\n",
       "⎢              ⎥\n",
       "⎢-sin(ψ)⋅cos(φ)⎥\n",
       "⎢              ⎥\n",
       "⎣    cos(ψ)    ⎦"
      ]
     },
     "execution_count": 70,
     "metadata": {},
     "output_type": "execute_result"
    }
   ],
   "source": [
    "n_hat"
   ]
  },
  {
   "cell_type": "code",
   "execution_count": 71,
   "metadata": {},
   "outputs": [
    {
     "data": {
      "text/latex": [
       "$\\displaystyle \\left[\\begin{matrix}\\sin{\\left(\\phi \\right)} \\sin{\\left(a r \\right)}\\\\- \\sin{\\left(a r \\right)} \\cos{\\left(\\phi \\right)}\\\\\\cos{\\left(a r \\right)}\\end{matrix}\\right]$"
      ],
      "text/plain": [
       "⎡sin(φ)⋅sin(a⋅r) ⎤\n",
       "⎢                ⎥\n",
       "⎢-sin(a⋅r)⋅cos(φ)⎥\n",
       "⎢                ⎥\n",
       "⎣    cos(a⋅r)    ⎦"
      ]
     },
     "execution_count": 71,
     "metadata": {},
     "output_type": "execute_result"
    }
   ],
   "source": [
    "n_hat_0"
   ]
  },
  {
   "cell_type": "code",
   "execution_count": 91,
   "metadata": {},
   "outputs": [
    {
     "data": {
      "text/latex": [
       "$\\displaystyle \\left[\\begin{matrix}\\sin^{2}{\\left(\\phi \\right)} \\sin^{2}{\\left(\\psi \\right)} & - \\sin{\\left(\\phi \\right)} \\sin^{2}{\\left(\\psi \\right)} \\cos{\\left(\\phi \\right)} & \\sin{\\left(\\phi \\right)} \\sin{\\left(\\psi \\right)} \\cos{\\left(\\psi \\right)}\\\\- \\sin{\\left(\\phi \\right)} \\sin^{2}{\\left(\\psi \\right)} \\cos{\\left(\\phi \\right)} & \\sin^{2}{\\left(\\psi \\right)} \\cos^{2}{\\left(\\phi \\right)} & - \\sin{\\left(\\psi \\right)} \\cos{\\left(\\phi \\right)} \\cos{\\left(\\psi \\right)}\\\\\\sin{\\left(\\phi \\right)} \\sin{\\left(\\psi \\right)} \\cos{\\left(\\psi \\right)} & - \\sin{\\left(\\psi \\right)} \\cos{\\left(\\phi \\right)} \\cos{\\left(\\psi \\right)} & \\cos^{2}{\\left(\\psi \\right)}\\end{matrix}\\right]$"
      ],
      "text/plain": [
       "⎡      2       2                    2                                 ⎤\n",
       "⎢   sin (φ)⋅sin (ψ)      -sin(φ)⋅sin (ψ)⋅cos(φ)  sin(φ)⋅sin(ψ)⋅cos(ψ) ⎥\n",
       "⎢                                                                     ⎥\n",
       "⎢           2                  2       2                              ⎥\n",
       "⎢-sin(φ)⋅sin (ψ)⋅cos(φ)     sin (ψ)⋅cos (φ)      -sin(ψ)⋅cos(φ)⋅cos(ψ)⎥\n",
       "⎢                                                                     ⎥\n",
       "⎢                                                          2          ⎥\n",
       "⎣ sin(φ)⋅sin(ψ)⋅cos(ψ)   -sin(ψ)⋅cos(φ)⋅cos(ψ)          cos (ψ)       ⎦"
      ]
     },
     "execution_count": 91,
     "metadata": {},
     "output_type": "execute_result"
    }
   ],
   "source": [
    "n_hat * sp.transpose(n_hat)"
   ]
  },
  {
   "cell_type": "code",
   "execution_count": 102,
   "metadata": {},
   "outputs": [
    {
     "data": {
      "text/latex": [
       "$\\displaystyle \\left[\\begin{matrix}0 & 0 & 0\\\\0 & \\sin^{2}{\\left(\\psi \\right)} & - \\sin{\\left(\\psi \\right)} \\cos{\\left(\\psi \\right)}\\\\0 & - \\sin{\\left(\\psi \\right)} \\cos{\\left(\\psi \\right)} & \\cos^{2}{\\left(\\psi \\right)}\\end{matrix}\\right]$"
      ],
      "text/plain": [
       "⎡0        0               0       ⎤\n",
       "⎢                                 ⎥\n",
       "⎢         2                       ⎥\n",
       "⎢0     sin (ψ)      -sin(ψ)⋅cos(ψ)⎥\n",
       "⎢                                 ⎥\n",
       "⎢                         2       ⎥\n",
       "⎣0  -sin(ψ)⋅cos(ψ)     cos (ψ)    ⎦"
      ]
     },
     "execution_count": 102,
     "metadata": {},
     "output_type": "execute_result"
    }
   ],
   "source": [
    "(n_hat * sp.transpose(n_hat)).subs(phi, 0)"
   ]
  },
  {
   "cell_type": "code",
   "execution_count": 55,
   "metadata": {},
   "outputs": [
    {
     "data": {
      "image/png": "[encoded data removed]",
      "text/latex": [
       "$\\displaystyle \\lambda_{z}$"
      ],
      "text/plain": [
       "λ_z"
      ]
     },
     "execution_count": 55,
     "metadata": {},
     "output_type": "execute_result"
    }
   ],
   "source": [
    "lambda_z = sp.symbols('lambda_z')\n",
    "lambda_z"
   ]
  },
  {
   "cell_type": "code",
   "execution_count": 43,
   "metadata": {},
   "outputs": [
    {
     "data": {
      "text/latex": [
       "$\\displaystyle \\left[\\begin{matrix}\\frac{1}{\\sqrt{\\lambda_{z}}} & 0 & 0\\\\0 & \\frac{1}{\\sqrt{\\lambda_{z}}} & 0\\\\0 & 0 & \\lambda_{z}\\end{matrix}\\right]$"
      ],
      "text/plain": [
       "⎡   1                 ⎤\n",
       "⎢───────     0      0 ⎥\n",
       "⎢  _____              ⎥\n",
       "⎢╲╱ λ_z               ⎥\n",
       "⎢                     ⎥\n",
       "⎢            1        ⎥\n",
       "⎢   0     ───────   0 ⎥\n",
       "⎢           _____     ⎥\n",
       "⎢         ╲╱ λ_z      ⎥\n",
       "⎢                     ⎥\n",
       "⎣   0        0     λ_z⎦"
      ]
     },
     "execution_count": 43,
     "metadata": {},
     "output_type": "execute_result"
    }
   ],
   "source": [
    "lambda_ = sp.diag(1/sp.sqrt(lambda_z), 1/sp.sqrt(lambda_z), lambda_z)\n",
    "lambda_"
   ]
  },
  {
   "cell_type": "code",
   "execution_count": 44,
   "metadata": {},
   "outputs": [],
   "source": [
    "zeta, mu = sp.symbols('zeta mu')"
   ]
  },
  {
   "cell_type": "code",
   "execution_count": 72,
   "metadata": {},
   "outputs": [
    {
     "data": {
      "text/latex": [
       "$\\displaystyle \\left[\\begin{matrix}1 & 0 & 0\\\\0 & 1 & 0\\\\0 & 0 & 1\\end{matrix}\\right]$"
      ],
      "text/plain": [
       "⎡1  0  0⎤\n",
       "⎢       ⎥\n",
       "⎢0  1  0⎥\n",
       "⎢       ⎥\n",
       "⎣0  0  1⎦"
      ]
     },
     "execution_count": 72,
     "metadata": {},
     "output_type": "execute_result"
    }
   ],
   "source": [
    "delta = sp.eye(3)\n",
    "delta"
   ]
  },
  {
   "cell_type": "code",
   "execution_count": 73,
   "metadata": {},
   "outputs": [],
   "source": [
    "l = delta + (zeta - 1) * (n_hat * sp.transpose(n_hat))\n",
    "l_0 = l.subs(psi, psi_0)"
   ]
  },
  {
   "cell_type": "code",
   "execution_count": 74,
   "metadata": {},
   "outputs": [
    {
     "data": {
      "text/latex": [
       "$\\displaystyle \\left[\\begin{matrix}\\left(\\zeta - 1\\right) \\sin^{2}{\\left(\\phi \\right)} \\sin^{2}{\\left(\\psi \\right)} + 1 & - \\left(\\zeta - 1\\right) \\sin{\\left(\\phi \\right)} \\sin^{2}{\\left(\\psi \\right)} \\cos{\\left(\\phi \\right)} & \\left(\\zeta - 1\\right) \\sin{\\left(\\phi \\right)} \\sin{\\left(\\psi \\right)} \\cos{\\left(\\psi \\right)}\\\\- \\left(\\zeta - 1\\right) \\sin{\\left(\\phi \\right)} \\sin^{2}{\\left(\\psi \\right)} \\cos{\\left(\\phi \\right)} & \\left(\\zeta - 1\\right) \\sin^{2}{\\left(\\psi \\right)} \\cos^{2}{\\left(\\phi \\right)} + 1 & - \\left(\\zeta - 1\\right) \\sin{\\left(\\psi \\right)} \\cos{\\left(\\phi \\right)} \\cos{\\left(\\psi \\right)}\\\\\\left(\\zeta - 1\\right) \\sin{\\left(\\phi \\right)} \\sin{\\left(\\psi \\right)} \\cos{\\left(\\psi \\right)} & - \\left(\\zeta - 1\\right) \\sin{\\left(\\psi \\right)} \\cos{\\left(\\phi \\right)} \\cos{\\left(\\psi \\right)} & \\left(\\zeta - 1\\right) \\cos^{2}{\\left(\\psi \\right)} + 1\\end{matrix}\\right]$"
      ],
      "text/plain": [
       "⎡            2       2                              2                         \n",
       "⎢ (ζ - 1)⋅sin (φ)⋅sin (ψ) + 1    -(ζ - 1)⋅sin(φ)⋅sin (ψ)⋅cos(φ)  (ζ - 1)⋅sin(φ\n",
       "⎢                                                                             \n",
       "⎢                   2                        2       2                        \n",
       "⎢-(ζ - 1)⋅sin(φ)⋅sin (ψ)⋅cos(φ)   (ζ - 1)⋅sin (ψ)⋅cos (φ) + 1    -(ζ - 1)⋅sin(\n",
       "⎢                                                                             \n",
       "⎢                                                                             \n",
       "⎣ (ζ - 1)⋅sin(φ)⋅sin(ψ)⋅cos(ψ)   -(ζ - 1)⋅sin(ψ)⋅cos(φ)⋅cos(ψ)        (ζ - 1)⋅\n",
       "\n",
       "                ⎤\n",
       ")⋅sin(ψ)⋅cos(ψ) ⎥\n",
       "                ⎥\n",
       "                ⎥\n",
       "ψ)⋅cos(φ)⋅cos(ψ)⎥\n",
       "                ⎥\n",
       "   2            ⎥\n",
       "cos (ψ) + 1     ⎦"
      ]
     },
     "execution_count": 74,
     "metadata": {},
     "output_type": "execute_result"
    }
   ],
   "source": [
    "l"
   ]
  },
  {
   "cell_type": "code",
   "execution_count": 75,
   "metadata": {},
   "outputs": [
    {
     "data": {
      "text/latex": [
       "$\\displaystyle \\left[\\begin{matrix}\\left(\\zeta - 1\\right) \\sin^{2}{\\left(\\phi \\right)} \\sin^{2}{\\left(a r \\right)} + 1 & - \\left(\\zeta - 1\\right) \\sin{\\left(\\phi \\right)} \\sin^{2}{\\left(a r \\right)} \\cos{\\left(\\phi \\right)} & \\left(\\zeta - 1\\right) \\sin{\\left(\\phi \\right)} \\sin{\\left(a r \\right)} \\cos{\\left(a r \\right)}\\\\- \\left(\\zeta - 1\\right) \\sin{\\left(\\phi \\right)} \\sin^{2}{\\left(a r \\right)} \\cos{\\left(\\phi \\right)} & \\left(\\zeta - 1\\right) \\sin^{2}{\\left(a r \\right)} \\cos^{2}{\\left(\\phi \\right)} + 1 & - \\left(\\zeta - 1\\right) \\sin{\\left(a r \\right)} \\cos{\\left(\\phi \\right)} \\cos{\\left(a r \\right)}\\\\\\left(\\zeta - 1\\right) \\sin{\\left(\\phi \\right)} \\sin{\\left(a r \\right)} \\cos{\\left(a r \\right)} & - \\left(\\zeta - 1\\right) \\sin{\\left(a r \\right)} \\cos{\\left(\\phi \\right)} \\cos{\\left(a r \\right)} & \\left(\\zeta - 1\\right) \\cos^{2}{\\left(a r \\right)} + 1\\end{matrix}\\right]$"
      ],
      "text/plain": [
       "⎡            2       2                                2                       \n",
       "⎢ (ζ - 1)⋅sin (φ)⋅sin (a⋅r) + 1    -(ζ - 1)⋅sin(φ)⋅sin (a⋅r)⋅cos(φ)   (ζ - 1)⋅\n",
       "⎢                                                                             \n",
       "⎢                   2                           2         2                   \n",
       "⎢-(ζ - 1)⋅sin(φ)⋅sin (a⋅r)⋅cos(φ)    (ζ - 1)⋅sin (a⋅r)⋅cos (φ) + 1    -(ζ - 1)\n",
       "⎢                                                                             \n",
       "⎢                                                                             \n",
       "⎣(ζ - 1)⋅sin(φ)⋅sin(a⋅r)⋅cos(a⋅r)  -(ζ - 1)⋅sin(a⋅r)⋅cos(φ)⋅cos(a⋅r)        (ζ\n",
       "\n",
       "                         ⎤\n",
       "sin(φ)⋅sin(a⋅r)⋅cos(a⋅r) ⎥\n",
       "                         ⎥\n",
       "                         ⎥\n",
       "⋅sin(a⋅r)⋅cos(φ)⋅cos(a⋅r)⎥\n",
       "                         ⎥\n",
       "         2               ⎥\n",
       " - 1)⋅cos (a⋅r) + 1      ⎦"
      ]
     },
     "execution_count": 75,
     "metadata": {},
     "output_type": "execute_result"
    }
   ],
   "source": [
    "l_0"
   ]
  },
  {
   "cell_type": "code",
   "execution_count": 106,
   "metadata": {},
   "outputs": [
    {
     "data": {
      "image/png": "[encoded data removed]",
      "text/latex": [
       "$\\displaystyle \\frac{\\mu \\left(\\frac{\\sqrt{\\lambda_{z}} \\left(8 \\lambda_{z}^{\\frac{3}{2}} \\left(\\left(\\zeta - 1\\right) \\cos^{2}{\\left(a r \\right)} + 1\\right) \\left(- \\zeta \\cos^{2}{\\left(\\psi \\right)} + \\zeta + \\cos^{2}{\\left(\\psi \\right)}\\right) - \\left(\\zeta - 1\\right)^{2} \\left(\\cos{\\left(2 a r - 2 \\psi \\right)} - \\cos{\\left(2 a r + 2 \\psi \\right)}\\right)\\right)}{8 \\zeta} + \\frac{- \\lambda_{z}^{\\frac{3}{2}} \\left(\\zeta - 1\\right)^{2} \\sin^{2}{\\left(\\phi \\right)} \\sin{\\left(\\psi \\right)} \\sin{\\left(a r \\right)} \\cos{\\left(\\psi \\right)} \\cos{\\left(a r \\right)} - \\left(\\zeta - 1\\right)^{2} \\sin^{2}{\\left(\\phi \\right)} \\sin^{2}{\\left(\\psi \\right)} \\sin^{2}{\\left(a r \\right)} \\cos^{2}{\\left(\\phi \\right)} + \\left(\\left(\\zeta - 1\\right) \\sin^{2}{\\left(\\phi \\right)} \\sin^{2}{\\left(a r \\right)} + 1\\right) \\left(- \\zeta \\sin^{2}{\\left(\\phi \\right)} \\sin^{2}{\\left(\\psi \\right)} + \\zeta + \\sin^{2}{\\left(\\phi \\right)} \\sin^{2}{\\left(\\psi \\right)}\\right)}{\\lambda_{z} \\zeta} + \\frac{- \\lambda_{z}^{\\frac{3}{2}} \\left(\\zeta - 1\\right)^{2} \\sin{\\left(\\psi \\right)} \\sin{\\left(a r \\right)} \\cos^{2}{\\left(\\phi \\right)} \\cos{\\left(\\psi \\right)} \\cos{\\left(a r \\right)} - \\left(\\zeta - 1\\right)^{2} \\sin^{2}{\\left(\\phi \\right)} \\sin^{2}{\\left(\\psi \\right)} \\sin^{2}{\\left(a r \\right)} \\cos^{2}{\\left(\\phi \\right)} + \\left(\\left(\\zeta - 1\\right) \\sin^{2}{\\left(a r \\right)} \\cos^{2}{\\left(\\phi \\right)} + 1\\right) \\left(\\zeta \\sin^{2}{\\left(\\phi \\right)} \\sin^{2}{\\left(\\psi \\right)} - \\zeta \\sin^{2}{\\left(\\psi \\right)} + \\zeta - \\sin^{2}{\\left(\\phi \\right)} \\sin^{2}{\\left(\\psi \\right)} + \\sin^{2}{\\left(\\psi \\right)}\\right)}{\\lambda_{z} \\zeta}\\right)}{2}$"
      ],
      "text/plain": [
       "  ⎛  _____ ⎛     3/2 ⎛           2         ⎞ ⎛       2             2   ⎞      \n",
       "  ⎜╲╱ λ_z ⋅⎝8⋅λ_z   ⋅⎝(ζ - 1)⋅cos (a⋅r) + 1⎠⋅⎝- ζ⋅cos (ψ) + ζ + cos (ψ)⎠ - (ζ \n",
       "μ⋅⎜───────────────────────────────────────────────────────────────────────────\n",
       "  ⎝                                                          8⋅ζ              \n",
       "──────────────────────────────────────────────────────────────────────────────\n",
       "                                                                              \n",
       "\n",
       "    2                                      ⎞        3/2        2    2         \n",
       "- 1) ⋅(cos(2⋅a⋅r - 2⋅ψ) - cos(2⋅a⋅r + 2⋅ψ))⎠   - λ_z   ⋅(ζ - 1) ⋅sin (φ)⋅sin(ψ\n",
       "──────────────────────────────────────────── + ───────────────────────────────\n",
       "                                                                              \n",
       "──────────────────────────────────────────────────────────────────────────────\n",
       "                                                                              \n",
       "\n",
       "                                    2    2       2       2         2      ⎛   \n",
       ")⋅sin(a⋅r)⋅cos(ψ)⋅cos(a⋅r) - (ζ - 1) ⋅sin (φ)⋅sin (ψ)⋅sin (a⋅r)⋅cos (φ) + ⎝(ζ \n",
       "──────────────────────────────────────────────────────────────────────────────\n",
       "                                                        λ_z⋅ζ                 \n",
       "──────────────────────────────────────────────────────────────────────────────\n",
       "                                                                              \n",
       "\n",
       "        2       2         ⎞ ⎛       2       2             2       2   ⎞       \n",
       "- 1)⋅sin (φ)⋅sin (a⋅r) + 1⎠⋅⎝- ζ⋅sin (φ)⋅sin (ψ) + ζ + sin (φ)⋅sin (ψ)⎠   - λ_\n",
       "─────────────────────────────────────────────────────────────────────── + ────\n",
       "                                                                              \n",
       "──────────────────────────────────────────────────────────────────────────────\n",
       "                    2                                                         \n",
       "\n",
       " 3/2        2                    2                             2    2       2 \n",
       "z   ⋅(ζ - 1) ⋅sin(ψ)⋅sin(a⋅r)⋅cos (φ)⋅cos(ψ)⋅cos(a⋅r) - (ζ - 1) ⋅sin (φ)⋅sin (\n",
       "──────────────────────────────────────────────────────────────────────────────\n",
       "                                                                              \n",
       "──────────────────────────────────────────────────────────────────────────────\n",
       "                                                                              \n",
       "\n",
       "      2         2      ⎛           2         2       ⎞ ⎛     2       2        \n",
       "ψ)⋅sin (a⋅r)⋅cos (φ) + ⎝(ζ - 1)⋅sin (a⋅r)⋅cos (φ) + 1⎠⋅⎝ζ⋅sin (φ)⋅sin (ψ) - ζ⋅\n",
       "──────────────────────────────────────────────────────────────────────────────\n",
       "               λ_z⋅ζ                                                          \n",
       "──────────────────────────────────────────────────────────────────────────────\n",
       "                                                                              \n",
       "\n",
       "   2             2       2         2   ⎞⎞\n",
       "sin (ψ) + ζ - sin (φ)⋅sin (ψ) + sin (ψ)⎠⎟\n",
       "────────────────────────────────────────⎟\n",
       "                                        ⎠\n",
       "─────────────────────────────────────────\n",
       "                                         "
      ]
     },
     "execution_count": 106,
     "metadata": {},
     "output_type": "execute_result"
    }
   ],
   "source": [
    "f = mu/2 * sp.Trace(l_0 * sp.Transpose(lambda_) * sp.Inverse(l) * lambda_)\n",
    "f = f.simplify()  # calculates trace\n",
    "\n",
    "f"
   ]
  },
  {
   "cell_type": "code",
   "execution_count": 113,
   "metadata": {},
   "outputs": [
    {
     "data": {
      "image/png": "[encoded data removed]",
      "text/latex": [
       "$\\displaystyle 5 \\sin^{2}{\\left(x \\right)} + 5 \\cos^{2}{\\left(x \\right)}$"
      ],
      "text/plain": [
       "     2           2   \n",
       "5⋅sin (x) + 5⋅cos (x)"
      ]
     },
     "execution_count": 113,
     "metadata": {},
     "output_type": "execute_result"
    }
   ],
   "source": [
    "test_expr = 5 * sp.sin(x)**2 + 5 * sp.cos(x)**2\n",
    "test_expr"
   ]
  },
  {
   "cell_type": "code",
   "execution_count": 114,
   "metadata": {},
   "outputs": [
    {
     "data": {
      "image/png": "[encoded data removed]",
      "text/latex": [
       "$\\displaystyle 5$"
      ],
      "text/plain": [
       "5"
      ]
     },
     "execution_count": 114,
     "metadata": {},
     "output_type": "execute_result"
    }
   ],
   "source": [
    "test_expr = sp.trigsimp(test_expr)\n",
    "test_expr"
   ]
  },
  {
   "cell_type": "code",
   "execution_count": 117,
   "metadata": {},
   "outputs": [
    {
     "data": {
      "image/png": "[encoded data removed]",
      "text/latex": [
       "$\\displaystyle \\sqrt{\\lambda_{z}} \\left(- \\frac{\\mu \\zeta \\left(\\cos{\\left(2 \\left(a r - \\psi\\right) \\right)} - \\cos{\\left(2 \\left(a r + \\psi\\right) \\right)}\\right)}{8} + \\frac{\\mu \\left(\\cos{\\left(2 \\left(a r - \\psi\\right) \\right)} - \\cos{\\left(2 \\left(a r + \\psi\\right) \\right)}\\right)}{4} - \\frac{\\mu \\left(\\cos{\\left(2 \\left(a r - \\psi\\right) \\right)} - \\cos{\\left(2 \\left(a r + \\psi\\right) \\right)}\\right)}{8 \\zeta}\\right) + \\lambda_{z}^{2} \\left(- \\frac{\\mu \\zeta \\sin^{2}{\\left(\\psi \\right)} \\sin^{2}{\\left(a r \\right)}}{2} + \\frac{\\mu \\zeta \\sin^{2}{\\left(\\psi \\right)}}{2} + \\mu \\sin^{2}{\\left(\\psi \\right)} \\sin^{2}{\\left(a r \\right)} - \\frac{\\mu \\sin^{2}{\\left(\\psi \\right)}}{2} - \\frac{\\mu \\sin^{2}{\\left(a r \\right)}}{2} + \\frac{\\mu}{2} - \\frac{\\mu \\sin^{2}{\\left(\\psi \\right)} \\sin^{2}{\\left(a r \\right)}}{2 \\zeta} + \\frac{\\mu \\sin^{2}{\\left(a r \\right)}}{2 \\zeta}\\right) + \\frac{- \\frac{\\mu \\zeta \\sin^{2}{\\left(\\psi \\right)} \\sin^{2}{\\left(a r \\right)}}{2} + \\frac{\\mu \\zeta \\sin^{2}{\\left(a r \\right)}}{2} + \\mu \\sin^{2}{\\left(\\psi \\right)} \\sin^{2}{\\left(a r \\right)} - \\frac{\\mu \\sin^{2}{\\left(\\psi \\right)}}{2} - \\frac{\\mu \\sin^{2}{\\left(a r \\right)}}{2} + \\mu - \\frac{\\mu \\sin^{2}{\\left(\\psi \\right)} \\sin^{2}{\\left(a r \\right)}}{2 \\zeta} + \\frac{\\mu \\sin^{2}{\\left(\\psi \\right)}}{2 \\zeta}}{\\lambda_{z}}$"
      ],
      "text/plain": [
       "                                                                              \n",
       "                                                                              \n",
       "                                                                              \n",
       "  _____ ⎛  μ⋅ζ⋅(cos(2⋅(a⋅r - ψ)) - cos(2⋅(a⋅r + ψ)))   μ⋅(cos(2⋅(a⋅r - ψ)) - c\n",
       "╲╱ λ_z ⋅⎜- ───────────────────────────────────────── + ───────────────────────\n",
       "        ⎝                      8                                          4   \n",
       "\n",
       "                                                                              \n",
       "                                                                              \n",
       "                                                                   ⎛         2\n",
       "os(2⋅(a⋅r + ψ)))   μ⋅(cos(2⋅(a⋅r - ψ)) - cos(2⋅(a⋅r + ψ)))⎞      2 ⎜  μ⋅ζ⋅sin \n",
       "──────────────── - ───────────────────────────────────────⎟ + λ_z ⋅⎜- ────────\n",
       "                                     8⋅ζ                  ⎠        ⎝          \n",
       "\n",
       "                                                                              \n",
       "                                                                              \n",
       "       2               2                                 2           2        \n",
       "(ψ)⋅sin (a⋅r)   μ⋅ζ⋅sin (ψ)        2       2        μ⋅sin (ψ)   μ⋅sin (a⋅r)   \n",
       "───────────── + ─────────── + μ⋅sin (ψ)⋅sin (a⋅r) - ───────── - ─────────── + \n",
       "  2                  2                                  2            2        \n",
       "\n",
       "                                                  2       2               2   \n",
       "                                           μ⋅ζ⋅sin (ψ)⋅sin (a⋅r)   μ⋅ζ⋅sin (a⋅\n",
       "         2       2             2     ⎞   - ───────────────────── + ───────────\n",
       "μ   μ⋅sin (ψ)⋅sin (a⋅r)   μ⋅sin (a⋅r)⎟               2                   2    \n",
       "─ - ─────────────────── + ───────────⎟ + ─────────────────────────────────────\n",
       "2           2⋅ζ               2⋅ζ    ⎠                                        \n",
       "\n",
       "                                2           2                 2       2       \n",
       "r)        2       2        μ⋅sin (ψ)   μ⋅sin (a⋅r)       μ⋅sin (ψ)⋅sin (a⋅r)  \n",
       "── + μ⋅sin (ψ)⋅sin (a⋅r) - ───────── - ─────────── + μ - ─────────────────── +\n",
       "                               2            2                    2⋅ζ          \n",
       "──────────────────────────────────────────────────────────────────────────────\n",
       "                        λ_z                                                   \n",
       "\n",
       "      2   \n",
       " μ⋅sin (ψ)\n",
       " ─────────\n",
       "    2⋅ζ   \n",
       "──────────\n",
       "          "
      ]
     },
     "execution_count": 117,
     "metadata": {},
     "output_type": "execute_result"
    }
   ],
   "source": [
    "f = f.expand()\n",
    "#f = f.collect(lambda_z)\n",
    "#f = sp.factor(f)\n",
    "#f = f.collect(lambda_z)\n",
    "f = sp.trigsimp(f)\n",
    "\n",
    "f.collect(lambda_z)"
   ]
  },
  {
   "cell_type": "code",
   "execution_count": 118,
   "metadata": {},
   "outputs": [
    {
     "data": {
      "image/png": "[encoded data removed]",
      "text/latex": [
       "$\\displaystyle \\frac{\\mu \\left(\\lambda_{z} \\left(- \\sqrt{\\lambda_{z}} \\left(\\zeta \\left(\\zeta - 2\\right) + 1\\right) \\left(\\cos{\\left(2 a r - 2 \\psi \\right)} - \\cos{\\left(2 a r + 2 \\psi \\right)}\\right) + 4 \\lambda_{z}^{2} \\left(- \\zeta \\left(\\zeta \\sin^{2}{\\left(\\psi \\right)} \\sin^{2}{\\left(a r \\right)} - \\zeta \\sin^{2}{\\left(\\psi \\right)} - 2 \\sin^{2}{\\left(\\psi \\right)} \\sin^{2}{\\left(a r \\right)} + \\sin^{2}{\\left(\\psi \\right)} + \\sin^{2}{\\left(a r \\right)} - 1\\right) - \\sin^{2}{\\left(\\psi \\right)} \\sin^{2}{\\left(a r \\right)} + \\sin^{2}{\\left(a r \\right)}\\right)\\right) - 4 \\zeta \\left(\\zeta \\cos^{2}{\\left(\\psi \\right)} \\cos^{2}{\\left(a r \\right)} - \\zeta \\cos^{2}{\\left(\\psi \\right)} - 2 \\cos^{2}{\\left(\\psi \\right)} \\cos^{2}{\\left(a r \\right)} + \\cos^{2}{\\left(\\psi \\right)} + \\cos^{2}{\\left(a r \\right)} - 2\\right) - 4 \\sin^{2}{\\left(\\psi \\right)} \\sin^{2}{\\left(a r \\right)} + 4 \\sin^{2}{\\left(\\psi \\right)}\\right)}{8 \\lambda_{z} \\zeta}$"
      ],
      "text/plain": [
       "  ⎛    ⎛    _____                                                             \n",
       "μ⋅⎝λ_z⋅⎝- ╲╱ λ_z ⋅(ζ⋅(ζ - 2) + 1)⋅(cos(2⋅a⋅r - 2⋅ψ) - cos(2⋅a⋅r + 2⋅ψ)) + 4⋅λ_\n",
       "──────────────────────────────────────────────────────────────────────────────\n",
       "                                                                              \n",
       "\n",
       " 2 ⎛    ⎛     2       2             2           2       2           2         \n",
       "z ⋅⎝- ζ⋅⎝ζ⋅sin (ψ)⋅sin (a⋅r) - ζ⋅sin (ψ) - 2⋅sin (ψ)⋅sin (a⋅r) + sin (ψ) + sin\n",
       "──────────────────────────────────────────────────────────────────────────────\n",
       "                                                                              \n",
       "\n",
       "2         ⎞      2       2           2     ⎞⎞       ⎛     2       2           \n",
       " (a⋅r) - 1⎠ - sin (ψ)⋅sin (a⋅r) + sin (a⋅r)⎠⎠ - 4⋅ζ⋅⎝ζ⋅cos (ψ)⋅cos (a⋅r) - ζ⋅c\n",
       "──────────────────────────────────────────────────────────────────────────────\n",
       "  8⋅λ_z⋅ζ                                                                     \n",
       "\n",
       "  2           2       2           2         2         ⎞        2       2      \n",
       "os (ψ) - 2⋅cos (ψ)⋅cos (a⋅r) + cos (ψ) + cos (a⋅r) - 2⎠ - 4⋅sin (ψ)⋅sin (a⋅r) \n",
       "──────────────────────────────────────────────────────────────────────────────\n",
       "                                                                              \n",
       "\n",
       "       2   ⎞\n",
       "+ 4⋅sin (ψ)⎠\n",
       "────────────\n",
       "            "
      ]
     },
     "execution_count": 118,
     "metadata": {},
     "output_type": "execute_result"
    }
   ],
   "source": [
    "f = f.collect(lambda_z)\n",
    "f = f.simplify()\n",
    "\n",
    "f"
   ]
  },
  {
   "cell_type": "code",
   "execution_count": 87,
   "metadata": {},
   "outputs": [],
   "source": [
    "f.subs(phi, 0)  # I'm guessing the free-energy density is independent of phi?\n",
    "\n",
    "f = f.simplify()"
   ]
  },
  {
   "cell_type": "code",
   "execution_count": 88,
   "metadata": {},
   "outputs": [
    {
     "data": {
      "image/png": "[encoded data removed]",
      "text/latex": [
       "$\\displaystyle - \\frac{0.5 \\mu \\left(2 \\lambda_{z}^{\\frac{3}{2}} \\zeta^{2} \\sin{\\left(\\psi \\right)} \\sin{\\left(a r \\right)} \\cos{\\left(\\psi \\right)} \\cos{\\left(a r \\right)} - 4 \\lambda_{z}^{\\frac{3}{2}} \\zeta \\sin{\\left(\\psi \\right)} \\sin{\\left(a r \\right)} \\cos{\\left(\\psi \\right)} \\cos{\\left(a r \\right)} + 2 \\lambda_{z}^{\\frac{3}{2}} \\sin{\\left(\\psi \\right)} \\sin{\\left(a r \\right)} \\cos{\\left(\\psi \\right)} \\cos{\\left(a r \\right)} + \\lambda_{z}^{3} \\zeta^{2} \\sin^{2}{\\left(\\psi \\right)} \\sin^{2}{\\left(a r \\right)} - \\lambda_{z}^{3} \\zeta^{2} \\sin^{2}{\\left(\\psi \\right)} - 2 \\lambda_{z}^{3} \\zeta \\sin^{2}{\\left(\\psi \\right)} \\sin^{2}{\\left(a r \\right)} + \\lambda_{z}^{3} \\zeta \\sin^{2}{\\left(\\psi \\right)} + \\lambda_{z}^{3} \\zeta \\sin^{2}{\\left(a r \\right)} - \\lambda_{z}^{3} \\zeta + \\lambda_{z}^{3} \\sin^{2}{\\left(\\psi \\right)} \\sin^{2}{\\left(a r \\right)} - \\lambda_{z}^{3} \\sin^{2}{\\left(a r \\right)} + \\zeta^{2} \\sin^{2}{\\left(\\psi \\right)} \\sin^{2}{\\left(a r \\right)} - \\zeta^{2} \\sin^{2}{\\left(a r \\right)} - 2 \\zeta \\sin^{2}{\\left(\\psi \\right)} \\sin^{2}{\\left(a r \\right)} + \\zeta \\sin^{2}{\\left(\\psi \\right)} + \\zeta \\sin^{2}{\\left(a r \\right)} - 2 \\zeta + \\sin^{2}{\\left(\\psi \\right)} \\sin^{2}{\\left(a r \\right)} - \\sin^{2}{\\left(\\psi \\right)}\\right)}{\\lambda_{z} \\zeta}$"
      ],
      "text/plain": [
       "       ⎛     3/2  2                                        3/2                \n",
       "-0.5⋅μ⋅⎝2⋅λ_z   ⋅ζ ⋅sin(ψ)⋅sin(a⋅r)⋅cos(ψ)⋅cos(a⋅r) - 4⋅λ_z   ⋅ζ⋅sin(ψ)⋅sin(a⋅\n",
       "──────────────────────────────────────────────────────────────────────────────\n",
       "                                                                              \n",
       "\n",
       "                          3/2                                      3  2    2  \n",
       "r)⋅cos(ψ)⋅cos(a⋅r) + 2⋅λ_z   ⋅sin(ψ)⋅sin(a⋅r)⋅cos(ψ)⋅cos(a⋅r) + λ_z ⋅ζ ⋅sin (ψ\n",
       "──────────────────────────────────────────────────────────────────────────────\n",
       "                                                                              \n",
       "\n",
       "     2           3  2    2           3      2       2           3      2      \n",
       ")⋅sin (a⋅r) - λ_z ⋅ζ ⋅sin (ψ) - 2⋅λ_z ⋅ζ⋅sin (ψ)⋅sin (a⋅r) + λ_z ⋅ζ⋅sin (ψ) + \n",
       "──────────────────────────────────────────────────────────────────────────────\n",
       "                                                       λ_z⋅ζ                  \n",
       "\n",
       "   3      2           3        3    2       2           3    2         2    2 \n",
       "λ_z ⋅ζ⋅sin (a⋅r) - λ_z ⋅ζ + λ_z ⋅sin (ψ)⋅sin (a⋅r) - λ_z ⋅sin (a⋅r) + ζ ⋅sin (\n",
       "──────────────────────────────────────────────────────────────────────────────\n",
       "                                                                              \n",
       "\n",
       "      2         2    2               2       2             2           2      \n",
       "ψ)⋅sin (a⋅r) - ζ ⋅sin (a⋅r) - 2⋅ζ⋅sin (ψ)⋅sin (a⋅r) + ζ⋅sin (ψ) + ζ⋅sin (a⋅r) \n",
       "──────────────────────────────────────────────────────────────────────────────\n",
       "                                                                              \n",
       "\n",
       "           2       2           2   ⎞ \n",
       "- 2⋅ζ + sin (ψ)⋅sin (a⋅r) - sin (ψ)⎠ \n",
       "─────────────────────────────────────\n",
       "                                     "
      ]
     },
     "execution_count": 88,
     "metadata": {},
     "output_type": "execute_result"
    }
   ],
   "source": [
    "f"
   ]
  },
  {
   "cell_type": "code",
   "execution_count": 89,
   "metadata": {},
   "outputs": [
    {
     "data": {
      "image/png": "[encoded data removed]",
      "text/latex": [
       "$\\displaystyle - \\frac{0.5 \\mu \\left(- 2 \\lambda_{z}^{\\frac{3}{2}} \\zeta^{2} \\sin^{2}{\\left(\\psi \\right)} \\sin{\\left(a r \\right)} \\cos{\\left(a r \\right)} + 2 \\lambda_{z}^{\\frac{3}{2}} \\zeta^{2} \\sin{\\left(a r \\right)} \\cos^{2}{\\left(\\psi \\right)} \\cos{\\left(a r \\right)} + 4 \\lambda_{z}^{\\frac{3}{2}} \\zeta \\sin^{2}{\\left(\\psi \\right)} \\sin{\\left(a r \\right)} \\cos{\\left(a r \\right)} - 4 \\lambda_{z}^{\\frac{3}{2}} \\zeta \\sin{\\left(a r \\right)} \\cos^{2}{\\left(\\psi \\right)} \\cos{\\left(a r \\right)} - 2 \\lambda_{z}^{\\frac{3}{2}} \\sin^{2}{\\left(\\psi \\right)} \\sin{\\left(a r \\right)} \\cos{\\left(a r \\right)} + 2 \\lambda_{z}^{\\frac{3}{2}} \\sin{\\left(a r \\right)} \\cos^{2}{\\left(\\psi \\right)} \\cos{\\left(a r \\right)} + 2 \\lambda_{z}^{3} \\zeta^{2} \\sin{\\left(\\psi \\right)} \\sin^{2}{\\left(a r \\right)} \\cos{\\left(\\psi \\right)} - 2 \\lambda_{z}^{3} \\zeta^{2} \\sin{\\left(\\psi \\right)} \\cos{\\left(\\psi \\right)} - 4 \\lambda_{z}^{3} \\zeta \\sin{\\left(\\psi \\right)} \\sin^{2}{\\left(a r \\right)} \\cos{\\left(\\psi \\right)} + 2 \\lambda_{z}^{3} \\zeta \\sin{\\left(\\psi \\right)} \\cos{\\left(\\psi \\right)} + 2 \\lambda_{z}^{3} \\sin{\\left(\\psi \\right)} \\sin^{2}{\\left(a r \\right)} \\cos{\\left(\\psi \\right)} + 2 \\zeta^{2} \\sin{\\left(\\psi \\right)} \\sin^{2}{\\left(a r \\right)} \\cos{\\left(\\psi \\right)} - 4 \\zeta \\sin{\\left(\\psi \\right)} \\sin^{2}{\\left(a r \\right)} \\cos{\\left(\\psi \\right)} + 2 \\zeta \\sin{\\left(\\psi \\right)} \\cos{\\left(\\psi \\right)} + 2 \\sin{\\left(\\psi \\right)} \\sin^{2}{\\left(a r \\right)} \\cos{\\left(\\psi \\right)} - 2 \\sin{\\left(\\psi \\right)} \\cos{\\left(\\psi \\right)}\\right)}{\\lambda_{z} \\zeta}$"
      ],
      "text/plain": [
       "       ⎛       3/2  2    2                             3/2  2             2   \n",
       "-0.5⋅μ⋅⎝- 2⋅λ_z   ⋅ζ ⋅sin (ψ)⋅sin(a⋅r)⋅cos(a⋅r) + 2⋅λ_z   ⋅ζ ⋅sin(a⋅r)⋅cos (ψ)\n",
       "──────────────────────────────────────────────────────────────────────────────\n",
       "                                                                              \n",
       "\n",
       "                 3/2      2                             3/2               2   \n",
       "⋅cos(a⋅r) + 4⋅λ_z   ⋅ζ⋅sin (ψ)⋅sin(a⋅r)⋅cos(a⋅r) - 4⋅λ_z   ⋅ζ⋅sin(a⋅r)⋅cos (ψ)\n",
       "──────────────────────────────────────────────────────────────────────────────\n",
       "                                                                              \n",
       "\n",
       "                 3/2    2                             3/2             2       \n",
       "⋅cos(a⋅r) - 2⋅λ_z   ⋅sin (ψ)⋅sin(a⋅r)⋅cos(a⋅r) + 2⋅λ_z   ⋅sin(a⋅r)⋅cos (ψ)⋅cos\n",
       "──────────────────────────────────────────────────────────────────────────────\n",
       "                                                                              \n",
       "\n",
       "             3  2           2                    3  2                      3  \n",
       "(a⋅r) + 2⋅λ_z ⋅ζ ⋅sin(ψ)⋅sin (a⋅r)⋅cos(ψ) - 2⋅λ_z ⋅ζ ⋅sin(ψ)⋅cos(ψ) - 4⋅λ_z ⋅ζ\n",
       "──────────────────────────────────────────────────────────────────────────────\n",
       "                         λ_z⋅ζ                                                \n",
       "\n",
       "           2                    3                        3           2        \n",
       "⋅sin(ψ)⋅sin (a⋅r)⋅cos(ψ) + 2⋅λ_z ⋅ζ⋅sin(ψ)⋅cos(ψ) + 2⋅λ_z ⋅sin(ψ)⋅sin (a⋅r)⋅co\n",
       "──────────────────────────────────────────────────────────────────────────────\n",
       "                                                                              \n",
       "\n",
       "          2           2                             2                         \n",
       "s(ψ) + 2⋅ζ ⋅sin(ψ)⋅sin (a⋅r)⋅cos(ψ) - 4⋅ζ⋅sin(ψ)⋅sin (a⋅r)⋅cos(ψ) + 2⋅ζ⋅sin(ψ)\n",
       "──────────────────────────────────────────────────────────────────────────────\n",
       "                                                                              \n",
       "\n",
       "                      2                              ⎞ \n",
       "⋅cos(ψ) + 2⋅sin(ψ)⋅sin (a⋅r)⋅cos(ψ) - 2⋅sin(ψ)⋅cos(ψ)⎠ \n",
       "───────────────────────────────────────────────────────\n",
       "                                                       "
      ]
     },
     "execution_count": 89,
     "metadata": {},
     "output_type": "execute_result"
    }
   ],
   "source": [
    "deriv = f.diff(psi)\n",
    "deriv"
   ]
  },
  {
   "cell_type": "code",
   "execution_count": 90,
   "metadata": {},
   "outputs": [
    {
     "ename": "KeyboardInterrupt",
     "evalue": "",
     "output_type": "error",
     "traceback": [
      "\u001b[0;31m---------------------------------------------------------------------------\u001b[0m",
      "\u001b[0;31mKeyboardInterrupt\u001b[0m                         Traceback (most recent call last)",
      "Input \u001b[0;32mIn [90]\u001b[0m, in \u001b[0;36m<cell line: 1>\u001b[0;34m()\u001b[0m\n\u001b[0;32m----> 1\u001b[0m psi_solns \u001b[38;5;241m=\u001b[39m \u001b[43msp\u001b[49m\u001b[38;5;241;43m.\u001b[39;49m\u001b[43msolve\u001b[49m\u001b[43m(\u001b[49m\u001b[43mderiv\u001b[49m\u001b[43m,\u001b[49m\u001b[43m \u001b[49m\u001b[43mpsi\u001b[49m\u001b[43m)\u001b[49m\n\u001b[1;32m      2\u001b[0m psi_solns\n",
      "File \u001b[0;32m/opt/anaconda3/lib/python3.9/site-packages/sympy/solvers/solvers.py:1106\u001b[0m, in \u001b[0;36msolve\u001b[0;34m(f, *symbols, **flags)\u001b[0m\n\u001b[1;32m   1102\u001b[0m \u001b[38;5;66;03m#\u001b[39;00m\n\u001b[1;32m   1103\u001b[0m \u001b[38;5;66;03m# try to get a solution\u001b[39;00m\n\u001b[1;32m   1104\u001b[0m \u001b[38;5;66;03m###########################################################################\u001b[39;00m\n\u001b[1;32m   1105\u001b[0m \u001b[38;5;28;01mif\u001b[39;00m bare_f:\n\u001b[0;32m-> 1106\u001b[0m     solution \u001b[38;5;241m=\u001b[39m \u001b[43m_solve\u001b[49m\u001b[43m(\u001b[49m\u001b[43mf\u001b[49m\u001b[43m[\u001b[49m\u001b[38;5;241;43m0\u001b[39;49m\u001b[43m]\u001b[49m\u001b[43m,\u001b[49m\u001b[43m \u001b[49m\u001b[38;5;241;43m*\u001b[39;49m\u001b[43msymbols\u001b[49m\u001b[43m,\u001b[49m\u001b[43m \u001b[49m\u001b[38;5;241;43m*\u001b[39;49m\u001b[38;5;241;43m*\u001b[39;49m\u001b[43mflags\u001b[49m\u001b[43m)\u001b[49m\n\u001b[1;32m   1107\u001b[0m \u001b[38;5;28;01melse\u001b[39;00m:\n\u001b[1;32m   1108\u001b[0m     solution \u001b[38;5;241m=\u001b[39m _solve_system(f, symbols, \u001b[38;5;241m*\u001b[39m\u001b[38;5;241m*\u001b[39mflags)\n",
      "File \u001b[0;32m/opt/anaconda3/lib/python3.9/site-packages/sympy/solvers/solvers.py:1394\u001b[0m, in \u001b[0;36m_solve\u001b[0;34m(f, *symbols, **flags)\u001b[0m\n\u001b[1;32m   1392\u001b[0m         result \u001b[38;5;241m=\u001b[39m \u001b[38;5;28mset\u001b[39m()\n\u001b[1;32m   1393\u001b[0m         \u001b[38;5;28;01mbreak\u001b[39;00m\n\u001b[0;32m-> 1394\u001b[0m     soln \u001b[38;5;241m=\u001b[39m \u001b[43m_solve\u001b[49m\u001b[43m(\u001b[49m\u001b[43mm\u001b[49m\u001b[43m,\u001b[49m\u001b[43m \u001b[49m\u001b[43msymbol\u001b[49m\u001b[43m,\u001b[49m\u001b[43m \u001b[49m\u001b[38;5;241;43m*\u001b[39;49m\u001b[38;5;241;43m*\u001b[39;49m\u001b[43mflags\u001b[49m\u001b[43m)\u001b[49m\n\u001b[1;32m   1395\u001b[0m     result\u001b[38;5;241m.\u001b[39mupdate(\u001b[38;5;28mset\u001b[39m(soln))\n\u001b[1;32m   1396\u001b[0m result \u001b[38;5;241m=\u001b[39m \u001b[38;5;28mlist\u001b[39m(result)\n",
      "File \u001b[0;32m/opt/anaconda3/lib/python3.9/site-packages/sympy/solvers/solvers.py:1556\u001b[0m, in \u001b[0;36m_solve\u001b[0;34m(f, *symbols, **flags)\u001b[0m\n\u001b[1;32m   1552\u001b[0m     \u001b[38;5;28;01mif\u001b[39;00m newf \u001b[38;5;241m!=\u001b[39m f_num:\n\u001b[1;32m   1553\u001b[0m         \u001b[38;5;66;03m# don't check the rewritten form --check\u001b[39;00m\n\u001b[1;32m   1554\u001b[0m         \u001b[38;5;66;03m# solutions in the un-rewritten form below\u001b[39;00m\n\u001b[1;32m   1555\u001b[0m         flags[\u001b[38;5;124m'\u001b[39m\u001b[38;5;124mcheck\u001b[39m\u001b[38;5;124m'\u001b[39m] \u001b[38;5;241m=\u001b[39m \u001b[38;5;28;01mFalse\u001b[39;00m\n\u001b[0;32m-> 1556\u001b[0m         result \u001b[38;5;241m=\u001b[39m \u001b[43m_solve\u001b[49m\u001b[43m(\u001b[49m\u001b[43mnewf\u001b[49m\u001b[43m,\u001b[49m\u001b[43m \u001b[49m\u001b[43msymbol\u001b[49m\u001b[43m,\u001b[49m\u001b[43m \u001b[49m\u001b[38;5;241;43m*\u001b[39;49m\u001b[38;5;241;43m*\u001b[39;49m\u001b[43mflags\u001b[49m\u001b[43m)\u001b[49m\n\u001b[1;32m   1557\u001b[0m         flags[\u001b[38;5;124m'\u001b[39m\u001b[38;5;124mcheck\u001b[39m\u001b[38;5;124m'\u001b[39m] \u001b[38;5;241m=\u001b[39m check\n\u001b[1;32m   1559\u001b[0m \u001b[38;5;66;03m# just a simple case - see if replacement of single function\u001b[39;00m\n\u001b[1;32m   1560\u001b[0m \u001b[38;5;66;03m# clears all symbol-dependent functions, e.g.\u001b[39;00m\n\u001b[1;32m   1561\u001b[0m \u001b[38;5;66;03m# log(x) - log(log(x) - 1) - 3 can be solved even though it has\u001b[39;00m\n\u001b[1;32m   1562\u001b[0m \u001b[38;5;66;03m# two generators.\u001b[39;00m\n",
      "File \u001b[0;32m/opt/anaconda3/lib/python3.9/site-packages/sympy/solvers/solvers.py:1632\u001b[0m, in \u001b[0;36m_solve\u001b[0;34m(f, *symbols, **flags)\u001b[0m\n\u001b[1;32m   1630\u001b[0m hints \u001b[38;5;241m=\u001b[39m (\u001b[38;5;124m'\u001b[39m\u001b[38;5;124mcubics\u001b[39m\u001b[38;5;124m'\u001b[39m, \u001b[38;5;124m'\u001b[39m\u001b[38;5;124mquartics\u001b[39m\u001b[38;5;124m'\u001b[39m, \u001b[38;5;124m'\u001b[39m\u001b[38;5;124mquintics\u001b[39m\u001b[38;5;124m'\u001b[39m)\n\u001b[1;32m   1631\u001b[0m solvers \u001b[38;5;241m=\u001b[39m {h: flags\u001b[38;5;241m.\u001b[39mget(h) \u001b[38;5;28;01mfor\u001b[39;00m h \u001b[38;5;129;01min\u001b[39;00m hints}\n\u001b[0;32m-> 1632\u001b[0m soln \u001b[38;5;241m=\u001b[39m \u001b[43mroots\u001b[49m\u001b[43m(\u001b[49m\u001b[43mpoly\u001b[49m\u001b[43m,\u001b[49m\u001b[43m \u001b[49m\u001b[38;5;241;43m*\u001b[39;49m\u001b[38;5;241;43m*\u001b[39;49m\u001b[43msolvers\u001b[49m\u001b[43m)\u001b[49m\n\u001b[1;32m   1633\u001b[0m \u001b[38;5;28;01mif\u001b[39;00m \u001b[38;5;28msum\u001b[39m(soln\u001b[38;5;241m.\u001b[39mvalues()) \u001b[38;5;241m<\u001b[39m deg:\n\u001b[1;32m   1634\u001b[0m     \u001b[38;5;66;03m# e.g. roots(32*x**5 + 400*x**4 + 2032*x**3 +\u001b[39;00m\n\u001b[1;32m   1635\u001b[0m     \u001b[38;5;66;03m#            5000*x**2 + 6250*x + 3189) -> {}\u001b[39;00m\n\u001b[1;32m   1636\u001b[0m     \u001b[38;5;66;03m# so all_roots is used and RootOf instances are\u001b[39;00m\n\u001b[1;32m   1637\u001b[0m     \u001b[38;5;66;03m# returned *unless* the system is multivariate\u001b[39;00m\n\u001b[1;32m   1638\u001b[0m     \u001b[38;5;66;03m# or high-order EX domain.\u001b[39;00m\n\u001b[1;32m   1639\u001b[0m     \u001b[38;5;28;01mtry\u001b[39;00m:\n",
      "File \u001b[0;32m/opt/anaconda3/lib/python3.9/site-packages/sympy/polys/polyroots.py:1051\u001b[0m, in \u001b[0;36mroots\u001b[0;34m(f, auto, cubics, trig, quartics, quintics, multiple, filter, predicate, *gens, **flags)\u001b[0m\n\u001b[1;32m   1049\u001b[0m             \u001b[38;5;28;01melse\u001b[39;00m:\n\u001b[1;32m   1050\u001b[0m                 \u001b[38;5;28;01mfor\u001b[39;00m currentfactor, k \u001b[38;5;129;01min\u001b[39;00m factors:\n\u001b[0;32m-> 1051\u001b[0m                     \u001b[38;5;28;01mfor\u001b[39;00m r \u001b[38;5;129;01min\u001b[39;00m \u001b[43m_try_heuristics\u001b[49m\u001b[43m(\u001b[49m\u001b[43mPoly\u001b[49m\u001b[43m(\u001b[49m\u001b[43mcurrentfactor\u001b[49m\u001b[43m,\u001b[49m\u001b[43m \u001b[49m\u001b[43mf\u001b[49m\u001b[38;5;241;43m.\u001b[39;49m\u001b[43mgen\u001b[49m\u001b[43m,\u001b[49m\u001b[43m \u001b[49m\u001b[43mfield\u001b[49m\u001b[38;5;241;43m=\u001b[39;49m\u001b[38;5;28;43;01mTrue\u001b[39;49;00m\u001b[43m)\u001b[49m\u001b[43m)\u001b[49m:\n\u001b[1;32m   1052\u001b[0m                         _update_dict(result, zeros, r, k)\n\u001b[1;32m   1054\u001b[0m \u001b[38;5;28;01mif\u001b[39;00m coeff \u001b[38;5;129;01mis\u001b[39;00m \u001b[38;5;129;01mnot\u001b[39;00m S\u001b[38;5;241m.\u001b[39mOne:\n",
      "File \u001b[0;32m/opt/anaconda3/lib/python3.9/site-packages/sympy/polys/polyroots.py:983\u001b[0m, in \u001b[0;36mroots.<locals>._try_heuristics\u001b[0;34m(f)\u001b[0m\n\u001b[1;32m    981\u001b[0m     result \u001b[38;5;241m+\u001b[39m\u001b[38;5;241m=\u001b[39m roots_cubic(f, trig\u001b[38;5;241m=\u001b[39mtrig)\n\u001b[1;32m    982\u001b[0m \u001b[38;5;28;01melif\u001b[39;00m n \u001b[38;5;241m==\u001b[39m \u001b[38;5;241m4\u001b[39m \u001b[38;5;129;01mand\u001b[39;00m quartics:\n\u001b[0;32m--> 983\u001b[0m     result \u001b[38;5;241m+\u001b[39m\u001b[38;5;241m=\u001b[39m \u001b[43mroots_quartic\u001b[49m\u001b[43m(\u001b[49m\u001b[43mf\u001b[49m\u001b[43m)\u001b[49m\n\u001b[1;32m    984\u001b[0m \u001b[38;5;28;01melif\u001b[39;00m n \u001b[38;5;241m==\u001b[39m \u001b[38;5;241m5\u001b[39m \u001b[38;5;129;01mand\u001b[39;00m quintics:\n\u001b[1;32m    985\u001b[0m     result \u001b[38;5;241m+\u001b[39m\u001b[38;5;241m=\u001b[39m roots_quintic(f)\n",
      "File \u001b[0;32m/opt/anaconda3/lib/python3.9/site-packages/sympy/polys/polyroots.py:321\u001b[0m, in \u001b[0;36mroots_quartic\u001b[0;34m(f)\u001b[0m\n\u001b[1;32m    318\u001b[0m     \u001b[38;5;28;01mreturn\u001b[39;00m [tmp \u001b[38;5;241m-\u001b[39m aon4 \u001b[38;5;28;01mfor\u001b[39;00m tmp \u001b[38;5;129;01min\u001b[39;00m y]\n\u001b[1;32m    319\u001b[0m \u001b[38;5;28;01melse\u001b[39;00m:\n\u001b[1;32m    320\u001b[0m     \u001b[38;5;66;03m# Descartes-Euler method, see [7]\u001b[39;00m\n\u001b[0;32m--> 321\u001b[0m     sols \u001b[38;5;241m=\u001b[39m \u001b[43m_roots_quartic_euler\u001b[49m\u001b[43m(\u001b[49m\u001b[43me\u001b[49m\u001b[43m,\u001b[49m\u001b[43m \u001b[49m\u001b[43mf\u001b[49m\u001b[43m,\u001b[49m\u001b[43m \u001b[49m\u001b[43mg\u001b[49m\u001b[43m,\u001b[49m\u001b[43m \u001b[49m\u001b[43maon4\u001b[49m\u001b[43m)\u001b[49m\n\u001b[1;32m    322\u001b[0m     \u001b[38;5;28;01mif\u001b[39;00m sols:\n\u001b[1;32m    323\u001b[0m         \u001b[38;5;28;01mreturn\u001b[39;00m sols\n",
      "File \u001b[0;32m/opt/anaconda3/lib/python3.9/site-packages/sympy/polys/polyroots.py:227\u001b[0m, in \u001b[0;36m_roots_quartic_euler\u001b[0;34m(p, q, r, a)\u001b[0m\n\u001b[1;32m    225\u001b[0m x \u001b[38;5;241m=\u001b[39m Dummy(\u001b[38;5;124m'\u001b[39m\u001b[38;5;124mx\u001b[39m\u001b[38;5;124m'\u001b[39m)\n\u001b[1;32m    226\u001b[0m eq \u001b[38;5;241m=\u001b[39m \u001b[38;5;241m64\u001b[39m\u001b[38;5;241m*\u001b[39mx\u001b[38;5;241m*\u001b[39m\u001b[38;5;241m*\u001b[39m\u001b[38;5;241m3\u001b[39m \u001b[38;5;241m+\u001b[39m \u001b[38;5;241m32\u001b[39m\u001b[38;5;241m*\u001b[39mp\u001b[38;5;241m*\u001b[39mx\u001b[38;5;241m*\u001b[39m\u001b[38;5;241m*\u001b[39m\u001b[38;5;241m2\u001b[39m \u001b[38;5;241m+\u001b[39m (\u001b[38;5;241m4\u001b[39m\u001b[38;5;241m*\u001b[39mp\u001b[38;5;241m*\u001b[39m\u001b[38;5;241m*\u001b[39m\u001b[38;5;241m2\u001b[39m \u001b[38;5;241m-\u001b[39m \u001b[38;5;241m16\u001b[39m\u001b[38;5;241m*\u001b[39mr)\u001b[38;5;241m*\u001b[39mx \u001b[38;5;241m-\u001b[39m q\u001b[38;5;241m*\u001b[39m\u001b[38;5;241m*\u001b[39m\u001b[38;5;241m2\u001b[39m\n\u001b[0;32m--> 227\u001b[0m xsols \u001b[38;5;241m=\u001b[39m \u001b[38;5;28mlist\u001b[39m(roots(\u001b[43mPoly\u001b[49m\u001b[43m(\u001b[49m\u001b[43meq\u001b[49m\u001b[43m,\u001b[49m\u001b[43m \u001b[49m\u001b[43mx\u001b[49m\u001b[43m)\u001b[49m, cubics\u001b[38;5;241m=\u001b[39m\u001b[38;5;28;01mFalse\u001b[39;00m)\u001b[38;5;241m.\u001b[39mkeys())\n\u001b[1;32m    228\u001b[0m xsols \u001b[38;5;241m=\u001b[39m [sol \u001b[38;5;28;01mfor\u001b[39;00m sol \u001b[38;5;129;01min\u001b[39;00m xsols \u001b[38;5;28;01mif\u001b[39;00m sol\u001b[38;5;241m.\u001b[39mis_rational \u001b[38;5;129;01mand\u001b[39;00m sol\u001b[38;5;241m.\u001b[39mis_nonzero]\n\u001b[1;32m    229\u001b[0m \u001b[38;5;28;01mif\u001b[39;00m \u001b[38;5;129;01mnot\u001b[39;00m xsols:\n",
      "File \u001b[0;32m/opt/anaconda3/lib/python3.9/site-packages/sympy/polys/polytools.py:181\u001b[0m, in \u001b[0;36mPoly.__new__\u001b[0;34m(cls, rep, *gens, **args)\u001b[0m\n\u001b[1;32m    179\u001b[0m     \u001b[38;5;28;01mreturn\u001b[39;00m \u001b[38;5;28mcls\u001b[39m\u001b[38;5;241m.\u001b[39m_from_poly(rep, opt)\n\u001b[1;32m    180\u001b[0m \u001b[38;5;28;01melse\u001b[39;00m:\n\u001b[0;32m--> 181\u001b[0m     \u001b[38;5;28;01mreturn\u001b[39;00m \u001b[38;5;28;43mcls\u001b[39;49m\u001b[38;5;241;43m.\u001b[39;49m\u001b[43m_from_expr\u001b[49m\u001b[43m(\u001b[49m\u001b[43mrep\u001b[49m\u001b[43m,\u001b[49m\u001b[43m \u001b[49m\u001b[43mopt\u001b[49m\u001b[43m)\u001b[49m\n",
      "File \u001b[0;32m/opt/anaconda3/lib/python3.9/site-packages/sympy/polys/polytools.py:311\u001b[0m, in \u001b[0;36mPoly._from_expr\u001b[0;34m(cls, rep, opt)\u001b[0m\n\u001b[1;32m    309\u001b[0m \u001b[38;5;124;03m\"\"\"Construct a polynomial from an expression. \"\"\"\u001b[39;00m\n\u001b[1;32m    310\u001b[0m rep, opt \u001b[38;5;241m=\u001b[39m _dict_from_expr(rep, opt)\n\u001b[0;32m--> 311\u001b[0m \u001b[38;5;28;01mreturn\u001b[39;00m \u001b[38;5;28;43mcls\u001b[39;49m\u001b[38;5;241;43m.\u001b[39;49m\u001b[43m_from_dict\u001b[49m\u001b[43m(\u001b[49m\u001b[43mrep\u001b[49m\u001b[43m,\u001b[49m\u001b[43m \u001b[49m\u001b[43mopt\u001b[49m\u001b[43m)\u001b[49m\n",
      "File \u001b[0;32m/opt/anaconda3/lib/python3.9/site-packages/sympy/polys/polytools.py:255\u001b[0m, in \u001b[0;36mPoly._from_dict\u001b[0;34m(cls, rep, opt)\u001b[0m\n\u001b[1;32m    252\u001b[0m domain \u001b[38;5;241m=\u001b[39m opt\u001b[38;5;241m.\u001b[39mdomain\n\u001b[1;32m    254\u001b[0m \u001b[38;5;28;01mif\u001b[39;00m domain \u001b[38;5;129;01mis\u001b[39;00m \u001b[38;5;28;01mNone\u001b[39;00m:\n\u001b[0;32m--> 255\u001b[0m     domain, rep \u001b[38;5;241m=\u001b[39m \u001b[43mconstruct_domain\u001b[49m\u001b[43m(\u001b[49m\u001b[43mrep\u001b[49m\u001b[43m,\u001b[49m\u001b[43m \u001b[49m\u001b[43mopt\u001b[49m\u001b[38;5;241;43m=\u001b[39;49m\u001b[43mopt\u001b[49m\u001b[43m)\u001b[49m\n\u001b[1;32m    256\u001b[0m \u001b[38;5;28;01melse\u001b[39;00m:\n\u001b[1;32m    257\u001b[0m     \u001b[38;5;28;01mfor\u001b[39;00m monom, coeff \u001b[38;5;129;01min\u001b[39;00m rep\u001b[38;5;241m.\u001b[39mitems():\n",
      "File \u001b[0;32m/opt/anaconda3/lib/python3.9/site-packages/sympy/polys/constructor.py:378\u001b[0m, in \u001b[0;36mconstruct_domain\u001b[0;34m(obj, **args)\u001b[0m\n\u001b[1;32m    376\u001b[0m     result \u001b[38;5;241m=\u001b[39m \u001b[38;5;28;01mNone\u001b[39;00m\n\u001b[1;32m    377\u001b[0m \u001b[38;5;28;01melse\u001b[39;00m:\n\u001b[0;32m--> 378\u001b[0m     result \u001b[38;5;241m=\u001b[39m \u001b[43m_construct_composite\u001b[49m\u001b[43m(\u001b[49m\u001b[43mcoeffs\u001b[49m\u001b[43m,\u001b[49m\u001b[43m \u001b[49m\u001b[43mopt\u001b[49m\u001b[43m)\u001b[49m\n\u001b[1;32m    380\u001b[0m \u001b[38;5;28;01mif\u001b[39;00m result \u001b[38;5;129;01mis\u001b[39;00m \u001b[38;5;129;01mnot\u001b[39;00m \u001b[38;5;28;01mNone\u001b[39;00m:\n\u001b[1;32m    381\u001b[0m     domain, coeffs \u001b[38;5;241m=\u001b[39m result\n",
      "File \u001b[0;32m/opt/anaconda3/lib/python3.9/site-packages/sympy/polys/constructor.py:145\u001b[0m, in \u001b[0;36m_construct_composite\u001b[0;34m(coeffs, opt)\u001b[0m\n\u001b[1;32m    142\u001b[0m     numers\u001b[38;5;241m.\u001b[39mappend(numer)\n\u001b[1;32m    143\u001b[0m     denoms\u001b[38;5;241m.\u001b[39mappend(denom)\n\u001b[0;32m--> 145\u001b[0m polys, gens \u001b[38;5;241m=\u001b[39m \u001b[43mparallel_dict_from_basic\u001b[49m\u001b[43m(\u001b[49m\u001b[43mnumers\u001b[49m\u001b[43m \u001b[49m\u001b[38;5;241;43m+\u001b[39;49m\u001b[43m \u001b[49m\u001b[43mdenoms\u001b[49m\u001b[43m)\u001b[49m  \u001b[38;5;66;03m# XXX: sorting\u001b[39;00m\n\u001b[1;32m    146\u001b[0m \u001b[38;5;28;01mif\u001b[39;00m \u001b[38;5;129;01mnot\u001b[39;00m gens:\n\u001b[1;32m    147\u001b[0m     \u001b[38;5;28;01mreturn\u001b[39;00m \u001b[38;5;28;01mNone\u001b[39;00m\n",
      "File \u001b[0;32m/opt/anaconda3/lib/python3.9/site-packages/sympy/polys/polyutils.py:319\u001b[0m, in \u001b[0;36mparallel_dict_from_expr\u001b[0;34m(exprs, **args)\u001b[0m\n\u001b[1;32m    317\u001b[0m \u001b[38;5;28;01mdef\u001b[39;00m \u001b[38;5;21mparallel_dict_from_expr\u001b[39m(exprs, \u001b[38;5;241m*\u001b[39m\u001b[38;5;241m*\u001b[39margs):\n\u001b[1;32m    318\u001b[0m     \u001b[38;5;124;03m\"\"\"Transform expressions into a multinomial form. \"\"\"\u001b[39;00m\n\u001b[0;32m--> 319\u001b[0m     reps, opt \u001b[38;5;241m=\u001b[39m \u001b[43m_parallel_dict_from_expr\u001b[49m\u001b[43m(\u001b[49m\u001b[43mexprs\u001b[49m\u001b[43m,\u001b[49m\u001b[43m \u001b[49m\u001b[43mbuild_options\u001b[49m\u001b[43m(\u001b[49m\u001b[43margs\u001b[49m\u001b[43m)\u001b[49m\u001b[43m)\u001b[49m\n\u001b[1;32m    320\u001b[0m     \u001b[38;5;28;01mreturn\u001b[39;00m reps, opt\u001b[38;5;241m.\u001b[39mgens\n",
      "File \u001b[0;32m/opt/anaconda3/lib/python3.9/site-packages/sympy/polys/polyutils.py:326\u001b[0m, in \u001b[0;36m_parallel_dict_from_expr\u001b[0;34m(exprs, opt)\u001b[0m\n\u001b[1;32m    324\u001b[0m \u001b[38;5;124;03m\"\"\"Transform expressions into a multinomial form. \"\"\"\u001b[39;00m\n\u001b[1;32m    325\u001b[0m \u001b[38;5;28;01mif\u001b[39;00m opt\u001b[38;5;241m.\u001b[39mexpand \u001b[38;5;129;01mis\u001b[39;00m \u001b[38;5;129;01mnot\u001b[39;00m \u001b[38;5;28;01mFalse\u001b[39;00m:\n\u001b[0;32m--> 326\u001b[0m     exprs \u001b[38;5;241m=\u001b[39m [ expr\u001b[38;5;241m.\u001b[39mexpand() \u001b[38;5;28;01mfor\u001b[39;00m expr \u001b[38;5;129;01min\u001b[39;00m exprs ]\n\u001b[1;32m    328\u001b[0m \u001b[38;5;28;01mif\u001b[39;00m \u001b[38;5;28many\u001b[39m(expr\u001b[38;5;241m.\u001b[39mis_commutative \u001b[38;5;129;01mis\u001b[39;00m \u001b[38;5;28;01mFalse\u001b[39;00m \u001b[38;5;28;01mfor\u001b[39;00m expr \u001b[38;5;129;01min\u001b[39;00m exprs):\n\u001b[1;32m    329\u001b[0m     \u001b[38;5;28;01mraise\u001b[39;00m PolynomialError(\u001b[38;5;124m'\u001b[39m\u001b[38;5;124mnon-commutative expressions are not supported\u001b[39m\u001b[38;5;124m'\u001b[39m)\n",
      "File \u001b[0;32m/opt/anaconda3/lib/python3.9/site-packages/sympy/polys/polyutils.py:326\u001b[0m, in \u001b[0;36m<listcomp>\u001b[0;34m(.0)\u001b[0m\n\u001b[1;32m    324\u001b[0m \u001b[38;5;124;03m\"\"\"Transform expressions into a multinomial form. \"\"\"\u001b[39;00m\n\u001b[1;32m    325\u001b[0m \u001b[38;5;28;01mif\u001b[39;00m opt\u001b[38;5;241m.\u001b[39mexpand \u001b[38;5;129;01mis\u001b[39;00m \u001b[38;5;129;01mnot\u001b[39;00m \u001b[38;5;28;01mFalse\u001b[39;00m:\n\u001b[0;32m--> 326\u001b[0m     exprs \u001b[38;5;241m=\u001b[39m [ \u001b[43mexpr\u001b[49m\u001b[38;5;241;43m.\u001b[39;49m\u001b[43mexpand\u001b[49m\u001b[43m(\u001b[49m\u001b[43m)\u001b[49m \u001b[38;5;28;01mfor\u001b[39;00m expr \u001b[38;5;129;01min\u001b[39;00m exprs ]\n\u001b[1;32m    328\u001b[0m \u001b[38;5;28;01mif\u001b[39;00m \u001b[38;5;28many\u001b[39m(expr\u001b[38;5;241m.\u001b[39mis_commutative \u001b[38;5;129;01mis\u001b[39;00m \u001b[38;5;28;01mFalse\u001b[39;00m \u001b[38;5;28;01mfor\u001b[39;00m expr \u001b[38;5;129;01min\u001b[39;00m exprs):\n\u001b[1;32m    329\u001b[0m     \u001b[38;5;28;01mraise\u001b[39;00m PolynomialError(\u001b[38;5;124m'\u001b[39m\u001b[38;5;124mnon-commutative expressions are not supported\u001b[39m\u001b[38;5;124m'\u001b[39m)\n",
      "File \u001b[0;32m/opt/anaconda3/lib/python3.9/site-packages/sympy/core/cache.py:70\u001b[0m, in \u001b[0;36m__cacheit.<locals>.func_wrapper.<locals>.wrapper\u001b[0;34m(*args, **kwargs)\u001b[0m\n\u001b[1;32m     67\u001b[0m \u001b[38;5;129m@wraps\u001b[39m(func)\n\u001b[1;32m     68\u001b[0m \u001b[38;5;28;01mdef\u001b[39;00m \u001b[38;5;21mwrapper\u001b[39m(\u001b[38;5;241m*\u001b[39margs, \u001b[38;5;241m*\u001b[39m\u001b[38;5;241m*\u001b[39mkwargs):\n\u001b[1;32m     69\u001b[0m     \u001b[38;5;28;01mtry\u001b[39;00m:\n\u001b[0;32m---> 70\u001b[0m         retval \u001b[38;5;241m=\u001b[39m \u001b[43mcfunc\u001b[49m\u001b[43m(\u001b[49m\u001b[38;5;241;43m*\u001b[39;49m\u001b[43margs\u001b[49m\u001b[43m,\u001b[49m\u001b[43m \u001b[49m\u001b[38;5;241;43m*\u001b[39;49m\u001b[38;5;241;43m*\u001b[39;49m\u001b[43mkwargs\u001b[49m\u001b[43m)\u001b[49m\n\u001b[1;32m     71\u001b[0m     \u001b[38;5;28;01mexcept\u001b[39;00m \u001b[38;5;167;01mTypeError\u001b[39;00m \u001b[38;5;28;01mas\u001b[39;00m e:\n\u001b[1;32m     72\u001b[0m         \u001b[38;5;28;01mif\u001b[39;00m \u001b[38;5;129;01mnot\u001b[39;00m e\u001b[38;5;241m.\u001b[39margs \u001b[38;5;129;01mor\u001b[39;00m \u001b[38;5;129;01mnot\u001b[39;00m e\u001b[38;5;241m.\u001b[39margs[\u001b[38;5;241m0\u001b[39m]\u001b[38;5;241m.\u001b[39mstartswith(\u001b[38;5;124m'\u001b[39m\u001b[38;5;124munhashable type:\u001b[39m\u001b[38;5;124m'\u001b[39m):\n",
      "File \u001b[0;32m/opt/anaconda3/lib/python3.9/site-packages/sympy/core/expr.py:3624\u001b[0m, in \u001b[0;36mExpr.expand\u001b[0;34m(self, deep, modulus, power_base, power_exp, mul, log, multinomial, basic, **hints)\u001b[0m\n\u001b[1;32m   3622\u001b[0m     \u001b[38;5;28;01mif\u001b[39;00m use_hint:\n\u001b[1;32m   3623\u001b[0m         hint \u001b[38;5;241m=\u001b[39m \u001b[38;5;124m'\u001b[39m\u001b[38;5;124m_eval_expand_\u001b[39m\u001b[38;5;124m'\u001b[39m \u001b[38;5;241m+\u001b[39m hint\n\u001b[0;32m-> 3624\u001b[0m         expr, hit \u001b[38;5;241m=\u001b[39m \u001b[43mExpr\u001b[49m\u001b[38;5;241;43m.\u001b[39;49m\u001b[43m_expand_hint\u001b[49m\u001b[43m(\u001b[49m\u001b[43mexpr\u001b[49m\u001b[43m,\u001b[49m\u001b[43m \u001b[49m\u001b[43mhint\u001b[49m\u001b[43m,\u001b[49m\u001b[43m \u001b[49m\u001b[43mdeep\u001b[49m\u001b[38;5;241;43m=\u001b[39;49m\u001b[43mdeep\u001b[49m\u001b[43m,\u001b[49m\u001b[43m \u001b[49m\u001b[38;5;241;43m*\u001b[39;49m\u001b[38;5;241;43m*\u001b[39;49m\u001b[43mhints\u001b[49m\u001b[43m)\u001b[49m\n\u001b[1;32m   3626\u001b[0m \u001b[38;5;28;01mwhile\u001b[39;00m \u001b[38;5;28;01mTrue\u001b[39;00m:\n\u001b[1;32m   3627\u001b[0m     was \u001b[38;5;241m=\u001b[39m expr\n",
      "File \u001b[0;32m/opt/anaconda3/lib/python3.9/site-packages/sympy/core/expr.py:3557\u001b[0m, in \u001b[0;36mExpr._expand_hint\u001b[0;34m(expr, hint, deep, **hints)\u001b[0m\n\u001b[1;32m   3555\u001b[0m sargs \u001b[38;5;241m=\u001b[39m []\n\u001b[1;32m   3556\u001b[0m \u001b[38;5;28;01mfor\u001b[39;00m arg \u001b[38;5;129;01min\u001b[39;00m expr\u001b[38;5;241m.\u001b[39margs:\n\u001b[0;32m-> 3557\u001b[0m     arg, arghit \u001b[38;5;241m=\u001b[39m \u001b[43mExpr\u001b[49m\u001b[38;5;241;43m.\u001b[39;49m\u001b[43m_expand_hint\u001b[49m\u001b[43m(\u001b[49m\u001b[43marg\u001b[49m\u001b[43m,\u001b[49m\u001b[43m \u001b[49m\u001b[43mhint\u001b[49m\u001b[43m,\u001b[49m\u001b[43m \u001b[49m\u001b[38;5;241;43m*\u001b[39;49m\u001b[38;5;241;43m*\u001b[39;49m\u001b[43mhints\u001b[49m\u001b[43m)\u001b[49m\n\u001b[1;32m   3558\u001b[0m     hit \u001b[38;5;241m|\u001b[39m\u001b[38;5;241m=\u001b[39m arghit\n\u001b[1;32m   3559\u001b[0m     sargs\u001b[38;5;241m.\u001b[39mappend(arg)\n",
      "File \u001b[0;32m/opt/anaconda3/lib/python3.9/site-packages/sympy/core/expr.py:3565\u001b[0m, in \u001b[0;36mExpr._expand_hint\u001b[0;34m(expr, hint, deep, **hints)\u001b[0m\n\u001b[1;32m   3562\u001b[0m         expr \u001b[38;5;241m=\u001b[39m expr\u001b[38;5;241m.\u001b[39mfunc(\u001b[38;5;241m*\u001b[39msargs)\n\u001b[1;32m   3564\u001b[0m \u001b[38;5;28;01mif\u001b[39;00m \u001b[38;5;28mhasattr\u001b[39m(expr, hint):\n\u001b[0;32m-> 3565\u001b[0m     newexpr \u001b[38;5;241m=\u001b[39m \u001b[38;5;28;43mgetattr\u001b[39;49m\u001b[43m(\u001b[49m\u001b[43mexpr\u001b[49m\u001b[43m,\u001b[49m\u001b[43m \u001b[49m\u001b[43mhint\u001b[49m\u001b[43m)\u001b[49m\u001b[43m(\u001b[49m\u001b[38;5;241;43m*\u001b[39;49m\u001b[38;5;241;43m*\u001b[39;49m\u001b[43mhints\u001b[49m\u001b[43m)\u001b[49m\n\u001b[1;32m   3566\u001b[0m     \u001b[38;5;28;01mif\u001b[39;00m newexpr \u001b[38;5;241m!=\u001b[39m expr:\n\u001b[1;32m   3567\u001b[0m         \u001b[38;5;28;01mreturn\u001b[39;00m (newexpr, \u001b[38;5;28;01mTrue\u001b[39;00m)\n",
      "File \u001b[0;32m/opt/anaconda3/lib/python3.9/site-packages/sympy/core/mul.py:974\u001b[0m, in \u001b[0;36mMul._eval_expand_mul\u001b[0;34m(self, **hints)\u001b[0m\n\u001b[1;32m    972\u001b[0m \u001b[38;5;28;01mif\u001b[39;00m sums:\n\u001b[1;32m    973\u001b[0m     deep \u001b[38;5;241m=\u001b[39m hints\u001b[38;5;241m.\u001b[39mget(\u001b[38;5;124m\"\u001b[39m\u001b[38;5;124mdeep\u001b[39m\u001b[38;5;124m\"\u001b[39m, \u001b[38;5;28;01mFalse\u001b[39;00m)\n\u001b[0;32m--> 974\u001b[0m     terms \u001b[38;5;241m=\u001b[39m \u001b[38;5;28;43mself\u001b[39;49m\u001b[38;5;241;43m.\u001b[39;49m\u001b[43mfunc\u001b[49m\u001b[38;5;241;43m.\u001b[39;49m\u001b[43m_expandsums\u001b[49m\u001b[43m(\u001b[49m\u001b[43msums\u001b[49m\u001b[43m)\u001b[49m\n\u001b[1;32m    975\u001b[0m     args \u001b[38;5;241m=\u001b[39m []\n\u001b[1;32m    976\u001b[0m     \u001b[38;5;28;01mfor\u001b[39;00m term \u001b[38;5;129;01min\u001b[39;00m terms:\n",
      "File \u001b[0;32m/opt/anaconda3/lib/python3.9/site-packages/sympy/core/mul.py:940\u001b[0m, in \u001b[0;36mMul._expandsums\u001b[0;34m(sums)\u001b[0m\n\u001b[1;32m    937\u001b[0m right \u001b[38;5;241m=\u001b[39m Mul\u001b[38;5;241m.\u001b[39m_expandsums(sums[L\u001b[38;5;241m/\u001b[39m\u001b[38;5;241m/\u001b[39m\u001b[38;5;241m2\u001b[39m:])\n\u001b[1;32m    939\u001b[0m terms \u001b[38;5;241m=\u001b[39m [Mul(a, b) \u001b[38;5;28;01mfor\u001b[39;00m a \u001b[38;5;129;01min\u001b[39;00m left \u001b[38;5;28;01mfor\u001b[39;00m b \u001b[38;5;129;01min\u001b[39;00m right]\n\u001b[0;32m--> 940\u001b[0m added \u001b[38;5;241m=\u001b[39m \u001b[43mAdd\u001b[49m\u001b[43m(\u001b[49m\u001b[38;5;241;43m*\u001b[39;49m\u001b[43mterms\u001b[49m\u001b[43m)\u001b[49m\n\u001b[1;32m    941\u001b[0m \u001b[38;5;28;01mreturn\u001b[39;00m Add\u001b[38;5;241m.\u001b[39mmake_args(added)\n",
      "File \u001b[0;32m/opt/anaconda3/lib/python3.9/site-packages/sympy/core/cache.py:70\u001b[0m, in \u001b[0;36m__cacheit.<locals>.func_wrapper.<locals>.wrapper\u001b[0;34m(*args, **kwargs)\u001b[0m\n\u001b[1;32m     67\u001b[0m \u001b[38;5;129m@wraps\u001b[39m(func)\n\u001b[1;32m     68\u001b[0m \u001b[38;5;28;01mdef\u001b[39;00m \u001b[38;5;21mwrapper\u001b[39m(\u001b[38;5;241m*\u001b[39margs, \u001b[38;5;241m*\u001b[39m\u001b[38;5;241m*\u001b[39mkwargs):\n\u001b[1;32m     69\u001b[0m     \u001b[38;5;28;01mtry\u001b[39;00m:\n\u001b[0;32m---> 70\u001b[0m         retval \u001b[38;5;241m=\u001b[39m \u001b[43mcfunc\u001b[49m\u001b[43m(\u001b[49m\u001b[38;5;241;43m*\u001b[39;49m\u001b[43margs\u001b[49m\u001b[43m,\u001b[49m\u001b[43m \u001b[49m\u001b[38;5;241;43m*\u001b[39;49m\u001b[38;5;241;43m*\u001b[39;49m\u001b[43mkwargs\u001b[49m\u001b[43m)\u001b[49m\n\u001b[1;32m     71\u001b[0m     \u001b[38;5;28;01mexcept\u001b[39;00m \u001b[38;5;167;01mTypeError\u001b[39;00m \u001b[38;5;28;01mas\u001b[39;00m e:\n\u001b[1;32m     72\u001b[0m         \u001b[38;5;28;01mif\u001b[39;00m \u001b[38;5;129;01mnot\u001b[39;00m e\u001b[38;5;241m.\u001b[39margs \u001b[38;5;129;01mor\u001b[39;00m \u001b[38;5;129;01mnot\u001b[39;00m e\u001b[38;5;241m.\u001b[39margs[\u001b[38;5;241m0\u001b[39m]\u001b[38;5;241m.\u001b[39mstartswith(\u001b[38;5;124m'\u001b[39m\u001b[38;5;124munhashable type:\u001b[39m\u001b[38;5;124m'\u001b[39m):\n",
      "File \u001b[0;32m/opt/anaconda3/lib/python3.9/site-packages/sympy/core/operations.py:98\u001b[0m, in \u001b[0;36mAssocOp.__new__\u001b[0;34m(cls, evaluate, _sympify, *args)\u001b[0m\n\u001b[1;32m     95\u001b[0m \u001b[38;5;28;01mif\u001b[39;00m \u001b[38;5;28mlen\u001b[39m(args) \u001b[38;5;241m==\u001b[39m \u001b[38;5;241m1\u001b[39m:\n\u001b[1;32m     96\u001b[0m     \u001b[38;5;28;01mreturn\u001b[39;00m args[\u001b[38;5;241m0\u001b[39m]\n\u001b[0;32m---> 98\u001b[0m c_part, nc_part, order_symbols \u001b[38;5;241m=\u001b[39m \u001b[38;5;28;43mcls\u001b[39;49m\u001b[38;5;241;43m.\u001b[39;49m\u001b[43mflatten\u001b[49m\u001b[43m(\u001b[49m\u001b[43margs\u001b[49m\u001b[43m)\u001b[49m\n\u001b[1;32m     99\u001b[0m is_commutative \u001b[38;5;241m=\u001b[39m \u001b[38;5;129;01mnot\u001b[39;00m nc_part\n\u001b[1;32m    100\u001b[0m obj \u001b[38;5;241m=\u001b[39m \u001b[38;5;28mcls\u001b[39m\u001b[38;5;241m.\u001b[39m_from_args(c_part \u001b[38;5;241m+\u001b[39m nc_part, is_commutative)\n",
      "File \u001b[0;32m/opt/anaconda3/lib/python3.9/site-packages/sympy/core/add.py:308\u001b[0m, in \u001b[0;36mAdd.flatten\u001b[0;34m(cls, seq)\u001b[0m\n\u001b[1;32m    300\u001b[0m \u001b[38;5;66;03m# now we have:\u001b[39;00m\n\u001b[1;32m    301\u001b[0m \u001b[38;5;66;03m# o = c*s, where\u001b[39;00m\n\u001b[1;32m    302\u001b[0m \u001b[38;5;66;03m#\u001b[39;00m\n\u001b[0;32m   (...)\u001b[0m\n\u001b[1;32m    305\u001b[0m \u001b[38;5;66;03m# let's collect terms with the same s, so e.g.\u001b[39;00m\n\u001b[1;32m    306\u001b[0m \u001b[38;5;66;03m# 2*x**2 + 3*x**2  ->  5*x**2\u001b[39;00m\n\u001b[1;32m    307\u001b[0m \u001b[38;5;28;01mif\u001b[39;00m s \u001b[38;5;129;01min\u001b[39;00m terms:\n\u001b[0;32m--> 308\u001b[0m     terms[s] \u001b[38;5;241m+\u001b[39m\u001b[38;5;241m=\u001b[39m c\n\u001b[1;32m    309\u001b[0m     \u001b[38;5;28;01mif\u001b[39;00m terms[s] \u001b[38;5;129;01mis\u001b[39;00m S\u001b[38;5;241m.\u001b[39mNaN \u001b[38;5;129;01mand\u001b[39;00m \u001b[38;5;129;01mnot\u001b[39;00m extra:\n\u001b[1;32m    310\u001b[0m         \u001b[38;5;66;03m# we know for sure the result will be nan\u001b[39;00m\n\u001b[1;32m    311\u001b[0m         \u001b[38;5;28;01mreturn\u001b[39;00m [S\u001b[38;5;241m.\u001b[39mNaN], [], \u001b[38;5;28;01mNone\u001b[39;00m\n",
      "File \u001b[0;32m/opt/anaconda3/lib/python3.9/site-packages/sympy/core/basic.py:376\u001b[0m, in \u001b[0;36mBasic.__eq__\u001b[0;34m(self, other)\u001b[0m\n\u001b[1;32m    373\u001b[0m \u001b[38;5;28;01mif\u001b[39;00m  \u001b[38;5;129;01mnot\u001b[39;00m (\u001b[38;5;28mself\u001b[39m\u001b[38;5;241m.\u001b[39mis_Number \u001b[38;5;129;01mand\u001b[39;00m other\u001b[38;5;241m.\u001b[39mis_Number) \u001b[38;5;129;01mand\u001b[39;00m (\n\u001b[1;32m    374\u001b[0m         \u001b[38;5;28mtype\u001b[39m(\u001b[38;5;28mself\u001b[39m) \u001b[38;5;241m!=\u001b[39m \u001b[38;5;28mtype\u001b[39m(other)):\n\u001b[1;32m    375\u001b[0m     \u001b[38;5;28;01mreturn\u001b[39;00m \u001b[38;5;28;01mFalse\u001b[39;00m\n\u001b[0;32m--> 376\u001b[0m a, b \u001b[38;5;241m=\u001b[39m \u001b[38;5;28mself\u001b[39m\u001b[38;5;241m.\u001b[39m_hashable_content(), \u001b[43mother\u001b[49m\u001b[38;5;241;43m.\u001b[39;49m\u001b[43m_hashable_content\u001b[49m()\n\u001b[1;32m    377\u001b[0m \u001b[38;5;28;01mif\u001b[39;00m a \u001b[38;5;241m!=\u001b[39m b:\n\u001b[1;32m    378\u001b[0m     \u001b[38;5;28;01mreturn\u001b[39;00m \u001b[38;5;28;01mFalse\u001b[39;00m\n",
      "\u001b[0;31mKeyboardInterrupt\u001b[0m: "
     ]
    }
   ],
   "source": [
    "psi_solns = sp.solve(deriv, psi)\n",
    "psi_solns"
   ]
  },
  {
   "cell_type": "code",
   "execution_count": null,
   "metadata": {},
   "outputs": [],
   "source": []
  }
 ],
 "metadata": {
  "kernelspec": {
   "display_name": "Python 3 (ipykernel)",
   "language": "python",
   "name": "python3"
  },
  "language_info": {
   "codemirror_mode": {
    "name": "ipython",
    "version": 3
   },
   "file_extension": ".py",
   "mimetype": "text/x-python",
   "name": "python",
   "nbconvert_exporter": "python",
   "pygments_lexer": "ipython3",
   "version": "3.9.12"
  }
 },
 "nbformat": 4,
 "nbformat_minor": 4
}
