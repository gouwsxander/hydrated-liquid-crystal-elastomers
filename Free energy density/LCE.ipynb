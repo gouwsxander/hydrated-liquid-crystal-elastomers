{
 "cells": [
  {
   "cell_type": "code",
   "execution_count": 3,
   "id": "3d6544b7-c7ad-45a5-a3d0-1d2387a4d9d1",
   "metadata": {},
   "outputs": [],
   "source": [
    "import sympy as sp"
   ]
  },
  {
   "cell_type": "code",
   "execution_count": 21,
   "id": "1df67b34-5305-41d6-974a-13b16456c55d",
   "metadata": {},
   "outputs": [],
   "source": [
    "x, y, z, r, phi = sp.symbols('x y z r phi')\n",
    "\n",
    "psi_0, psi = sp.symbols('psi_0 psi')\n",
    "\n",
    "lambda_r, lambda_z = sp.symbols('lambda_r lambda_z')\n",
    "\n",
    "zeta, v_swell, mu = sp.symbols('zeta v_\\\\text{swell} mu')"
   ]
  },
  {
   "cell_type": "code",
   "execution_count": 22,
   "id": "7df2dbd6-a2a9-4f88-beec-f644b2930371",
   "metadata": {},
   "outputs": [],
   "source": [
    "x_hat = sp.Matrix([1, 0, 0])\n",
    "y_hat = sp.Matrix([0, 1, 0])\n",
    "z_hat = sp.Matrix([0, 0, 1])\n",
    "\n",
    "r_hat = sp.cos(phi) * x_hat + sp.sin(phi) * y_hat\n",
    "phi_hat = - sp.sin(phi) * x_hat + sp.cos(phi) * y_hat"
   ]
  },
  {
   "cell_type": "code",
   "execution_count": 23,
   "id": "58e5042c-6348-4af5-bc8d-5728186e453e",
   "metadata": {},
   "outputs": [
    {
     "data": {
      "text/latex": [
       "$\\displaystyle \\left[\\begin{matrix}- \\sin{\\left(\\phi \\right)}\\\\\\cos{\\left(\\phi \\right)}\\\\0\\end{matrix}\\right]$"
      ],
      "text/plain": [
       "Matrix([\n",
       "[-sin(phi)],\n",
       "[ cos(phi)],\n",
       "[        0]])"
      ]
     },
     "execution_count": 23,
     "metadata": {},
     "output_type": "execute_result"
    }
   ],
   "source": [
    "phi_hat"
   ]
  },
  {
   "cell_type": "code",
   "execution_count": 24,
   "id": "fdb0a696-56f6-44da-b3a9-ed7e38a4960a",
   "metadata": {},
   "outputs": [],
   "source": [
    "n_hat = - sp.sin(psi) * phi_hat + sp.cos(psi) * z_hat\n",
    "n_hat_0 = n_hat.subs(psi, psi_0)"
   ]
  },
  {
   "cell_type": "code",
   "execution_count": 25,
   "id": "28597e57-71e8-49f1-b37d-cee709c09d4b",
   "metadata": {},
   "outputs": [
    {
     "data": {
      "text/latex": [
       "$\\displaystyle \\left[\\begin{matrix}\\sin{\\left(\\phi \\right)} \\sin{\\left(\\psi \\right)}\\\\- \\sin{\\left(\\psi \\right)} \\cos{\\left(\\phi \\right)}\\\\\\cos{\\left(\\psi \\right)}\\end{matrix}\\right]$"
      ],
      "text/plain": [
       "Matrix([\n",
       "[ sin(phi)*sin(psi)],\n",
       "[-sin(psi)*cos(phi)],\n",
       "[          cos(psi)]])"
      ]
     },
     "execution_count": 25,
     "metadata": {},
     "output_type": "execute_result"
    }
   ],
   "source": [
    "n_hat"
   ]
  },
  {
   "cell_type": "code",
   "execution_count": 26,
   "id": "1b75d293-cc6e-422e-9e0f-924d55072afb",
   "metadata": {},
   "outputs": [
    {
     "data": {
      "text/latex": [
       "$\\displaystyle \\left[\\begin{matrix}\\sin{\\left(\\phi \\right)} \\sin{\\left(\\psi_{0} \\right)}\\\\- \\sin{\\left(\\psi_{0} \\right)} \\cos{\\left(\\phi \\right)}\\\\\\cos{\\left(\\psi_{0} \\right)}\\end{matrix}\\right]$"
      ],
      "text/plain": [
       "Matrix([\n",
       "[ sin(phi)*sin(psi_0)],\n",
       "[-sin(psi_0)*cos(phi)],\n",
       "[          cos(psi_0)]])"
      ]
     },
     "execution_count": 26,
     "metadata": {},
     "output_type": "execute_result"
    }
   ],
   "source": [
    "n_hat_0"
   ]
  },
  {
   "cell_type": "code",
   "execution_count": 27,
   "id": "8698920f-c697-49b7-b7b8-98e25450b299",
   "metadata": {},
   "outputs": [
    {
     "data": {
      "text/latex": [
       "$\\displaystyle \\left[\\begin{matrix}\\lambda_{r} & 0 & 0\\\\0 & \\lambda_{r} & 0\\\\0 & 0 & \\lambda_{z}\\end{matrix}\\right]$"
      ],
      "text/plain": [
       "Matrix([\n",
       "[lambda_r,        0,        0],\n",
       "[       0, lambda_r,        0],\n",
       "[       0,        0, lambda_z]])"
      ]
     },
     "execution_count": 27,
     "metadata": {},
     "output_type": "execute_result"
    }
   ],
   "source": [
    "Lambda = sp.diag(lambda_r, lambda_r, lambda_z)\n",
    "Lambda"
   ]
  },
  {
   "cell_type": "code",
   "execution_count": 28,
   "id": "0677ef9a-8a75-44b0-a733-38610fc2b0ee",
   "metadata": {},
   "outputs": [
    {
     "data": {
      "text/latex": [
       "$\\displaystyle \\left[\\begin{matrix}1 & 0 & 0\\\\0 & 1 & 0\\\\0 & 0 & 1\\end{matrix}\\right]$"
      ],
      "text/plain": [
       "Matrix([\n",
       "[1, 0, 0],\n",
       "[0, 1, 0],\n",
       "[0, 0, 1]])"
      ]
     },
     "execution_count": 28,
     "metadata": {},
     "output_type": "execute_result"
    }
   ],
   "source": [
    "delta = sp.eye(3)\n",
    "delta"
   ]
  },
  {
   "cell_type": "code",
   "execution_count": 30,
   "id": "1966d3bc-939a-4bf6-bd87-906eea0d5bce",
   "metadata": {},
   "outputs": [
    {
     "data": {
      "text/latex": [
       "$\\displaystyle \\left[\\begin{matrix}\\left(\\zeta - 1\\right) \\sin^{2}{\\left(\\phi \\right)} \\sin^{2}{\\left(\\psi_{0} \\right)} + 1 & - \\left(\\zeta - 1\\right) \\sin{\\left(\\phi \\right)} \\sin^{2}{\\left(\\psi_{0} \\right)} \\cos{\\left(\\phi \\right)} & \\left(\\zeta - 1\\right) \\sin{\\left(\\phi \\right)} \\sin{\\left(\\psi_{0} \\right)} \\cos{\\left(\\psi_{0} \\right)}\\\\- \\left(\\zeta - 1\\right) \\sin{\\left(\\phi \\right)} \\sin^{2}{\\left(\\psi_{0} \\right)} \\cos{\\left(\\phi \\right)} & \\left(\\zeta - 1\\right) \\sin^{2}{\\left(\\psi_{0} \\right)} \\cos^{2}{\\left(\\phi \\right)} + 1 & - \\left(\\zeta - 1\\right) \\sin{\\left(\\psi_{0} \\right)} \\cos{\\left(\\phi \\right)} \\cos{\\left(\\psi_{0} \\right)}\\\\\\left(\\zeta - 1\\right) \\sin{\\left(\\phi \\right)} \\sin{\\left(\\psi_{0} \\right)} \\cos{\\left(\\psi_{0} \\right)} & - \\left(\\zeta - 1\\right) \\sin{\\left(\\psi_{0} \\right)} \\cos{\\left(\\phi \\right)} \\cos{\\left(\\psi_{0} \\right)} & \\left(\\zeta - 1\\right) \\cos^{2}{\\left(\\psi_{0} \\right)} + 1\\end{matrix}\\right]$"
      ],
      "text/plain": [
       "Matrix([\n",
       "[   (zeta - 1)*sin(phi)**2*sin(psi_0)**2 + 1, -(zeta - 1)*sin(phi)*sin(psi_0)**2*cos(phi),  (zeta - 1)*sin(phi)*sin(psi_0)*cos(psi_0)],\n",
       "[-(zeta - 1)*sin(phi)*sin(psi_0)**2*cos(phi),    (zeta - 1)*sin(psi_0)**2*cos(phi)**2 + 1, -(zeta - 1)*sin(psi_0)*cos(phi)*cos(psi_0)],\n",
       "[  (zeta - 1)*sin(phi)*sin(psi_0)*cos(psi_0),  -(zeta - 1)*sin(psi_0)*cos(phi)*cos(psi_0),               (zeta - 1)*cos(psi_0)**2 + 1]])"
      ]
     },
     "execution_count": 30,
     "metadata": {},
     "output_type": "execute_result"
    }
   ],
   "source": [
    "L = delta + (zeta - 1) * (n_hat * sp.transpose(n_hat))\n",
    "L_0 = L.subs(psi, psi_0)\n",
    "\n",
    "L_0"
   ]
  },
  {
   "cell_type": "code",
   "execution_count": 32,
   "id": "6ae49422-8584-40d8-8298-60720dfe2307",
   "metadata": {},
   "outputs": [],
   "source": [
    "f = mu/2 * sp.Trace(L_0 * sp.Transpose(Lambda) * sp.Inverse(L) * Lambda)\n",
    "f = f.simplify()  # calculates trace"
   ]
  },
  {
   "cell_type": "code",
   "execution_count": 33,
   "id": "45e7f788-82da-4c65-aaca-03998ee7dd5f",
   "metadata": {},
   "outputs": [
    {
     "data": {
      "text/latex": [
       "$\\displaystyle \\frac{\\mu \\left(- \\frac{\\lambda_{r} \\left(\\lambda_{r} \\left(\\zeta - 1\\right)^{2} \\sin^{2}{\\left(\\phi \\right)} \\sin^{2}{\\left(\\psi \\right)} \\sin^{2}{\\left(\\psi_{0} \\right)} \\cos^{2}{\\left(\\phi \\right)} - \\lambda_{r} \\left(\\left(\\zeta - 1\\right) \\sin^{2}{\\left(\\phi \\right)} \\sin^{2}{\\left(\\psi_{0} \\right)} + 1\\right) \\left(- \\zeta \\sin^{2}{\\left(\\phi \\right)} \\sin^{2}{\\left(\\psi \\right)} + \\zeta + \\sin^{2}{\\left(\\phi \\right)} \\sin^{2}{\\left(\\psi \\right)}\\right) + \\lambda_{z} \\left(\\zeta - 1\\right)^{2} \\sin^{2}{\\left(\\phi \\right)} \\sin{\\left(\\psi \\right)} \\sin{\\left(\\psi_{0} \\right)} \\cos{\\left(\\psi \\right)} \\cos{\\left(\\psi_{0} \\right)}\\right)}{\\zeta} - \\frac{\\lambda_{r} \\left(\\lambda_{r} \\left(\\zeta - 1\\right)^{2} \\sin^{2}{\\left(\\phi \\right)} \\sin^{2}{\\left(\\psi \\right)} \\sin^{2}{\\left(\\psi_{0} \\right)} \\cos^{2}{\\left(\\phi \\right)} - \\lambda_{r} \\left(\\left(\\zeta - 1\\right) \\sin^{2}{\\left(\\psi_{0} \\right)} \\cos^{2}{\\left(\\phi \\right)} + 1\\right) \\left(\\zeta \\sin^{2}{\\left(\\phi \\right)} \\sin^{2}{\\left(\\psi \\right)} - \\zeta \\sin^{2}{\\left(\\psi \\right)} + \\zeta - \\sin^{2}{\\left(\\phi \\right)} \\sin^{2}{\\left(\\psi \\right)} + \\sin^{2}{\\left(\\psi \\right)}\\right) + \\lambda_{z} \\left(\\zeta - 1\\right)^{2} \\sin{\\left(\\psi \\right)} \\sin{\\left(\\psi_{0} \\right)} \\cos^{2}{\\left(\\phi \\right)} \\cos{\\left(\\psi \\right)} \\cos{\\left(\\psi_{0} \\right)}\\right)}{\\zeta} - \\frac{\\lambda_{z} \\left(\\lambda_{r} \\left(\\zeta - 1\\right)^{2} \\sin^{2}{\\left(\\phi \\right)} \\sin{\\left(\\psi \\right)} \\sin{\\left(\\psi_{0} \\right)} \\cos{\\left(\\psi \\right)} \\cos{\\left(\\psi_{0} \\right)} + \\lambda_{r} \\left(\\zeta - 1\\right)^{2} \\sin{\\left(\\psi \\right)} \\sin{\\left(\\psi_{0} \\right)} \\cos^{2}{\\left(\\phi \\right)} \\cos{\\left(\\psi \\right)} \\cos{\\left(\\psi_{0} \\right)} - \\lambda_{z} \\left(\\left(\\zeta - 1\\right) \\cos^{2}{\\left(\\psi_{0} \\right)} + 1\\right) \\left(- \\zeta \\cos^{2}{\\left(\\psi \\right)} + \\zeta + \\cos^{2}{\\left(\\psi \\right)}\\right)\\right)}{\\zeta}\\right)}{2}$"
      ],
      "text/plain": [
       "mu*(-lambda_r*(lambda_r*(zeta - 1)**2*sin(phi)**2*sin(psi)**2*sin(psi_0)**2*cos(phi)**2 - lambda_r*((zeta - 1)*sin(phi)**2*sin(psi_0)**2 + 1)*(-zeta*sin(phi)**2*sin(psi)**2 + zeta + sin(phi)**2*sin(psi)**2) + lambda_z*(zeta - 1)**2*sin(phi)**2*sin(psi)*sin(psi_0)*cos(psi)*cos(psi_0))/zeta - lambda_r*(lambda_r*(zeta - 1)**2*sin(phi)**2*sin(psi)**2*sin(psi_0)**2*cos(phi)**2 - lambda_r*((zeta - 1)*sin(psi_0)**2*cos(phi)**2 + 1)*(zeta*sin(phi)**2*sin(psi)**2 - zeta*sin(psi)**2 + zeta - sin(phi)**2*sin(psi)**2 + sin(psi)**2) + lambda_z*(zeta - 1)**2*sin(psi)*sin(psi_0)*cos(phi)**2*cos(psi)*cos(psi_0))/zeta - lambda_z*(lambda_r*(zeta - 1)**2*sin(phi)**2*sin(psi)*sin(psi_0)*cos(psi)*cos(psi_0) + lambda_r*(zeta - 1)**2*sin(psi)*sin(psi_0)*cos(phi)**2*cos(psi)*cos(psi_0) - lambda_z*((zeta - 1)*cos(psi_0)**2 + 1)*(-zeta*cos(psi)**2 + zeta + cos(psi)**2))/zeta)/2"
      ]
     },
     "execution_count": 33,
     "metadata": {},
     "output_type": "execute_result"
    }
   ],
   "source": [
    "f"
   ]
  },
  {
   "cell_type": "code",
   "execution_count": 36,
   "id": "bc905f9c-c7d4-4d37-943b-868803d509ed",
   "metadata": {},
   "outputs": [
    {
     "data": {
      "text/latex": [
       "$\\displaystyle - \\frac{\\mu \\left(\\lambda_{r}^{2} \\zeta^{2} \\sin^{4}{\\left(\\phi \\right)} \\sin^{2}{\\left(\\psi \\right)} \\sin^{2}{\\left(\\psi_{0} \\right)} + \\lambda_{r}^{2} \\zeta^{2} \\sin^{2}{\\left(\\phi \\right)} \\sin^{2}{\\left(\\psi \\right)} \\sin^{2}{\\left(\\psi_{0} \\right)} \\cos^{2}{\\left(\\phi \\right)} - \\lambda_{r}^{2} \\zeta^{2} \\sin^{2}{\\left(\\phi \\right)} \\sin^{2}{\\left(\\psi_{0} \\right)} + \\lambda_{r}^{2} \\zeta^{2} \\sin^{2}{\\left(\\psi \\right)} \\sin^{2}{\\left(\\psi_{0} \\right)} \\cos^{2}{\\left(\\phi \\right)} - \\lambda_{r}^{2} \\zeta^{2} \\sin^{2}{\\left(\\psi_{0} \\right)} \\cos^{2}{\\left(\\phi \\right)} - 2 \\lambda_{r}^{2} \\zeta \\sin^{4}{\\left(\\phi \\right)} \\sin^{2}{\\left(\\psi \\right)} \\sin^{2}{\\left(\\psi_{0} \\right)} - 2 \\lambda_{r}^{2} \\zeta \\sin^{2}{\\left(\\phi \\right)} \\sin^{2}{\\left(\\psi \\right)} \\sin^{2}{\\left(\\psi_{0} \\right)} \\cos^{2}{\\left(\\phi \\right)} + \\lambda_{r}^{2} \\zeta \\sin^{2}{\\left(\\phi \\right)} \\sin^{2}{\\left(\\psi_{0} \\right)} - 2 \\lambda_{r}^{2} \\zeta \\sin^{2}{\\left(\\psi \\right)} \\sin^{2}{\\left(\\psi_{0} \\right)} \\cos^{2}{\\left(\\phi \\right)} + \\lambda_{r}^{2} \\zeta \\sin^{2}{\\left(\\psi \\right)} + \\lambda_{r}^{2} \\zeta \\sin^{2}{\\left(\\psi_{0} \\right)} \\cos^{2}{\\left(\\phi \\right)} - 2 \\lambda_{r}^{2} \\zeta + \\lambda_{r}^{2} \\sin^{4}{\\left(\\phi \\right)} \\sin^{2}{\\left(\\psi \\right)} \\sin^{2}{\\left(\\psi_{0} \\right)} + \\lambda_{r}^{2} \\sin^{2}{\\left(\\phi \\right)} \\sin^{2}{\\left(\\psi \\right)} \\sin^{2}{\\left(\\psi_{0} \\right)} \\cos^{2}{\\left(\\phi \\right)} + \\lambda_{r}^{2} \\sin^{2}{\\left(\\psi \\right)} \\sin^{2}{\\left(\\psi_{0} \\right)} \\cos^{2}{\\left(\\phi \\right)} - \\lambda_{r}^{2} \\sin^{2}{\\left(\\psi \\right)} + 2 \\lambda_{r} \\lambda_{z} \\zeta^{2} \\sin^{2}{\\left(\\phi \\right)} \\sin{\\left(\\psi \\right)} \\sin{\\left(\\psi_{0} \\right)} \\cos{\\left(\\psi \\right)} \\cos{\\left(\\psi_{0} \\right)} + 2 \\lambda_{r} \\lambda_{z} \\zeta^{2} \\sin{\\left(\\psi \\right)} \\sin{\\left(\\psi_{0} \\right)} \\cos^{2}{\\left(\\phi \\right)} \\cos{\\left(\\psi \\right)} \\cos{\\left(\\psi_{0} \\right)} - 4 \\lambda_{r} \\lambda_{z} \\zeta \\sin^{2}{\\left(\\phi \\right)} \\sin{\\left(\\psi \\right)} \\sin{\\left(\\psi_{0} \\right)} \\cos{\\left(\\psi \\right)} \\cos{\\left(\\psi_{0} \\right)} - 4 \\lambda_{r} \\lambda_{z} \\zeta \\sin{\\left(\\psi \\right)} \\sin{\\left(\\psi_{0} \\right)} \\cos^{2}{\\left(\\phi \\right)} \\cos{\\left(\\psi \\right)} \\cos{\\left(\\psi_{0} \\right)} + 2 \\lambda_{r} \\lambda_{z} \\sin^{2}{\\left(\\phi \\right)} \\sin{\\left(\\psi \\right)} \\sin{\\left(\\psi_{0} \\right)} \\cos{\\left(\\psi \\right)} \\cos{\\left(\\psi_{0} \\right)} + 2 \\lambda_{r} \\lambda_{z} \\sin{\\left(\\psi \\right)} \\sin{\\left(\\psi_{0} \\right)} \\cos^{2}{\\left(\\phi \\right)} \\cos{\\left(\\psi \\right)} \\cos{\\left(\\psi_{0} \\right)} + \\lambda_{z}^{2} \\zeta^{2} \\cos^{2}{\\left(\\psi \\right)} \\cos^{2}{\\left(\\psi_{0} \\right)} - \\lambda_{z}^{2} \\zeta^{2} \\cos^{2}{\\left(\\psi_{0} \\right)} - 2 \\lambda_{z}^{2} \\zeta \\cos^{2}{\\left(\\psi \\right)} \\cos^{2}{\\left(\\psi_{0} \\right)} + \\lambda_{z}^{2} \\zeta \\cos^{2}{\\left(\\psi \\right)} + \\lambda_{z}^{2} \\zeta \\cos^{2}{\\left(\\psi_{0} \\right)} - \\lambda_{z}^{2} \\zeta + \\lambda_{z}^{2} \\cos^{2}{\\left(\\psi \\right)} \\cos^{2}{\\left(\\psi_{0} \\right)} - \\lambda_{z}^{2} \\cos^{2}{\\left(\\psi \\right)}\\right)}{2 \\zeta}$"
      ],
      "text/plain": [
       "-mu*(lambda_r**2*zeta**2*sin(phi)**4*sin(psi)**2*sin(psi_0)**2 + lambda_r**2*zeta**2*sin(phi)**2*sin(psi)**2*sin(psi_0)**2*cos(phi)**2 - lambda_r**2*zeta**2*sin(phi)**2*sin(psi_0)**2 + lambda_r**2*zeta**2*sin(psi)**2*sin(psi_0)**2*cos(phi)**2 - lambda_r**2*zeta**2*sin(psi_0)**2*cos(phi)**2 - 2*lambda_r**2*zeta*sin(phi)**4*sin(psi)**2*sin(psi_0)**2 - 2*lambda_r**2*zeta*sin(phi)**2*sin(psi)**2*sin(psi_0)**2*cos(phi)**2 + lambda_r**2*zeta*sin(phi)**2*sin(psi_0)**2 - 2*lambda_r**2*zeta*sin(psi)**2*sin(psi_0)**2*cos(phi)**2 + lambda_r**2*zeta*sin(psi)**2 + lambda_r**2*zeta*sin(psi_0)**2*cos(phi)**2 - 2*lambda_r**2*zeta + lambda_r**2*sin(phi)**4*sin(psi)**2*sin(psi_0)**2 + lambda_r**2*sin(phi)**2*sin(psi)**2*sin(psi_0)**2*cos(phi)**2 + lambda_r**2*sin(psi)**2*sin(psi_0)**2*cos(phi)**2 - lambda_r**2*sin(psi)**2 + 2*lambda_r*lambda_z*zeta**2*sin(phi)**2*sin(psi)*sin(psi_0)*cos(psi)*cos(psi_0) + 2*lambda_r*lambda_z*zeta**2*sin(psi)*sin(psi_0)*cos(phi)**2*cos(psi)*cos(psi_0) - 4*lambda_r*lambda_z*zeta*sin(phi)**2*sin(psi)*sin(psi_0)*cos(psi)*cos(psi_0) - 4*lambda_r*lambda_z*zeta*sin(psi)*sin(psi_0)*cos(phi)**2*cos(psi)*cos(psi_0) + 2*lambda_r*lambda_z*sin(phi)**2*sin(psi)*sin(psi_0)*cos(psi)*cos(psi_0) + 2*lambda_r*lambda_z*sin(psi)*sin(psi_0)*cos(phi)**2*cos(psi)*cos(psi_0) + lambda_z**2*zeta**2*cos(psi)**2*cos(psi_0)**2 - lambda_z**2*zeta**2*cos(psi_0)**2 - 2*lambda_z**2*zeta*cos(psi)**2*cos(psi_0)**2 + lambda_z**2*zeta*cos(psi)**2 + lambda_z**2*zeta*cos(psi_0)**2 - lambda_z**2*zeta + lambda_z**2*cos(psi)**2*cos(psi_0)**2 - lambda_z**2*cos(psi)**2)/(2*zeta)"
      ]
     },
     "execution_count": 36,
     "metadata": {},
     "output_type": "execute_result"
    }
   ],
   "source": [
    "f = sp.factor(f)\n",
    "f"
   ]
  },
  {
   "cell_type": "code",
   "execution_count": 38,
   "id": "79eb42fa-0373-4078-b9fe-d21e607fb973",
   "metadata": {},
   "outputs": [
    {
     "data": {
      "text/latex": [
       "$\\displaystyle - \\frac{\\mu \\left(\\lambda_{r}^{2} \\zeta^{2} \\sin^{2}{\\left(\\psi \\right)} \\sin^{2}{\\left(\\psi_{0} \\right)} - \\lambda_{r}^{2} \\zeta^{2} \\sin^{2}{\\left(\\psi_{0} \\right)} - 2 \\lambda_{r}^{2} \\zeta \\sin^{2}{\\left(\\psi \\right)} \\sin^{2}{\\left(\\psi_{0} \\right)} + \\lambda_{r}^{2} \\zeta \\sin^{2}{\\left(\\psi \\right)} + \\lambda_{r}^{2} \\zeta \\sin^{2}{\\left(\\psi_{0} \\right)} - 2 \\lambda_{r}^{2} \\zeta + \\lambda_{r}^{2} \\sin^{2}{\\left(\\psi \\right)} \\sin^{2}{\\left(\\psi_{0} \\right)} - \\lambda_{r}^{2} \\sin^{2}{\\left(\\psi \\right)} + 2 \\lambda_{r} \\lambda_{z} \\zeta^{2} \\sin{\\left(\\psi \\right)} \\sin{\\left(\\psi_{0} \\right)} \\cos{\\left(\\psi \\right)} \\cos{\\left(\\psi_{0} \\right)} - 4 \\lambda_{r} \\lambda_{z} \\zeta \\sin{\\left(\\psi \\right)} \\sin{\\left(\\psi_{0} \\right)} \\cos{\\left(\\psi \\right)} \\cos{\\left(\\psi_{0} \\right)} + 2 \\lambda_{r} \\lambda_{z} \\sin{\\left(\\psi \\right)} \\sin{\\left(\\psi_{0} \\right)} \\cos{\\left(\\psi \\right)} \\cos{\\left(\\psi_{0} \\right)} + \\lambda_{z}^{2} \\zeta^{2} \\sin^{2}{\\left(\\psi \\right)} \\sin^{2}{\\left(\\psi_{0} \\right)} - \\lambda_{z}^{2} \\zeta^{2} \\sin^{2}{\\left(\\psi \\right)} - 2 \\lambda_{z}^{2} \\zeta \\sin^{2}{\\left(\\psi \\right)} \\sin^{2}{\\left(\\psi_{0} \\right)} + \\lambda_{z}^{2} \\zeta \\sin^{2}{\\left(\\psi \\right)} + \\lambda_{z}^{2} \\zeta \\sin^{2}{\\left(\\psi_{0} \\right)} - \\lambda_{z}^{2} \\zeta + \\lambda_{z}^{2} \\sin^{2}{\\left(\\psi \\right)} \\sin^{2}{\\left(\\psi_{0} \\right)} - \\lambda_{z}^{2} \\sin^{2}{\\left(\\psi_{0} \\right)}\\right)}{2 \\zeta}$"
      ],
      "text/plain": [
       "-mu*(lambda_r**2*zeta**2*sin(psi)**2*sin(psi_0)**2 - lambda_r**2*zeta**2*sin(psi_0)**2 - 2*lambda_r**2*zeta*sin(psi)**2*sin(psi_0)**2 + lambda_r**2*zeta*sin(psi)**2 + lambda_r**2*zeta*sin(psi_0)**2 - 2*lambda_r**2*zeta + lambda_r**2*sin(psi)**2*sin(psi_0)**2 - lambda_r**2*sin(psi)**2 + 2*lambda_r*lambda_z*zeta**2*sin(psi)*sin(psi_0)*cos(psi)*cos(psi_0) - 4*lambda_r*lambda_z*zeta*sin(psi)*sin(psi_0)*cos(psi)*cos(psi_0) + 2*lambda_r*lambda_z*sin(psi)*sin(psi_0)*cos(psi)*cos(psi_0) + lambda_z**2*zeta**2*sin(psi)**2*sin(psi_0)**2 - lambda_z**2*zeta**2*sin(psi)**2 - 2*lambda_z**2*zeta*sin(psi)**2*sin(psi_0)**2 + lambda_z**2*zeta*sin(psi)**2 + lambda_z**2*zeta*sin(psi_0)**2 - lambda_z**2*zeta + lambda_z**2*sin(psi)**2*sin(psi_0)**2 - lambda_z**2*sin(psi_0)**2)/(2*zeta)"
      ]
     },
     "execution_count": 38,
     "metadata": {},
     "output_type": "execute_result"
    }
   ],
   "source": [
    "f = sp.trigsimp(f)\n",
    "f"
   ]
  },
  {
   "cell_type": "markdown",
   "id": "b183cd45-03e0-4cd0-a815-895cdfe2fd15",
   "metadata": {},
   "source": [
    "# Path 1"
   ]
  },
  {
   "cell_type": "code",
   "execution_count": 48,
   "id": "bf1ac2ee-4240-4db5-93c1-2eb98d34ff26",
   "metadata": {},
   "outputs": [
    {
     "data": {
      "text/latex": [
       "$\\displaystyle - \\frac{\\lambda_{r}^{2} \\mu \\zeta \\sin^{2}{\\left(\\psi \\right)} \\sin^{2}{\\left(\\psi_{0} \\right)}}{2} + \\frac{\\lambda_{r}^{2} \\mu \\zeta \\sin^{2}{\\left(\\psi_{0} \\right)}}{2} + \\lambda_{r}^{2} \\mu \\sin^{2}{\\left(\\psi \\right)} \\sin^{2}{\\left(\\psi_{0} \\right)} - \\frac{\\lambda_{r}^{2} \\mu \\sin^{2}{\\left(\\psi \\right)}}{2} - \\frac{\\lambda_{r}^{2} \\mu \\sin^{2}{\\left(\\psi_{0} \\right)}}{2} + \\lambda_{r}^{2} \\mu - \\frac{\\lambda_{r}^{2} \\mu \\sin^{2}{\\left(\\psi \\right)} \\sin^{2}{\\left(\\psi_{0} \\right)}}{2 \\zeta} + \\frac{\\lambda_{r}^{2} \\mu \\sin^{2}{\\left(\\psi \\right)}}{2 \\zeta} - \\lambda_{r} \\lambda_{z} \\mu \\zeta \\sin{\\left(\\psi \\right)} \\sin{\\left(\\psi_{0} \\right)} \\cos{\\left(\\psi \\right)} \\cos{\\left(\\psi_{0} \\right)} + 2 \\lambda_{r} \\lambda_{z} \\mu \\sin{\\left(\\psi \\right)} \\sin{\\left(\\psi_{0} \\right)} \\cos{\\left(\\psi \\right)} \\cos{\\left(\\psi_{0} \\right)} - \\frac{\\lambda_{r} \\lambda_{z} \\mu \\sin{\\left(\\psi \\right)} \\sin{\\left(\\psi_{0} \\right)} \\cos{\\left(\\psi \\right)} \\cos{\\left(\\psi_{0} \\right)}}{\\zeta} - \\frac{\\lambda_{z}^{2} \\mu \\zeta \\sin^{2}{\\left(\\psi \\right)} \\sin^{2}{\\left(\\psi_{0} \\right)}}{2} + \\frac{\\lambda_{z}^{2} \\mu \\zeta \\sin^{2}{\\left(\\psi \\right)}}{2} + \\lambda_{z}^{2} \\mu \\sin^{2}{\\left(\\psi \\right)} \\sin^{2}{\\left(\\psi_{0} \\right)} - \\frac{\\lambda_{z}^{2} \\mu \\sin^{2}{\\left(\\psi \\right)}}{2} - \\frac{\\lambda_{z}^{2} \\mu \\sin^{2}{\\left(\\psi_{0} \\right)}}{2} + \\frac{\\lambda_{z}^{2} \\mu}{2} - \\frac{\\lambda_{z}^{2} \\mu \\sin^{2}{\\left(\\psi \\right)} \\sin^{2}{\\left(\\psi_{0} \\right)}}{2 \\zeta} + \\frac{\\lambda_{z}^{2} \\mu \\sin^{2}{\\left(\\psi_{0} \\right)}}{2 \\zeta}$"
      ],
      "text/plain": [
       "-lambda_r**2*mu*zeta*sin(psi)**2*sin(psi_0)**2/2 + lambda_r**2*mu*zeta*sin(psi_0)**2/2 + lambda_r**2*mu*sin(psi)**2*sin(psi_0)**2 - lambda_r**2*mu*sin(psi)**2/2 - lambda_r**2*mu*sin(psi_0)**2/2 + lambda_r**2*mu - lambda_r**2*mu*sin(psi)**2*sin(psi_0)**2/(2*zeta) + lambda_r**2*mu*sin(psi)**2/(2*zeta) - lambda_r*lambda_z*mu*zeta*sin(psi)*sin(psi_0)*cos(psi)*cos(psi_0) + 2*lambda_r*lambda_z*mu*sin(psi)*sin(psi_0)*cos(psi)*cos(psi_0) - lambda_r*lambda_z*mu*sin(psi)*sin(psi_0)*cos(psi)*cos(psi_0)/zeta - lambda_z**2*mu*zeta*sin(psi)**2*sin(psi_0)**2/2 + lambda_z**2*mu*zeta*sin(psi)**2/2 + lambda_z**2*mu*sin(psi)**2*sin(psi_0)**2 - lambda_z**2*mu*sin(psi)**2/2 - lambda_z**2*mu*sin(psi_0)**2/2 + lambda_z**2*mu/2 - lambda_z**2*mu*sin(psi)**2*sin(psi_0)**2/(2*zeta) + lambda_z**2*mu*sin(psi_0)**2/(2*zeta)"
      ]
     },
     "execution_count": 48,
     "metadata": {},
     "output_type": "execute_result"
    }
   ],
   "source": [
    "f = sp.expand(f)\n",
    "f"
   ]
  },
  {
   "cell_type": "code",
   "execution_count": 49,
   "id": "44e4160a-d31f-474e-a3b3-b9c23c669a5b",
   "metadata": {},
   "outputs": [
    {
     "data": {
      "text/latex": [
       "$\\displaystyle - \\frac{\\mu \\left(\\lambda_{r}^{2} \\zeta^{2} \\sin^{2}{\\left(\\psi \\right)} \\sin^{2}{\\left(\\psi_{0} \\right)} - \\lambda_{r}^{2} \\zeta^{2} \\sin^{2}{\\left(\\psi_{0} \\right)} - 2 \\lambda_{r}^{2} \\zeta \\sin^{2}{\\left(\\psi \\right)} \\sin^{2}{\\left(\\psi_{0} \\right)} + \\lambda_{r}^{2} \\zeta \\sin^{2}{\\left(\\psi \\right)} + \\lambda_{r}^{2} \\zeta \\sin^{2}{\\left(\\psi_{0} \\right)} - 2 \\lambda_{r}^{2} \\zeta + \\lambda_{r}^{2} \\sin^{2}{\\left(\\psi \\right)} \\sin^{2}{\\left(\\psi_{0} \\right)} - \\lambda_{r}^{2} \\sin^{2}{\\left(\\psi \\right)} + 2 \\lambda_{r} \\lambda_{z} \\zeta^{2} \\sin{\\left(\\psi \\right)} \\sin{\\left(\\psi_{0} \\right)} \\cos{\\left(\\psi \\right)} \\cos{\\left(\\psi_{0} \\right)} - 4 \\lambda_{r} \\lambda_{z} \\zeta \\sin{\\left(\\psi \\right)} \\sin{\\left(\\psi_{0} \\right)} \\cos{\\left(\\psi \\right)} \\cos{\\left(\\psi_{0} \\right)} + 2 \\lambda_{r} \\lambda_{z} \\sin{\\left(\\psi \\right)} \\sin{\\left(\\psi_{0} \\right)} \\cos{\\left(\\psi \\right)} \\cos{\\left(\\psi_{0} \\right)} + \\lambda_{z}^{2} \\zeta^{2} \\sin^{2}{\\left(\\psi \\right)} \\sin^{2}{\\left(\\psi_{0} \\right)} - \\lambda_{z}^{2} \\zeta^{2} \\sin^{2}{\\left(\\psi \\right)} - 2 \\lambda_{z}^{2} \\zeta \\sin^{2}{\\left(\\psi \\right)} \\sin^{2}{\\left(\\psi_{0} \\right)} + \\lambda_{z}^{2} \\zeta \\sin^{2}{\\left(\\psi \\right)} + \\lambda_{z}^{2} \\zeta \\sin^{2}{\\left(\\psi_{0} \\right)} - \\lambda_{z}^{2} \\zeta + \\lambda_{z}^{2} \\sin^{2}{\\left(\\psi \\right)} \\sin^{2}{\\left(\\psi_{0} \\right)} - \\lambda_{z}^{2} \\sin^{2}{\\left(\\psi_{0} \\right)}\\right)}{2 \\zeta}$"
      ],
      "text/plain": [
       "-mu*(lambda_r**2*zeta**2*sin(psi)**2*sin(psi_0)**2 - lambda_r**2*zeta**2*sin(psi_0)**2 - 2*lambda_r**2*zeta*sin(psi)**2*sin(psi_0)**2 + lambda_r**2*zeta*sin(psi)**2 + lambda_r**2*zeta*sin(psi_0)**2 - 2*lambda_r**2*zeta + lambda_r**2*sin(psi)**2*sin(psi_0)**2 - lambda_r**2*sin(psi)**2 + 2*lambda_r*lambda_z*zeta**2*sin(psi)*sin(psi_0)*cos(psi)*cos(psi_0) - 4*lambda_r*lambda_z*zeta*sin(psi)*sin(psi_0)*cos(psi)*cos(psi_0) + 2*lambda_r*lambda_z*sin(psi)*sin(psi_0)*cos(psi)*cos(psi_0) + lambda_z**2*zeta**2*sin(psi)**2*sin(psi_0)**2 - lambda_z**2*zeta**2*sin(psi)**2 - 2*lambda_z**2*zeta*sin(psi)**2*sin(psi_0)**2 + lambda_z**2*zeta*sin(psi)**2 + lambda_z**2*zeta*sin(psi_0)**2 - lambda_z**2*zeta + lambda_z**2*sin(psi)**2*sin(psi_0)**2 - lambda_z**2*sin(psi_0)**2)/(2*zeta)"
      ]
     },
     "execution_count": 49,
     "metadata": {},
     "output_type": "execute_result"
    }
   ],
   "source": [
    "f = sp.factor(f)\n",
    "f"
   ]
  },
  {
   "cell_type": "code",
   "execution_count": 47,
   "id": "b131f697-6c82-43c7-8a51-f9e9b8af8110",
   "metadata": {},
   "outputs": [
    {
     "data": {
      "text/latex": [
       "$\\displaystyle \\lambda_{r}^{2} \\mu \\sin^{2}{\\left(\\psi \\right)} \\sin^{2}{\\left(\\psi_{0} \\right)} - \\frac{\\lambda_{r}^{2} \\mu \\sin^{2}{\\left(\\psi \\right)}}{2} - \\frac{\\lambda_{r}^{2} \\mu \\sin^{2}{\\left(\\psi_{0} \\right)}}{2} + \\lambda_{r}^{2} \\mu + 2 \\lambda_{r} \\lambda_{z} \\mu \\sin{\\left(\\psi \\right)} \\sin{\\left(\\psi_{0} \\right)} \\cos{\\left(\\psi \\right)} \\cos{\\left(\\psi_{0} \\right)} + \\lambda_{z}^{2} \\mu \\sin^{2}{\\left(\\psi \\right)} \\sin^{2}{\\left(\\psi_{0} \\right)} - \\frac{\\lambda_{z}^{2} \\mu \\sin^{2}{\\left(\\psi \\right)}}{2} - \\frac{\\lambda_{z}^{2} \\mu \\sin^{2}{\\left(\\psi_{0} \\right)}}{2} + \\frac{\\lambda_{z}^{2} \\mu}{2} + \\zeta \\left(- \\frac{\\lambda_{r}^{2} \\mu \\sin^{2}{\\left(\\psi \\right)} \\sin^{2}{\\left(\\psi_{0} \\right)}}{2} + \\frac{\\lambda_{r}^{2} \\mu \\sin^{2}{\\left(\\psi_{0} \\right)}}{2} - \\lambda_{r} \\lambda_{z} \\mu \\sin{\\left(\\psi \\right)} \\sin{\\left(\\psi_{0} \\right)} \\cos{\\left(\\psi \\right)} \\cos{\\left(\\psi_{0} \\right)} - \\frac{\\lambda_{z}^{2} \\mu \\sin^{2}{\\left(\\psi \\right)} \\sin^{2}{\\left(\\psi_{0} \\right)}}{2} + \\frac{\\lambda_{z}^{2} \\mu \\sin^{2}{\\left(\\psi \\right)}}{2}\\right) + \\frac{- \\frac{\\lambda_{r}^{2} \\mu \\sin^{2}{\\left(\\psi \\right)} \\sin^{2}{\\left(\\psi_{0} \\right)}}{2} + \\frac{\\lambda_{r}^{2} \\mu \\sin^{2}{\\left(\\psi \\right)}}{2} - \\lambda_{r} \\lambda_{z} \\mu \\sin{\\left(\\psi \\right)} \\sin{\\left(\\psi_{0} \\right)} \\cos{\\left(\\psi \\right)} \\cos{\\left(\\psi_{0} \\right)} - \\frac{\\lambda_{z}^{2} \\mu \\sin^{2}{\\left(\\psi \\right)} \\sin^{2}{\\left(\\psi_{0} \\right)}}{2} + \\frac{\\lambda_{z}^{2} \\mu \\sin^{2}{\\left(\\psi_{0} \\right)}}{2}}{\\zeta}$"
      ],
      "text/plain": [
       "lambda_r**2*mu*sin(psi)**2*sin(psi_0)**2 - lambda_r**2*mu*sin(psi)**2/2 - lambda_r**2*mu*sin(psi_0)**2/2 + lambda_r**2*mu + 2*lambda_r*lambda_z*mu*sin(psi)*sin(psi_0)*cos(psi)*cos(psi_0) + lambda_z**2*mu*sin(psi)**2*sin(psi_0)**2 - lambda_z**2*mu*sin(psi)**2/2 - lambda_z**2*mu*sin(psi_0)**2/2 + lambda_z**2*mu/2 + zeta*(-lambda_r**2*mu*sin(psi)**2*sin(psi_0)**2/2 + lambda_r**2*mu*sin(psi_0)**2/2 - lambda_r*lambda_z*mu*sin(psi)*sin(psi_0)*cos(psi)*cos(psi_0) - lambda_z**2*mu*sin(psi)**2*sin(psi_0)**2/2 + lambda_z**2*mu*sin(psi)**2/2) + (-lambda_r**2*mu*sin(psi)**2*sin(psi_0)**2/2 + lambda_r**2*mu*sin(psi)**2/2 - lambda_r*lambda_z*mu*sin(psi)*sin(psi_0)*cos(psi)*cos(psi_0) - lambda_z**2*mu*sin(psi)**2*sin(psi_0)**2/2 + lambda_z**2*mu*sin(psi_0)**2/2)/zeta"
      ]
     },
     "execution_count": 47,
     "metadata": {},
     "output_type": "execute_result"
    }
   ],
   "source": [
    "f = sp.collect(f, zeta)\n",
    "f"
   ]
  }
 ],
 "metadata": {
  "kernelspec": {
   "display_name": "Python 3 (ipykernel)",
   "language": "python",
   "name": "python3"
  },
  "language_info": {
   "codemirror_mode": {
    "name": "ipython",
    "version": 3
   },
   "file_extension": ".py",
   "mimetype": "text/x-python",
   "name": "python",
   "nbconvert_exporter": "python",
   "pygments_lexer": "ipython3",
   "version": "3.9.12"
  }
 },
 "nbformat": 4,
 "nbformat_minor": 5
}
