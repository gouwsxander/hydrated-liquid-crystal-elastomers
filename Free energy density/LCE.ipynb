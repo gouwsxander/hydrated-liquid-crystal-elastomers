{
 "cells": [
  {
   "cell_type": "code",
   "execution_count": 2,
   "id": "3d6544b7-c7ad-45a5-a3d0-1d2387a4d9d1",
   "metadata": {},
   "outputs": [],
   "source": [
    "import sympy as sp"
   ]
  },
  {
   "cell_type": "code",
   "execution_count": 3,
   "id": "1df67b34-5305-41d6-974a-13b16456c55d",
   "metadata": {},
   "outputs": [],
   "source": [
    "x, y, z, r, phi = sp.symbols('x y z r phi')\n",
    "\n",
    "psi_0, psi = sp.symbols('psi_0 psi')\n",
    "\n",
    "lambda_r, lambda_z = sp.symbols('lambda_r lambda_z')\n",
    "\n",
    "zeta, v_swell, mu = sp.symbols('zeta v_\\\\text{swell} mu')"
   ]
  },
  {
   "cell_type": "code",
   "execution_count": 4,
   "id": "7df2dbd6-a2a9-4f88-beec-f644b2930371",
   "metadata": {},
   "outputs": [],
   "source": [
    "x_hat = sp.Matrix([1, 0, 0])\n",
    "y_hat = sp.Matrix([0, 1, 0])\n",
    "z_hat = sp.Matrix([0, 0, 1])\n",
    "\n",
    "r_hat = sp.cos(phi) * x_hat + sp.sin(phi) * y_hat\n",
    "phi_hat = - sp.sin(phi) * x_hat + sp.cos(phi) * y_hat"
   ]
  },
  {
   "cell_type": "code",
   "execution_count": 5,
   "id": "58e5042c-6348-4af5-bc8d-5728186e453e",
   "metadata": {},
   "outputs": [
    {
     "data": {
      "text/latex": [
       "$\\displaystyle \\left[\\begin{matrix}- \\sin{\\left(\\phi \\right)}\\\\\\cos{\\left(\\phi \\right)}\\\\0\\end{matrix}\\right]$"
      ],
      "text/plain": [
       "Matrix([\n",
       "[-sin(phi)],\n",
       "[ cos(phi)],\n",
       "[        0]])"
      ]
     },
     "execution_count": 5,
     "metadata": {},
     "output_type": "execute_result"
    }
   ],
   "source": [
    "phi_hat"
   ]
  },
  {
   "cell_type": "code",
   "execution_count": 6,
   "id": "fdb0a696-56f6-44da-b3a9-ed7e38a4960a",
   "metadata": {},
   "outputs": [],
   "source": [
    "n_hat = - sp.sin(psi) * phi_hat + sp.cos(psi) * z_hat\n",
    "n_hat_0 = n_hat.subs(psi, psi_0)"
   ]
  },
  {
   "cell_type": "code",
   "execution_count": 7,
   "id": "28597e57-71e8-49f1-b37d-cee709c09d4b",
   "metadata": {},
   "outputs": [
    {
     "data": {
      "text/latex": [
       "$\\displaystyle \\left[\\begin{matrix}\\sin{\\left(\\phi \\right)} \\sin{\\left(\\psi \\right)}\\\\- \\sin{\\left(\\psi \\right)} \\cos{\\left(\\phi \\right)}\\\\\\cos{\\left(\\psi \\right)}\\end{matrix}\\right]$"
      ],
      "text/plain": [
       "Matrix([\n",
       "[ sin(phi)*sin(psi)],\n",
       "[-sin(psi)*cos(phi)],\n",
       "[          cos(psi)]])"
      ]
     },
     "execution_count": 7,
     "metadata": {},
     "output_type": "execute_result"
    }
   ],
   "source": [
    "n_hat"
   ]
  },
  {
   "cell_type": "code",
   "execution_count": 8,
   "id": "1b75d293-cc6e-422e-9e0f-924d55072afb",
   "metadata": {},
   "outputs": [
    {
     "data": {
      "text/latex": [
       "$\\displaystyle \\left[\\begin{matrix}\\sin{\\left(\\phi \\right)} \\sin{\\left(\\psi_{0} \\right)}\\\\- \\sin{\\left(\\psi_{0} \\right)} \\cos{\\left(\\phi \\right)}\\\\\\cos{\\left(\\psi_{0} \\right)}\\end{matrix}\\right]$"
      ],
      "text/plain": [
       "Matrix([\n",
       "[ sin(phi)*sin(psi_0)],\n",
       "[-sin(psi_0)*cos(phi)],\n",
       "[          cos(psi_0)]])"
      ]
     },
     "execution_count": 8,
     "metadata": {},
     "output_type": "execute_result"
    }
   ],
   "source": [
    "n_hat_0"
   ]
  },
  {
   "cell_type": "code",
   "execution_count": 9,
   "id": "8698920f-c697-49b7-b7b8-98e25450b299",
   "metadata": {},
   "outputs": [
    {
     "data": {
      "text/latex": [
       "$\\displaystyle \\left[\\begin{matrix}\\lambda_{r} & 0 & 0\\\\0 & \\lambda_{r} & 0\\\\0 & 0 & \\lambda_{z}\\end{matrix}\\right]$"
      ],
      "text/plain": [
       "Matrix([\n",
       "[lambda_r,        0,        0],\n",
       "[       0, lambda_r,        0],\n",
       "[       0,        0, lambda_z]])"
      ]
     },
     "execution_count": 9,
     "metadata": {},
     "output_type": "execute_result"
    }
   ],
   "source": [
    "Lambda = sp.diag(lambda_r, lambda_r, lambda_z)\n",
    "Lambda"
   ]
  },
  {
   "cell_type": "code",
   "execution_count": 10,
   "id": "0677ef9a-8a75-44b0-a733-38610fc2b0ee",
   "metadata": {},
   "outputs": [
    {
     "data": {
      "text/latex": [
       "$\\displaystyle \\left[\\begin{matrix}1 & 0 & 0\\\\0 & 1 & 0\\\\0 & 0 & 1\\end{matrix}\\right]$"
      ],
      "text/plain": [
       "Matrix([\n",
       "[1, 0, 0],\n",
       "[0, 1, 0],\n",
       "[0, 0, 1]])"
      ]
     },
     "execution_count": 10,
     "metadata": {},
     "output_type": "execute_result"
    }
   ],
   "source": [
    "delta = sp.eye(3)\n",
    "delta"
   ]
  },
  {
   "cell_type": "code",
   "execution_count": 11,
   "id": "1966d3bc-939a-4bf6-bd87-906eea0d5bce",
   "metadata": {},
   "outputs": [
    {
     "data": {
      "text/latex": [
       "$\\displaystyle \\left[\\begin{matrix}\\left(\\zeta - 1\\right) \\sin^{2}{\\left(\\phi \\right)} \\sin^{2}{\\left(\\psi_{0} \\right)} + 1 & - \\left(\\zeta - 1\\right) \\sin{\\left(\\phi \\right)} \\sin^{2}{\\left(\\psi_{0} \\right)} \\cos{\\left(\\phi \\right)} & \\left(\\zeta - 1\\right) \\sin{\\left(\\phi \\right)} \\sin{\\left(\\psi_{0} \\right)} \\cos{\\left(\\psi_{0} \\right)}\\\\- \\left(\\zeta - 1\\right) \\sin{\\left(\\phi \\right)} \\sin^{2}{\\left(\\psi_{0} \\right)} \\cos{\\left(\\phi \\right)} & \\left(\\zeta - 1\\right) \\sin^{2}{\\left(\\psi_{0} \\right)} \\cos^{2}{\\left(\\phi \\right)} + 1 & - \\left(\\zeta - 1\\right) \\sin{\\left(\\psi_{0} \\right)} \\cos{\\left(\\phi \\right)} \\cos{\\left(\\psi_{0} \\right)}\\\\\\left(\\zeta - 1\\right) \\sin{\\left(\\phi \\right)} \\sin{\\left(\\psi_{0} \\right)} \\cos{\\left(\\psi_{0} \\right)} & - \\left(\\zeta - 1\\right) \\sin{\\left(\\psi_{0} \\right)} \\cos{\\left(\\phi \\right)} \\cos{\\left(\\psi_{0} \\right)} & \\left(\\zeta - 1\\right) \\cos^{2}{\\left(\\psi_{0} \\right)} + 1\\end{matrix}\\right]$"
      ],
      "text/plain": [
       "Matrix([\n",
       "[   (zeta - 1)*sin(phi)**2*sin(psi_0)**2 + 1, -(zeta - 1)*sin(phi)*sin(psi_0)**2*cos(phi),  (zeta - 1)*sin(phi)*sin(psi_0)*cos(psi_0)],\n",
       "[-(zeta - 1)*sin(phi)*sin(psi_0)**2*cos(phi),    (zeta - 1)*sin(psi_0)**2*cos(phi)**2 + 1, -(zeta - 1)*sin(psi_0)*cos(phi)*cos(psi_0)],\n",
       "[  (zeta - 1)*sin(phi)*sin(psi_0)*cos(psi_0),  -(zeta - 1)*sin(psi_0)*cos(phi)*cos(psi_0),               (zeta - 1)*cos(psi_0)**2 + 1]])"
      ]
     },
     "execution_count": 11,
     "metadata": {},
     "output_type": "execute_result"
    }
   ],
   "source": [
    "L = delta + (zeta - 1) * (n_hat * sp.transpose(n_hat))\n",
    "L_0 = L.subs(psi, psi_0)\n",
    "\n",
    "L_0"
   ]
  },
  {
   "cell_type": "code",
   "execution_count": 143,
   "id": "7c4d7f02-7552-4015-bb3b-b0109fdf2a2b",
   "metadata": {},
   "outputs": [
    {
     "name": "stdout",
     "output_type": "stream",
     "text": [
      "\\left[\\begin{matrix}\\left(\\zeta - 1\\right) \\sin^{2}{\\left(\\phi \\right)} \\sin^{2}{\\left(\\psi_{0} \\right)} + 1 & - \\left(\\zeta - 1\\right) \\sin{\\left(\\phi \\right)} \\sin^{2}{\\left(\\psi_{0} \\right)} \\cos{\\left(\\phi \\right)} & \\left(\\zeta - 1\\right) \\sin{\\left(\\phi \\right)} \\sin{\\left(\\psi_{0} \\right)} \\cos{\\left(\\psi_{0} \\right)}\\\\- \\left(\\zeta - 1\\right) \\sin{\\left(\\phi \\right)} \\sin^{2}{\\left(\\psi_{0} \\right)} \\cos{\\left(\\phi \\right)} & \\left(\\zeta - 1\\right) \\sin^{2}{\\left(\\psi_{0} \\right)} \\cos^{2}{\\left(\\phi \\right)} + 1 & - \\left(\\zeta - 1\\right) \\sin{\\left(\\psi_{0} \\right)} \\cos{\\left(\\phi \\right)} \\cos{\\left(\\psi_{0} \\right)}\\\\\\left(\\zeta - 1\\right) \\sin{\\left(\\phi \\right)} \\sin{\\left(\\psi_{0} \\right)} \\cos{\\left(\\psi_{0} \\right)} & - \\left(\\zeta - 1\\right) \\sin{\\left(\\psi_{0} \\right)} \\cos{\\left(\\phi \\right)} \\cos{\\left(\\psi_{0} \\right)} & \\left(\\zeta - 1\\right) \\cos^{2}{\\left(\\psi_{0} \\right)} + 1\\end{matrix}\\right]\n"
     ]
    }
   ],
   "source": [
    "print(sp.printing.latex(L_0))"
   ]
  },
  {
   "cell_type": "code",
   "execution_count": 141,
   "id": "80f17009-691b-4968-86cf-d82dd23164b1",
   "metadata": {},
   "outputs": [
    {
     "data": {
      "text/latex": [
       "$\\displaystyle \\left[\\begin{matrix}\\frac{\\zeta \\sin^{2}{\\left(\\psi \\right)} \\cos^{2}{\\left(\\phi \\right)} + \\zeta \\cos^{2}{\\left(\\psi \\right)} - \\sin^{2}{\\left(\\psi \\right)} \\cos^{2}{\\left(\\phi \\right)} - \\cos^{2}{\\left(\\psi \\right)} + 1}{\\zeta \\sin^{2}{\\left(\\phi \\right)} \\sin^{2}{\\left(\\psi \\right)} + \\zeta \\sin^{2}{\\left(\\psi \\right)} \\cos^{2}{\\left(\\phi \\right)} + \\zeta \\cos^{2}{\\left(\\psi \\right)} - \\sin^{2}{\\left(\\phi \\right)} \\sin^{2}{\\left(\\psi \\right)} - \\sin^{2}{\\left(\\psi \\right)} \\cos^{2}{\\left(\\phi \\right)} - \\cos^{2}{\\left(\\psi \\right)} + 1} & \\frac{\\zeta \\sin{\\left(\\phi \\right)} \\sin^{2}{\\left(\\psi \\right)} \\cos{\\left(\\phi \\right)} - \\sin{\\left(\\phi \\right)} \\sin^{2}{\\left(\\psi \\right)} \\cos{\\left(\\phi \\right)}}{\\zeta \\sin^{2}{\\left(\\phi \\right)} \\sin^{2}{\\left(\\psi \\right)} + \\zeta \\sin^{2}{\\left(\\psi \\right)} \\cos^{2}{\\left(\\phi \\right)} + \\zeta \\cos^{2}{\\left(\\psi \\right)} - \\sin^{2}{\\left(\\phi \\right)} \\sin^{2}{\\left(\\psi \\right)} - \\sin^{2}{\\left(\\psi \\right)} \\cos^{2}{\\left(\\phi \\right)} - \\cos^{2}{\\left(\\psi \\right)} + 1} & \\frac{- \\zeta \\sin{\\left(\\phi \\right)} \\sin{\\left(\\psi \\right)} \\cos{\\left(\\psi \\right)} + \\sin{\\left(\\phi \\right)} \\sin{\\left(\\psi \\right)} \\cos{\\left(\\psi \\right)}}{\\zeta \\sin^{2}{\\left(\\phi \\right)} \\sin^{2}{\\left(\\psi \\right)} + \\zeta \\sin^{2}{\\left(\\psi \\right)} \\cos^{2}{\\left(\\phi \\right)} + \\zeta \\cos^{2}{\\left(\\psi \\right)} - \\sin^{2}{\\left(\\phi \\right)} \\sin^{2}{\\left(\\psi \\right)} - \\sin^{2}{\\left(\\psi \\right)} \\cos^{2}{\\left(\\phi \\right)} - \\cos^{2}{\\left(\\psi \\right)} + 1}\\\\\\frac{\\zeta \\sin{\\left(\\phi \\right)} \\sin^{2}{\\left(\\psi \\right)} \\cos{\\left(\\phi \\right)} - \\sin{\\left(\\phi \\right)} \\sin^{2}{\\left(\\psi \\right)} \\cos{\\left(\\phi \\right)}}{\\zeta \\sin^{2}{\\left(\\phi \\right)} \\sin^{2}{\\left(\\psi \\right)} + \\zeta \\sin^{2}{\\left(\\psi \\right)} \\cos^{2}{\\left(\\phi \\right)} + \\zeta \\cos^{2}{\\left(\\psi \\right)} - \\sin^{2}{\\left(\\phi \\right)} \\sin^{2}{\\left(\\psi \\right)} - \\sin^{2}{\\left(\\psi \\right)} \\cos^{2}{\\left(\\phi \\right)} - \\cos^{2}{\\left(\\psi \\right)} + 1} & \\frac{\\zeta \\sin^{2}{\\left(\\phi \\right)} \\sin^{2}{\\left(\\psi \\right)} + \\zeta \\cos^{2}{\\left(\\psi \\right)} - \\sin^{2}{\\left(\\phi \\right)} \\sin^{2}{\\left(\\psi \\right)} - \\cos^{2}{\\left(\\psi \\right)} + 1}{\\zeta \\sin^{2}{\\left(\\phi \\right)} \\sin^{2}{\\left(\\psi \\right)} + \\zeta \\sin^{2}{\\left(\\psi \\right)} \\cos^{2}{\\left(\\phi \\right)} + \\zeta \\cos^{2}{\\left(\\psi \\right)} - \\sin^{2}{\\left(\\phi \\right)} \\sin^{2}{\\left(\\psi \\right)} - \\sin^{2}{\\left(\\psi \\right)} \\cos^{2}{\\left(\\phi \\right)} - \\cos^{2}{\\left(\\psi \\right)} + 1} & \\frac{\\zeta \\sin{\\left(\\psi \\right)} \\cos{\\left(\\phi \\right)} \\cos{\\left(\\psi \\right)} - \\sin{\\left(\\psi \\right)} \\cos{\\left(\\phi \\right)} \\cos{\\left(\\psi \\right)}}{\\zeta \\sin^{2}{\\left(\\phi \\right)} \\sin^{2}{\\left(\\psi \\right)} + \\zeta \\sin^{2}{\\left(\\psi \\right)} \\cos^{2}{\\left(\\phi \\right)} + \\zeta \\cos^{2}{\\left(\\psi \\right)} - \\sin^{2}{\\left(\\phi \\right)} \\sin^{2}{\\left(\\psi \\right)} - \\sin^{2}{\\left(\\psi \\right)} \\cos^{2}{\\left(\\phi \\right)} - \\cos^{2}{\\left(\\psi \\right)} + 1}\\\\\\frac{- \\zeta \\sin{\\left(\\phi \\right)} \\sin{\\left(\\psi \\right)} \\cos{\\left(\\psi \\right)} + \\sin{\\left(\\phi \\right)} \\sin{\\left(\\psi \\right)} \\cos{\\left(\\psi \\right)}}{\\zeta \\sin^{2}{\\left(\\phi \\right)} \\sin^{2}{\\left(\\psi \\right)} + \\zeta \\sin^{2}{\\left(\\psi \\right)} \\cos^{2}{\\left(\\phi \\right)} + \\zeta \\cos^{2}{\\left(\\psi \\right)} - \\sin^{2}{\\left(\\phi \\right)} \\sin^{2}{\\left(\\psi \\right)} - \\sin^{2}{\\left(\\psi \\right)} \\cos^{2}{\\left(\\phi \\right)} - \\cos^{2}{\\left(\\psi \\right)} + 1} & \\frac{\\zeta \\sin{\\left(\\psi \\right)} \\cos{\\left(\\phi \\right)} \\cos{\\left(\\psi \\right)} - \\sin{\\left(\\psi \\right)} \\cos{\\left(\\phi \\right)} \\cos{\\left(\\psi \\right)}}{\\zeta \\sin^{2}{\\left(\\phi \\right)} \\sin^{2}{\\left(\\psi \\right)} + \\zeta \\sin^{2}{\\left(\\psi \\right)} \\cos^{2}{\\left(\\phi \\right)} + \\zeta \\cos^{2}{\\left(\\psi \\right)} - \\sin^{2}{\\left(\\phi \\right)} \\sin^{2}{\\left(\\psi \\right)} - \\sin^{2}{\\left(\\psi \\right)} \\cos^{2}{\\left(\\phi \\right)} - \\cos^{2}{\\left(\\psi \\right)} + 1} & \\frac{\\zeta \\sin^{2}{\\left(\\phi \\right)} \\sin^{2}{\\left(\\psi \\right)} + \\zeta \\sin^{2}{\\left(\\psi \\right)} \\cos^{2}{\\left(\\phi \\right)} - \\sin^{2}{\\left(\\phi \\right)} \\sin^{2}{\\left(\\psi \\right)} - \\sin^{2}{\\left(\\psi \\right)} \\cos^{2}{\\left(\\phi \\right)} + 1}{\\zeta \\sin^{2}{\\left(\\phi \\right)} \\sin^{2}{\\left(\\psi \\right)} + \\zeta \\sin^{2}{\\left(\\psi \\right)} \\cos^{2}{\\left(\\phi \\right)} + \\zeta \\cos^{2}{\\left(\\psi \\right)} - \\sin^{2}{\\left(\\phi \\right)} \\sin^{2}{\\left(\\psi \\right)} - \\sin^{2}{\\left(\\psi \\right)} \\cos^{2}{\\left(\\phi \\right)} - \\cos^{2}{\\left(\\psi \\right)} + 1}\\end{matrix}\\right]$"
      ],
      "text/plain": [
       "Matrix([\n",
       "[(zeta*sin(psi)**2*cos(phi)**2 + zeta*cos(psi)**2 - sin(psi)**2*cos(phi)**2 - cos(psi)**2 + 1)/(zeta*sin(phi)**2*sin(psi)**2 + zeta*sin(psi)**2*cos(phi)**2 + zeta*cos(psi)**2 - sin(phi)**2*sin(psi)**2 - sin(psi)**2*cos(phi)**2 - cos(psi)**2 + 1),                          (zeta*sin(phi)*sin(psi)**2*cos(phi) - sin(phi)*sin(psi)**2*cos(phi))/(zeta*sin(phi)**2*sin(psi)**2 + zeta*sin(psi)**2*cos(phi)**2 + zeta*cos(psi)**2 - sin(phi)**2*sin(psi)**2 - sin(psi)**2*cos(phi)**2 - cos(psi)**2 + 1),                                                       (-zeta*sin(phi)*sin(psi)*cos(psi) + sin(phi)*sin(psi)*cos(psi))/(zeta*sin(phi)**2*sin(psi)**2 + zeta*sin(psi)**2*cos(phi)**2 + zeta*cos(psi)**2 - sin(phi)**2*sin(psi)**2 - sin(psi)**2*cos(phi)**2 - cos(psi)**2 + 1)],\n",
       "[                         (zeta*sin(phi)*sin(psi)**2*cos(phi) - sin(phi)*sin(psi)**2*cos(phi))/(zeta*sin(phi)**2*sin(psi)**2 + zeta*sin(psi)**2*cos(phi)**2 + zeta*cos(psi)**2 - sin(phi)**2*sin(psi)**2 - sin(psi)**2*cos(phi)**2 - cos(psi)**2 + 1), (zeta*sin(phi)**2*sin(psi)**2 + zeta*cos(psi)**2 - sin(phi)**2*sin(psi)**2 - cos(psi)**2 + 1)/(zeta*sin(phi)**2*sin(psi)**2 + zeta*sin(psi)**2*cos(phi)**2 + zeta*cos(psi)**2 - sin(phi)**2*sin(psi)**2 - sin(psi)**2*cos(phi)**2 - cos(psi)**2 + 1),                                                        (zeta*sin(psi)*cos(phi)*cos(psi) - sin(psi)*cos(phi)*cos(psi))/(zeta*sin(phi)**2*sin(psi)**2 + zeta*sin(psi)**2*cos(phi)**2 + zeta*cos(psi)**2 - sin(phi)**2*sin(psi)**2 - sin(psi)**2*cos(phi)**2 - cos(psi)**2 + 1)],\n",
       "[                              (-zeta*sin(phi)*sin(psi)*cos(psi) + sin(phi)*sin(psi)*cos(psi))/(zeta*sin(phi)**2*sin(psi)**2 + zeta*sin(psi)**2*cos(phi)**2 + zeta*cos(psi)**2 - sin(phi)**2*sin(psi)**2 - sin(psi)**2*cos(phi)**2 - cos(psi)**2 + 1),                                (zeta*sin(psi)*cos(phi)*cos(psi) - sin(psi)*cos(phi)*cos(psi))/(zeta*sin(phi)**2*sin(psi)**2 + zeta*sin(psi)**2*cos(phi)**2 + zeta*cos(psi)**2 - sin(phi)**2*sin(psi)**2 - sin(psi)**2*cos(phi)**2 - cos(psi)**2 + 1), (zeta*sin(phi)**2*sin(psi)**2 + zeta*sin(psi)**2*cos(phi)**2 - sin(phi)**2*sin(psi)**2 - sin(psi)**2*cos(phi)**2 + 1)/(zeta*sin(phi)**2*sin(psi)**2 + zeta*sin(psi)**2*cos(phi)**2 + zeta*cos(psi)**2 - sin(phi)**2*sin(psi)**2 - sin(psi)**2*cos(phi)**2 - cos(psi)**2 + 1)]])"
      ]
     },
     "execution_count": 141,
     "metadata": {},
     "output_type": "execute_result"
    }
   ],
   "source": [
    "sp.Inverse(L) * delta"
   ]
  },
  {
   "cell_type": "code",
   "execution_count": 97,
   "id": "6ae49422-8584-40d8-8298-60720dfe2307",
   "metadata": {},
   "outputs": [],
   "source": [
    "f = mu/2 * sp.Trace(L_0 * sp.Transpose(Lambda) * sp.Inverse(L) * Lambda)\n",
    "f = f.simplify()  # calculates trace"
   ]
  },
  {
   "cell_type": "code",
   "execution_count": 40,
   "id": "45e7f788-82da-4c65-aaca-03998ee7dd5f",
   "metadata": {},
   "outputs": [
    {
     "data": {
      "text/latex": [
       "$\\displaystyle \\frac{\\mu \\left(- \\frac{\\lambda_{r} \\left(\\lambda_{r} \\left(\\zeta - 1\\right)^{2} \\sin^{2}{\\left(\\phi \\right)} \\sin^{2}{\\left(\\psi \\right)} \\sin^{2}{\\left(\\psi_{0} \\right)} \\cos^{2}{\\left(\\phi \\right)} - \\lambda_{r} \\left(\\left(\\zeta - 1\\right) \\sin^{2}{\\left(\\phi \\right)} \\sin^{2}{\\left(\\psi_{0} \\right)} + 1\\right) \\left(- \\zeta \\sin^{2}{\\left(\\phi \\right)} \\sin^{2}{\\left(\\psi \\right)} + \\zeta + \\sin^{2}{\\left(\\phi \\right)} \\sin^{2}{\\left(\\psi \\right)}\\right) + \\lambda_{z} \\left(\\zeta - 1\\right)^{2} \\sin^{2}{\\left(\\phi \\right)} \\sin{\\left(\\psi \\right)} \\sin{\\left(\\psi_{0} \\right)} \\cos{\\left(\\psi \\right)} \\cos{\\left(\\psi_{0} \\right)}\\right)}{\\zeta} - \\frac{\\lambda_{r} \\left(\\lambda_{r} \\left(\\zeta - 1\\right)^{2} \\sin^{2}{\\left(\\phi \\right)} \\sin^{2}{\\left(\\psi \\right)} \\sin^{2}{\\left(\\psi_{0} \\right)} \\cos^{2}{\\left(\\phi \\right)} - \\lambda_{r} \\left(\\left(\\zeta - 1\\right) \\sin^{2}{\\left(\\psi_{0} \\right)} \\cos^{2}{\\left(\\phi \\right)} + 1\\right) \\left(\\zeta \\sin^{2}{\\left(\\phi \\right)} \\sin^{2}{\\left(\\psi \\right)} - \\zeta \\sin^{2}{\\left(\\psi \\right)} + \\zeta - \\sin^{2}{\\left(\\phi \\right)} \\sin^{2}{\\left(\\psi \\right)} + \\sin^{2}{\\left(\\psi \\right)}\\right) + \\lambda_{z} \\left(\\zeta - 1\\right)^{2} \\sin{\\left(\\psi \\right)} \\sin{\\left(\\psi_{0} \\right)} \\cos^{2}{\\left(\\phi \\right)} \\cos{\\left(\\psi \\right)} \\cos{\\left(\\psi_{0} \\right)}\\right)}{\\zeta} - \\frac{\\lambda_{z} \\left(\\lambda_{r} \\left(\\zeta - 1\\right)^{2} \\sin^{2}{\\left(\\phi \\right)} \\sin{\\left(\\psi \\right)} \\sin{\\left(\\psi_{0} \\right)} \\cos{\\left(\\psi \\right)} \\cos{\\left(\\psi_{0} \\right)} + \\lambda_{r} \\left(\\zeta - 1\\right)^{2} \\sin{\\left(\\psi \\right)} \\sin{\\left(\\psi_{0} \\right)} \\cos^{2}{\\left(\\phi \\right)} \\cos{\\left(\\psi \\right)} \\cos{\\left(\\psi_{0} \\right)} - \\lambda_{z} \\left(\\left(\\zeta - 1\\right) \\cos^{2}{\\left(\\psi_{0} \\right)} + 1\\right) \\left(- \\zeta \\cos^{2}{\\left(\\psi \\right)} + \\zeta + \\cos^{2}{\\left(\\psi \\right)}\\right)\\right)}{\\zeta}\\right)}{2}$"
      ],
      "text/plain": [
       "mu*(-lambda_r*(lambda_r*(zeta - 1)**2*sin(phi)**2*sin(psi)**2*sin(psi_0)**2*cos(phi)**2 - lambda_r*((zeta - 1)*sin(phi)**2*sin(psi_0)**2 + 1)*(-zeta*sin(phi)**2*sin(psi)**2 + zeta + sin(phi)**2*sin(psi)**2) + lambda_z*(zeta - 1)**2*sin(phi)**2*sin(psi)*sin(psi_0)*cos(psi)*cos(psi_0))/zeta - lambda_r*(lambda_r*(zeta - 1)**2*sin(phi)**2*sin(psi)**2*sin(psi_0)**2*cos(phi)**2 - lambda_r*((zeta - 1)*sin(psi_0)**2*cos(phi)**2 + 1)*(zeta*sin(phi)**2*sin(psi)**2 - zeta*sin(psi)**2 + zeta - sin(phi)**2*sin(psi)**2 + sin(psi)**2) + lambda_z*(zeta - 1)**2*sin(psi)*sin(psi_0)*cos(phi)**2*cos(psi)*cos(psi_0))/zeta - lambda_z*(lambda_r*(zeta - 1)**2*sin(phi)**2*sin(psi)*sin(psi_0)*cos(psi)*cos(psi_0) + lambda_r*(zeta - 1)**2*sin(psi)*sin(psi_0)*cos(phi)**2*cos(psi)*cos(psi_0) - lambda_z*((zeta - 1)*cos(psi_0)**2 + 1)*(-zeta*cos(psi)**2 + zeta + cos(psi)**2))/zeta)/2"
      ]
     },
     "execution_count": 40,
     "metadata": {},
     "output_type": "execute_result"
    }
   ],
   "source": [
    "f"
   ]
  },
  {
   "cell_type": "markdown",
   "id": "b183cd45-03e0-4cd0-a815-895cdfe2fd15",
   "metadata": {},
   "source": [
    "# Simplifying f"
   ]
  },
  {
   "cell_type": "code",
   "execution_count": 98,
   "id": "f1fa0ddf-4d27-4b42-94de-ff6363fb1d7d",
   "metadata": {},
   "outputs": [],
   "source": [
    "f = f.simplify()"
   ]
  },
  {
   "cell_type": "code",
   "execution_count": 99,
   "id": "bf1ac2ee-4240-4db5-93c1-2eb98d34ff26",
   "metadata": {},
   "outputs": [
    {
     "data": {
      "text/latex": [
       "$\\displaystyle - \\frac{\\lambda_{r}^{2} \\mu \\zeta \\sin^{2}{\\left(\\psi \\right)} \\sin^{2}{\\left(\\psi_{0} \\right)}}{2} + \\frac{\\lambda_{r}^{2} \\mu \\zeta \\sin^{2}{\\left(\\psi_{0} \\right)}}{2} + \\lambda_{r}^{2} \\mu \\sin^{2}{\\left(\\psi \\right)} \\sin^{2}{\\left(\\psi_{0} \\right)} - \\frac{\\lambda_{r}^{2} \\mu \\sin^{2}{\\left(\\psi \\right)}}{2} - \\frac{\\lambda_{r}^{2} \\mu \\sin^{2}{\\left(\\psi_{0} \\right)}}{2} + \\lambda_{r}^{2} \\mu - \\frac{\\lambda_{r}^{2} \\mu \\sin^{2}{\\left(\\psi \\right)} \\sin^{2}{\\left(\\psi_{0} \\right)}}{2 \\zeta} + \\frac{\\lambda_{r}^{2} \\mu \\sin^{2}{\\left(\\psi \\right)}}{2 \\zeta} - \\lambda_{r} \\lambda_{z} \\mu \\zeta \\sin{\\left(\\psi \\right)} \\sin{\\left(\\psi_{0} \\right)} \\cos{\\left(\\psi \\right)} \\cos{\\left(\\psi_{0} \\right)} + 2 \\lambda_{r} \\lambda_{z} \\mu \\sin{\\left(\\psi \\right)} \\sin{\\left(\\psi_{0} \\right)} \\cos{\\left(\\psi \\right)} \\cos{\\left(\\psi_{0} \\right)} - \\frac{\\lambda_{r} \\lambda_{z} \\mu \\sin{\\left(\\psi \\right)} \\sin{\\left(\\psi_{0} \\right)} \\cos{\\left(\\psi \\right)} \\cos{\\left(\\psi_{0} \\right)}}{\\zeta} - \\frac{\\lambda_{z}^{2} \\mu \\zeta \\sin^{2}{\\left(\\psi \\right)} \\sin^{2}{\\left(\\psi_{0} \\right)}}{2} + \\frac{\\lambda_{z}^{2} \\mu \\zeta \\sin^{2}{\\left(\\psi \\right)}}{2} + \\lambda_{z}^{2} \\mu \\sin^{2}{\\left(\\psi \\right)} \\sin^{2}{\\left(\\psi_{0} \\right)} - \\frac{\\lambda_{z}^{2} \\mu \\sin^{2}{\\left(\\psi \\right)}}{2} - \\frac{\\lambda_{z}^{2} \\mu \\sin^{2}{\\left(\\psi_{0} \\right)}}{2} + \\frac{\\lambda_{z}^{2} \\mu}{2} - \\frac{\\lambda_{z}^{2} \\mu \\sin^{2}{\\left(\\psi \\right)} \\sin^{2}{\\left(\\psi_{0} \\right)}}{2 \\zeta} + \\frac{\\lambda_{z}^{2} \\mu \\sin^{2}{\\left(\\psi_{0} \\right)}}{2 \\zeta}$"
      ],
      "text/plain": [
       "-lambda_r**2*mu*zeta*sin(psi)**2*sin(psi_0)**2/2 + lambda_r**2*mu*zeta*sin(psi_0)**2/2 + lambda_r**2*mu*sin(psi)**2*sin(psi_0)**2 - lambda_r**2*mu*sin(psi)**2/2 - lambda_r**2*mu*sin(psi_0)**2/2 + lambda_r**2*mu - lambda_r**2*mu*sin(psi)**2*sin(psi_0)**2/(2*zeta) + lambda_r**2*mu*sin(psi)**2/(2*zeta) - lambda_r*lambda_z*mu*zeta*sin(psi)*sin(psi_0)*cos(psi)*cos(psi_0) + 2*lambda_r*lambda_z*mu*sin(psi)*sin(psi_0)*cos(psi)*cos(psi_0) - lambda_r*lambda_z*mu*sin(psi)*sin(psi_0)*cos(psi)*cos(psi_0)/zeta - lambda_z**2*mu*zeta*sin(psi)**2*sin(psi_0)**2/2 + lambda_z**2*mu*zeta*sin(psi)**2/2 + lambda_z**2*mu*sin(psi)**2*sin(psi_0)**2 - lambda_z**2*mu*sin(psi)**2/2 - lambda_z**2*mu*sin(psi_0)**2/2 + lambda_z**2*mu/2 - lambda_z**2*mu*sin(psi)**2*sin(psi_0)**2/(2*zeta) + lambda_z**2*mu*sin(psi_0)**2/(2*zeta)"
      ]
     },
     "execution_count": 99,
     "metadata": {},
     "output_type": "execute_result"
    }
   ],
   "source": [
    "f = sp.expand(f)\n",
    "#f = f.trigsimp()\n",
    "#f = sp.expand(f)\n",
    "f"
   ]
  },
  {
   "cell_type": "code",
   "execution_count": 92,
   "id": "1526beb2-b1e5-4c85-9f8d-400d0a4937ca",
   "metadata": {},
   "outputs": [
    {
     "data": {
      "text/latex": [
       "$\\displaystyle - \\lambda_{r}^{2} \\zeta \\sin^{2}{\\left(\\psi \\right)} \\sin^{2}{\\left(\\psi_{0} \\right)} + \\lambda_{r}^{2} \\zeta \\sin^{2}{\\left(\\psi_{0} \\right)} + 2 \\lambda_{r}^{2} \\sin^{2}{\\left(\\psi \\right)} \\sin^{2}{\\left(\\psi_{0} \\right)} - \\lambda_{r}^{2} \\sin^{2}{\\left(\\psi \\right)} - \\lambda_{r}^{2} \\sin^{2}{\\left(\\psi_{0} \\right)} + 2 \\lambda_{r}^{2} - \\frac{\\lambda_{r}^{2} \\sin^{2}{\\left(\\psi \\right)} \\sin^{2}{\\left(\\psi_{0} \\right)}}{\\zeta} + \\frac{\\lambda_{r}^{2} \\sin^{2}{\\left(\\psi \\right)}}{\\zeta} - 2 \\lambda_{r} \\lambda_{z} \\zeta \\sin{\\left(\\psi \\right)} \\sin{\\left(\\psi_{0} \\right)} \\cos{\\left(\\psi \\right)} \\cos{\\left(\\psi_{0} \\right)} + 4 \\lambda_{r} \\lambda_{z} \\sin{\\left(\\psi \\right)} \\sin{\\left(\\psi_{0} \\right)} \\cos{\\left(\\psi \\right)} \\cos{\\left(\\psi_{0} \\right)} - \\frac{2 \\lambda_{r} \\lambda_{z} \\sin{\\left(\\psi \\right)} \\sin{\\left(\\psi_{0} \\right)} \\cos{\\left(\\psi \\right)} \\cos{\\left(\\psi_{0} \\right)}}{\\zeta} - \\lambda_{z}^{2} \\zeta \\sin^{2}{\\left(\\psi \\right)} \\sin^{2}{\\left(\\psi_{0} \\right)} + \\lambda_{z}^{2} \\zeta \\sin^{2}{\\left(\\psi \\right)} + 2 \\lambda_{z}^{2} \\sin^{2}{\\left(\\psi \\right)} \\sin^{2}{\\left(\\psi_{0} \\right)} - \\lambda_{z}^{2} \\sin^{2}{\\left(\\psi \\right)} - \\lambda_{z}^{2} \\sin^{2}{\\left(\\psi_{0} \\right)} + \\lambda_{z}^{2} - \\frac{\\lambda_{z}^{2} \\sin^{2}{\\left(\\psi \\right)} \\sin^{2}{\\left(\\psi_{0} \\right)}}{\\zeta} + \\frac{\\lambda_{z}^{2} \\sin^{2}{\\left(\\psi_{0} \\right)}}{\\zeta}$"
      ],
      "text/plain": [
       "-lambda_r**2*zeta*sin(psi)**2*sin(psi_0)**2 + lambda_r**2*zeta*sin(psi_0)**2 + 2*lambda_r**2*sin(psi)**2*sin(psi_0)**2 - lambda_r**2*sin(psi)**2 - lambda_r**2*sin(psi_0)**2 + 2*lambda_r**2 - lambda_r**2*sin(psi)**2*sin(psi_0)**2/zeta + lambda_r**2*sin(psi)**2/zeta - 2*lambda_r*lambda_z*zeta*sin(psi)*sin(psi_0)*cos(psi)*cos(psi_0) + 4*lambda_r*lambda_z*sin(psi)*sin(psi_0)*cos(psi)*cos(psi_0) - 2*lambda_r*lambda_z*sin(psi)*sin(psi_0)*cos(psi)*cos(psi_0)/zeta - lambda_z**2*zeta*sin(psi)**2*sin(psi_0)**2 + lambda_z**2*zeta*sin(psi)**2 + 2*lambda_z**2*sin(psi)**2*sin(psi_0)**2 - lambda_z**2*sin(psi)**2 - lambda_z**2*sin(psi_0)**2 + lambda_z**2 - lambda_z**2*sin(psi)**2*sin(psi_0)**2/zeta + lambda_z**2*sin(psi_0)**2/zeta"
      ]
     },
     "execution_count": 92,
     "metadata": {},
     "output_type": "execute_result"
    }
   ],
   "source": [
    "f_factor_mu = sp.collect(f, mu, evaluate = False)\n",
    "f_factor_mu[mu] * 2"
   ]
  },
  {
   "cell_type": "code",
   "execution_count": 93,
   "id": "5551ae89-b05e-47f7-8172-9db0161c8981",
   "metadata": {},
   "outputs": [
    {
     "data": {
      "text/latex": [
       "$\\displaystyle \\mu \\left(\\lambda_{r}^{2} \\left(- \\frac{\\zeta \\sin^{2}{\\left(\\psi \\right)} \\sin^{2}{\\left(\\psi_{0} \\right)}}{2} + \\frac{\\zeta \\sin^{2}{\\left(\\psi_{0} \\right)}}{2} + \\sin^{2}{\\left(\\psi \\right)} \\sin^{2}{\\left(\\psi_{0} \\right)} - \\frac{\\sin^{2}{\\left(\\psi \\right)}}{2} - \\frac{\\sin^{2}{\\left(\\psi_{0} \\right)}}{2} + 1 - \\frac{\\sin^{2}{\\left(\\psi \\right)} \\sin^{2}{\\left(\\psi_{0} \\right)}}{2 \\zeta} + \\frac{\\sin^{2}{\\left(\\psi \\right)}}{2 \\zeta}\\right) + \\lambda_{r} \\lambda_{z} \\left(- \\zeta \\sin{\\left(\\psi \\right)} \\sin{\\left(\\psi_{0} \\right)} \\cos{\\left(\\psi \\right)} \\cos{\\left(\\psi_{0} \\right)} + 2 \\sin{\\left(\\psi \\right)} \\sin{\\left(\\psi_{0} \\right)} \\cos{\\left(\\psi \\right)} \\cos{\\left(\\psi_{0} \\right)} - \\frac{\\sin{\\left(\\psi \\right)} \\sin{\\left(\\psi_{0} \\right)} \\cos{\\left(\\psi \\right)} \\cos{\\left(\\psi_{0} \\right)}}{\\zeta}\\right) + \\lambda_{z}^{2} \\left(- \\frac{\\zeta \\sin^{2}{\\left(\\psi \\right)} \\sin^{2}{\\left(\\psi_{0} \\right)}}{2} + \\frac{\\zeta \\sin^{2}{\\left(\\psi \\right)}}{2} + \\sin^{2}{\\left(\\psi \\right)} \\sin^{2}{\\left(\\psi_{0} \\right)} - \\frac{\\sin^{2}{\\left(\\psi \\right)}}{2} - \\frac{\\sin^{2}{\\left(\\psi_{0} \\right)}}{2} + \\frac{1}{2} - \\frac{\\sin^{2}{\\left(\\psi \\right)} \\sin^{2}{\\left(\\psi_{0} \\right)}}{2 \\zeta} + \\frac{\\sin^{2}{\\left(\\psi_{0} \\right)}}{2 \\zeta}\\right)\\right)$"
      ],
      "text/plain": [
       "mu*(lambda_r**2*(-zeta*sin(psi)**2*sin(psi_0)**2/2 + zeta*sin(psi_0)**2/2 + sin(psi)**2*sin(psi_0)**2 - sin(psi)**2/2 - sin(psi_0)**2/2 + 1 - sin(psi)**2*sin(psi_0)**2/(2*zeta) + sin(psi)**2/(2*zeta)) + lambda_r*lambda_z*(-zeta*sin(psi)*sin(psi_0)*cos(psi)*cos(psi_0) + 2*sin(psi)*sin(psi_0)*cos(psi)*cos(psi_0) - sin(psi)*sin(psi_0)*cos(psi)*cos(psi_0)/zeta) + lambda_z**2*(-zeta*sin(psi)**2*sin(psi_0)**2/2 + zeta*sin(psi)**2/2 + sin(psi)**2*sin(psi_0)**2 - sin(psi)**2/2 - sin(psi_0)**2/2 + 1/2 - sin(psi)**2*sin(psi_0)**2/(2*zeta) + sin(psi_0)**2/(2*zeta)))"
      ]
     },
     "execution_count": 93,
     "metadata": {},
     "output_type": "execute_result"
    }
   ],
   "source": [
    "f = sp.collect(f, [lambda_z*lambda_r, lambda_z, lambda_r])\n",
    "f = sp.collect(f, mu)\n",
    "f"
   ]
  },
  {
   "cell_type": "code",
   "execution_count": 106,
   "id": "5539f779-6bbe-42ab-bde6-d474921ffa45",
   "metadata": {},
   "outputs": [],
   "source": [
    "def remove_brackets_psi(str_1):\n",
    "    str_2 = str_1.replace('\\\\left(\\\\psi_{0} \\\\right)', '\\\\psi_{0}')\n",
    "    str_3 = str_2.replace('\\\\left(\\\\psi \\\\right)', '\\\\psi')\n",
    "    \n",
    "    return str_3"
   ]
  },
  {
   "cell_type": "code",
   "execution_count": 117,
   "id": "4f6160c8-45ca-4c41-9b33-9b57d77a3448",
   "metadata": {},
   "outputs": [
    {
     "name": "stdout",
     "output_type": "stream",
     "text": [
      "- \\lambda_{r}^{2} \\zeta \\sin^{2}{\\psi} \\sin^{2}{\\psi_{0}} + \\lambda_{r}^{2} \\zeta \\sin^{2}{\\psi_{0}} + 2 \\lambda_{r}^{2} \\sin^{2}{\\psi} \\sin^{2}{\\psi_{0}} - \\lambda_{r}^{2} \\sin^{2}{\\psi} - \\lambda_{r}^{2} \\sin^{2}{\\psi_{0}} + 2 \\lambda_{r}^{2} - \\frac{\\lambda_{r}^{2} \\sin^{2}{\\psi} \\sin^{2}{\\psi_{0}}}{\\zeta} + \\frac{\\lambda_{r}^{2} \\sin^{2}{\\psi}}{\\zeta} - 2 \\lambda_{r} \\lambda_{z} \\zeta \\sin{\\psi} \\sin{\\psi_{0}} \\cos{\\psi} \\cos{\\psi_{0}} + 4 \\lambda_{r} \\lambda_{z} \\sin{\\psi} \\sin{\\psi_{0}} \\cos{\\psi} \\cos{\\psi_{0}} - \\frac{2 \\lambda_{r} \\lambda_{z} \\sin{\\psi} \\sin{\\psi_{0}} \\cos{\\psi} \\cos{\\psi_{0}}}{\\zeta} - \\lambda_{z}^{2} \\zeta \\sin^{2}{\\psi} \\sin^{2}{\\psi_{0}} + \\lambda_{z}^{2} \\zeta \\sin^{2}{\\psi} + 2 \\lambda_{z}^{2} \\sin^{2}{\\psi} \\sin^{2}{\\psi_{0}} - \\lambda_{z}^{2} \\sin^{2}{\\psi} - \\lambda_{z}^{2} \\sin^{2}{\\psi_{0}} + \\lambda_{z}^{2} - \\frac{\\lambda_{z}^{2} \\sin^{2}{\\psi} \\sin^{2}{\\psi_{0}}}{\\zeta} + \\frac{\\lambda_{z}^{2} \\sin^{2}{\\psi_{0}}}{\\zeta}\n"
     ]
    }
   ],
   "source": [
    "print(remove_brackets_psi(sp.printing.latex(f_factor_mu[mu] * 2)))"
   ]
  },
  {
   "cell_type": "code",
   "execution_count": 110,
   "id": "ad38934a-61af-4dad-a594-2de4fdfa0749",
   "metadata": {},
   "outputs": [
    {
     "name": "stdout",
     "output_type": "stream",
     "text": [
      "lambda_r**2:  \\zeta \\left(- \\sin^{2}{\\psi} \\sin^{2}{\\psi_{0}} + \\sin^{2}{\\psi_{0}}\\right) + 2 \\sin^{2}{\\psi} \\sin^{2}{\\psi_{0}} - \\sin^{2}{\\psi} - \\sin^{2}{\\psi_{0}} + 2 + \\frac{- \\sin^{2}{\\psi} \\sin^{2}{\\psi_{0}} + \\sin^{2}{\\psi}}{\\zeta}\n",
      "lambda_r*lambda_z:  - 2 \\zeta \\sin{\\psi} \\sin{\\psi_{0}} \\cos{\\psi} \\cos{\\psi_{0}} + 4 \\sin{\\psi} \\sin{\\psi_{0}} \\cos{\\psi} \\cos{\\psi_{0}} - \\frac{2 \\sin{\\psi} \\sin{\\psi_{0}} \\cos{\\psi} \\cos{\\psi_{0}}}{\\zeta}\n",
      "lambda_z**2:  \\zeta \\left(- \\sin^{2}{\\psi} \\sin^{2}{\\psi_{0}} + \\sin^{2}{\\psi}\\right) + 2 \\sin^{2}{\\psi} \\sin^{2}{\\psi_{0}} - \\sin^{2}{\\psi} - \\sin^{2}{\\psi_{0}} + 1 + \\frac{- \\sin^{2}{\\psi} \\sin^{2}{\\psi_{0}} + \\sin^{2}{\\psi_{0}}}{\\zeta}\n"
     ]
    }
   ],
   "source": [
    "f_collect_lambdas = sp.collect(f, [lambda_z*lambda_r, lambda_z, lambda_r], evaluate = False)\n",
    "print(\"lambda_r**2: \", remove_brackets_psi(sp.printing.latex(sp.collect(sp.expand(2/mu * f_collect_lambdas[lambda_r**2]), zeta))))\n",
    "print(\"lambda_r*lambda_z: \", remove_brackets_psi(sp.printing.latex(sp.collect(sp.expand(2/mu * f_collect_lambdas[lambda_r*lambda_z]), zeta))))\n",
    "print(\"lambda_z**2: \", remove_brackets_psi(sp.printing.latex(sp.collect(sp.expand(2/mu * f_collect_lambdas[lambda_z**2]), zeta))))"
   ]
  },
  {
   "cell_type": "code",
   "execution_count": 18,
   "id": "0dacf7a1-0f66-4b9b-bfcc-f7ac44aa7795",
   "metadata": {},
   "outputs": [
    {
     "data": {
      "text/latex": [
       "$\\displaystyle \\lambda_{r}^{2} \\left(\\mu \\sin^{2}{\\left(\\psi \\right)} \\sin^{2}{\\left(\\psi_{0} \\right)} + \\mu\\right) + \\lambda_{r} \\lambda_{z} \\left(- \\mu \\zeta \\sin{\\left(\\psi \\right)} \\sin{\\left(\\psi_{0} \\right)} \\cos{\\left(\\psi \\right)} \\cos{\\left(\\psi_{0} \\right)} + 2 \\mu \\sin{\\left(\\psi \\right)} \\sin{\\left(\\psi_{0} \\right)} \\cos{\\left(\\psi \\right)} \\cos{\\left(\\psi_{0} \\right)} - \\frac{\\mu \\sin{\\left(\\psi \\right)} \\sin{\\left(\\psi_{0} \\right)} \\cos{\\left(\\psi \\right)} \\cos{\\left(\\psi_{0} \\right)}}{\\zeta}\\right) + \\lambda_{z}^{2} \\mu \\sin^{2}{\\left(\\psi \\right)} \\sin^{2}{\\left(\\psi_{0} \\right)} + \\frac{\\mu \\left(\\lambda_{r}^{2} \\left(- \\zeta \\sin^{2}{\\left(\\psi \\right)} \\sin^{2}{\\left(\\psi_{0} \\right)} + \\zeta \\sin^{2}{\\left(\\psi_{0} \\right)} - \\sin^{2}{\\left(\\psi \\right)} - \\sin^{2}{\\left(\\psi_{0} \\right)} - \\frac{\\sin^{2}{\\left(\\psi \\right)} \\sin^{2}{\\left(\\psi_{0} \\right)}}{\\zeta} + \\frac{\\sin^{2}{\\left(\\psi \\right)}}{\\zeta}\\right) + \\lambda_{z}^{2} \\left(- \\zeta \\sin^{2}{\\left(\\psi \\right)} \\sin^{2}{\\left(\\psi_{0} \\right)} + \\zeta \\sin^{2}{\\left(\\psi \\right)} - \\sin^{2}{\\left(\\psi \\right)} - \\sin^{2}{\\left(\\psi_{0} \\right)} + 1 - \\frac{\\sin^{2}{\\left(\\psi \\right)} \\sin^{2}{\\left(\\psi_{0} \\right)}}{\\zeta} + \\frac{\\sin^{2}{\\left(\\psi_{0} \\right)}}{\\zeta}\\right)\\right)}{2}$"
      ],
      "text/plain": [
       "lambda_r**2*(mu*sin(psi)**2*sin(psi_0)**2 + mu) + lambda_r*lambda_z*(-mu*zeta*sin(psi)*sin(psi_0)*cos(psi)*cos(psi_0) + 2*mu*sin(psi)*sin(psi_0)*cos(psi)*cos(psi_0) - mu*sin(psi)*sin(psi_0)*cos(psi)*cos(psi_0)/zeta) + lambda_z**2*mu*sin(psi)**2*sin(psi_0)**2 + mu*(lambda_r**2*(-zeta*sin(psi)**2*sin(psi_0)**2 + zeta*sin(psi_0)**2 - sin(psi)**2 - sin(psi_0)**2 - sin(psi)**2*sin(psi_0)**2/zeta + sin(psi)**2/zeta) + lambda_z**2*(-zeta*sin(psi)**2*sin(psi_0)**2 + zeta*sin(psi)**2 - sin(psi)**2 - sin(psi_0)**2 + 1 - sin(psi)**2*sin(psi_0)**2/zeta + sin(psi_0)**2/zeta))/2"
      ]
     },
     "execution_count": 18,
     "metadata": {},
     "output_type": "execute_result"
    }
   ],
   "source": [
    "sp.collect(f, [lambda_z*lambda_r, lambda_z, lambda_r])"
   ]
  },
  {
   "cell_type": "code",
   "execution_count": 118,
   "id": "83f4ad4e-b1ae-4e46-9cd7-93c8bb1334df",
   "metadata": {
    "tags": []
   },
   "outputs": [
    {
     "data": {
      "text/latex": [
       "$\\displaystyle - \\frac{\\lambda_{r}^{2} \\mu \\zeta \\sin^{2}{\\left(\\psi \\right)} \\sin^{2}{\\left(\\psi_{0} \\right)}}{2} + \\frac{\\lambda_{r}^{2} \\mu \\zeta \\sin^{2}{\\left(\\psi_{0} \\right)}}{2} + \\lambda_{r}^{2} \\mu \\sin^{2}{\\left(\\psi \\right)} \\sin^{2}{\\left(\\psi_{0} \\right)} - \\frac{\\lambda_{r}^{2} \\mu \\sin^{2}{\\left(\\psi \\right)}}{2} - \\frac{\\lambda_{r}^{2} \\mu \\sin^{2}{\\left(\\psi_{0} \\right)}}{2} + \\lambda_{r}^{2} \\mu - \\frac{\\lambda_{r}^{2} \\mu \\sin^{2}{\\left(\\psi \\right)} \\sin^{2}{\\left(\\psi_{0} \\right)}}{2 \\zeta} + \\frac{\\lambda_{r}^{2} \\mu \\sin^{2}{\\left(\\psi \\right)}}{2 \\zeta} - \\lambda_{r} \\lambda_{z} \\mu \\zeta \\sin{\\left(\\psi \\right)} \\sin{\\left(\\psi_{0} \\right)} \\cos{\\left(\\psi \\right)} \\cos{\\left(\\psi_{0} \\right)} + 2 \\lambda_{r} \\lambda_{z} \\mu \\sin{\\left(\\psi \\right)} \\sin{\\left(\\psi_{0} \\right)} \\cos{\\left(\\psi \\right)} \\cos{\\left(\\psi_{0} \\right)} - \\frac{\\lambda_{r} \\lambda_{z} \\mu \\sin{\\left(\\psi \\right)} \\sin{\\left(\\psi_{0} \\right)} \\cos{\\left(\\psi \\right)} \\cos{\\left(\\psi_{0} \\right)}}{\\zeta} - \\frac{\\lambda_{z}^{2} \\mu \\zeta \\sin^{2}{\\left(\\psi \\right)} \\sin^{2}{\\left(\\psi_{0} \\right)}}{2} + \\frac{\\lambda_{z}^{2} \\mu \\zeta \\sin^{2}{\\left(\\psi \\right)}}{2} + \\lambda_{z}^{2} \\mu \\sin^{2}{\\left(\\psi \\right)} \\sin^{2}{\\left(\\psi_{0} \\right)} - \\frac{\\lambda_{z}^{2} \\mu \\sin^{2}{\\left(\\psi \\right)}}{2} - \\frac{\\lambda_{z}^{2} \\mu \\sin^{2}{\\left(\\psi_{0} \\right)}}{2} + \\frac{\\lambda_{z}^{2} \\mu}{2} - \\frac{\\lambda_{z}^{2} \\mu \\sin^{2}{\\left(\\psi \\right)} \\sin^{2}{\\left(\\psi_{0} \\right)}}{2 \\zeta} + \\frac{\\lambda_{z}^{2} \\mu \\sin^{2}{\\left(\\psi_{0} \\right)}}{2 \\zeta}$"
      ],
      "text/plain": [
       "-lambda_r**2*mu*zeta*sin(psi)**2*sin(psi_0)**2/2 + lambda_r**2*mu*zeta*sin(psi_0)**2/2 + lambda_r**2*mu*sin(psi)**2*sin(psi_0)**2 - lambda_r**2*mu*sin(psi)**2/2 - lambda_r**2*mu*sin(psi_0)**2/2 + lambda_r**2*mu - lambda_r**2*mu*sin(psi)**2*sin(psi_0)**2/(2*zeta) + lambda_r**2*mu*sin(psi)**2/(2*zeta) - lambda_r*lambda_z*mu*zeta*sin(psi)*sin(psi_0)*cos(psi)*cos(psi_0) + 2*lambda_r*lambda_z*mu*sin(psi)*sin(psi_0)*cos(psi)*cos(psi_0) - lambda_r*lambda_z*mu*sin(psi)*sin(psi_0)*cos(psi)*cos(psi_0)/zeta - lambda_z**2*mu*zeta*sin(psi)**2*sin(psi_0)**2/2 + lambda_z**2*mu*zeta*sin(psi)**2/2 + lambda_z**2*mu*sin(psi)**2*sin(psi_0)**2 - lambda_z**2*mu*sin(psi)**2/2 - lambda_z**2*mu*sin(psi_0)**2/2 + lambda_z**2*mu/2 - lambda_z**2*mu*sin(psi)**2*sin(psi_0)**2/(2*zeta) + lambda_z**2*mu*sin(psi_0)**2/(2*zeta)"
      ]
     },
     "execution_count": 118,
     "metadata": {},
     "output_type": "execute_result"
    }
   ],
   "source": [
    "f"
   ]
  },
  {
   "cell_type": "markdown",
   "id": "965377c3-23fc-4087-8d86-82f860c0e5ba",
   "metadata": {},
   "source": [
    "# Finding $\\psi$"
   ]
  },
  {
   "cell_type": "code",
   "execution_count": 122,
   "id": "fcd4e751-82df-4a19-a817-695c7af38892",
   "metadata": {},
   "outputs": [
    {
     "data": {
      "text/latex": [
       "$\\displaystyle - \\lambda_{r}^{2} \\mu \\zeta \\sin{\\left(\\psi \\right)} \\sin^{2}{\\left(\\psi_{0} \\right)} \\cos{\\left(\\psi \\right)} + 2 \\lambda_{r}^{2} \\mu \\sin{\\left(\\psi \\right)} \\sin^{2}{\\left(\\psi_{0} \\right)} \\cos{\\left(\\psi \\right)} - \\lambda_{r}^{2} \\mu \\sin{\\left(\\psi \\right)} \\cos{\\left(\\psi \\right)} - \\frac{\\lambda_{r}^{2} \\mu \\sin{\\left(\\psi \\right)} \\sin^{2}{\\left(\\psi_{0} \\right)} \\cos{\\left(\\psi \\right)}}{\\zeta} + \\frac{\\lambda_{r}^{2} \\mu \\sin{\\left(\\psi \\right)} \\cos{\\left(\\psi \\right)}}{\\zeta} + \\lambda_{r} \\lambda_{z} \\mu \\zeta \\sin^{2}{\\left(\\psi \\right)} \\sin{\\left(\\psi_{0} \\right)} \\cos{\\left(\\psi_{0} \\right)} - \\lambda_{r} \\lambda_{z} \\mu \\zeta \\sin{\\left(\\psi_{0} \\right)} \\cos^{2}{\\left(\\psi \\right)} \\cos{\\left(\\psi_{0} \\right)} - 2 \\lambda_{r} \\lambda_{z} \\mu \\sin^{2}{\\left(\\psi \\right)} \\sin{\\left(\\psi_{0} \\right)} \\cos{\\left(\\psi_{0} \\right)} + 2 \\lambda_{r} \\lambda_{z} \\mu \\sin{\\left(\\psi_{0} \\right)} \\cos^{2}{\\left(\\psi \\right)} \\cos{\\left(\\psi_{0} \\right)} + \\frac{\\lambda_{r} \\lambda_{z} \\mu \\sin^{2}{\\left(\\psi \\right)} \\sin{\\left(\\psi_{0} \\right)} \\cos{\\left(\\psi_{0} \\right)}}{\\zeta} - \\frac{\\lambda_{r} \\lambda_{z} \\mu \\sin{\\left(\\psi_{0} \\right)} \\cos^{2}{\\left(\\psi \\right)} \\cos{\\left(\\psi_{0} \\right)}}{\\zeta} - \\lambda_{z}^{2} \\mu \\zeta \\sin{\\left(\\psi \\right)} \\sin^{2}{\\left(\\psi_{0} \\right)} \\cos{\\left(\\psi \\right)} + \\lambda_{z}^{2} \\mu \\zeta \\sin{\\left(\\psi \\right)} \\cos{\\left(\\psi \\right)} + 2 \\lambda_{z}^{2} \\mu \\sin{\\left(\\psi \\right)} \\sin^{2}{\\left(\\psi_{0} \\right)} \\cos{\\left(\\psi \\right)} - \\lambda_{z}^{2} \\mu \\sin{\\left(\\psi \\right)} \\cos{\\left(\\psi \\right)} - \\frac{\\lambda_{z}^{2} \\mu \\sin{\\left(\\psi \\right)} \\sin^{2}{\\left(\\psi_{0} \\right)} \\cos{\\left(\\psi \\right)}}{\\zeta}$"
      ],
      "text/plain": [
       "-lambda_r**2*mu*zeta*sin(psi)*sin(psi_0)**2*cos(psi) + 2*lambda_r**2*mu*sin(psi)*sin(psi_0)**2*cos(psi) - lambda_r**2*mu*sin(psi)*cos(psi) - lambda_r**2*mu*sin(psi)*sin(psi_0)**2*cos(psi)/zeta + lambda_r**2*mu*sin(psi)*cos(psi)/zeta + lambda_r*lambda_z*mu*zeta*sin(psi)**2*sin(psi_0)*cos(psi_0) - lambda_r*lambda_z*mu*zeta*sin(psi_0)*cos(psi)**2*cos(psi_0) - 2*lambda_r*lambda_z*mu*sin(psi)**2*sin(psi_0)*cos(psi_0) + 2*lambda_r*lambda_z*mu*sin(psi_0)*cos(psi)**2*cos(psi_0) + lambda_r*lambda_z*mu*sin(psi)**2*sin(psi_0)*cos(psi_0)/zeta - lambda_r*lambda_z*mu*sin(psi_0)*cos(psi)**2*cos(psi_0)/zeta - lambda_z**2*mu*zeta*sin(psi)*sin(psi_0)**2*cos(psi) + lambda_z**2*mu*zeta*sin(psi)*cos(psi) + 2*lambda_z**2*mu*sin(psi)*sin(psi_0)**2*cos(psi) - lambda_z**2*mu*sin(psi)*cos(psi) - lambda_z**2*mu*sin(psi)*sin(psi_0)**2*cos(psi)/zeta"
      ]
     },
     "execution_count": 122,
     "metadata": {},
     "output_type": "execute_result"
    }
   ],
   "source": [
    "df_dpsi = sp.diff(f, psi)\n",
    "\n",
    "df_dpsi"
   ]
  },
  {
   "cell_type": "code",
   "execution_count": 123,
   "id": "676616a0-da1e-412c-959f-f37b32e749f9",
   "metadata": {},
   "outputs": [
    {
     "data": {
      "text/latex": [
       "$\\displaystyle \\mu \\left(\\lambda_{r}^{2} \\left(- \\zeta \\sin{\\left(\\psi \\right)} \\sin^{2}{\\left(\\psi_{0} \\right)} \\cos{\\left(\\psi \\right)} + 2 \\sin{\\left(\\psi \\right)} \\sin^{2}{\\left(\\psi_{0} \\right)} \\cos{\\left(\\psi \\right)} - \\sin{\\left(\\psi \\right)} \\cos{\\left(\\psi \\right)} - \\frac{\\sin{\\left(\\psi \\right)} \\sin^{2}{\\left(\\psi_{0} \\right)} \\cos{\\left(\\psi \\right)}}{\\zeta} + \\frac{\\sin{\\left(\\psi \\right)} \\cos{\\left(\\psi \\right)}}{\\zeta}\\right) + \\lambda_{r} \\lambda_{z} \\left(\\zeta \\sin^{2}{\\left(\\psi \\right)} \\sin{\\left(\\psi_{0} \\right)} \\cos{\\left(\\psi_{0} \\right)} - \\zeta \\sin{\\left(\\psi_{0} \\right)} \\cos^{2}{\\left(\\psi \\right)} \\cos{\\left(\\psi_{0} \\right)} - 2 \\sin^{2}{\\left(\\psi \\right)} \\sin{\\left(\\psi_{0} \\right)} \\cos{\\left(\\psi_{0} \\right)} + 2 \\sin{\\left(\\psi_{0} \\right)} \\cos^{2}{\\left(\\psi \\right)} \\cos{\\left(\\psi_{0} \\right)} + \\frac{\\sin^{2}{\\left(\\psi \\right)} \\sin{\\left(\\psi_{0} \\right)} \\cos{\\left(\\psi_{0} \\right)}}{\\zeta} - \\frac{\\sin{\\left(\\psi_{0} \\right)} \\cos^{2}{\\left(\\psi \\right)} \\cos{\\left(\\psi_{0} \\right)}}{\\zeta}\\right) + \\lambda_{z}^{2} \\left(- \\zeta \\sin{\\left(\\psi \\right)} \\sin^{2}{\\left(\\psi_{0} \\right)} \\cos{\\left(\\psi \\right)} + \\zeta \\sin{\\left(\\psi \\right)} \\cos{\\left(\\psi \\right)} + 2 \\sin{\\left(\\psi \\right)} \\sin^{2}{\\left(\\psi_{0} \\right)} \\cos{\\left(\\psi \\right)} - \\sin{\\left(\\psi \\right)} \\cos{\\left(\\psi \\right)} - \\frac{\\sin{\\left(\\psi \\right)} \\sin^{2}{\\left(\\psi_{0} \\right)} \\cos{\\left(\\psi \\right)}}{\\zeta}\\right)\\right)$"
      ],
      "text/plain": [
       "mu*(lambda_r**2*(-zeta*sin(psi)*sin(psi_0)**2*cos(psi) + 2*sin(psi)*sin(psi_0)**2*cos(psi) - sin(psi)*cos(psi) - sin(psi)*sin(psi_0)**2*cos(psi)/zeta + sin(psi)*cos(psi)/zeta) + lambda_r*lambda_z*(zeta*sin(psi)**2*sin(psi_0)*cos(psi_0) - zeta*sin(psi_0)*cos(psi)**2*cos(psi_0) - 2*sin(psi)**2*sin(psi_0)*cos(psi_0) + 2*sin(psi_0)*cos(psi)**2*cos(psi_0) + sin(psi)**2*sin(psi_0)*cos(psi_0)/zeta - sin(psi_0)*cos(psi)**2*cos(psi_0)/zeta) + lambda_z**2*(-zeta*sin(psi)*sin(psi_0)**2*cos(psi) + zeta*sin(psi)*cos(psi) + 2*sin(psi)*sin(psi_0)**2*cos(psi) - sin(psi)*cos(psi) - sin(psi)*sin(psi_0)**2*cos(psi)/zeta))"
      ]
     },
     "execution_count": 123,
     "metadata": {},
     "output_type": "execute_result"
    }
   ],
   "source": [
    "df_dpsi = sp.collect(df_dpsi, [lambda_z*lambda_r, lambda_z, lambda_r])\n",
    "df_dpsi = sp.collect(df_dpsi, mu)\n",
    "df_dpsi"
   ]
  },
  {
   "cell_type": "code",
   "execution_count": 124,
   "id": "dea516b7-741b-4fde-a273-3946492a37ac",
   "metadata": {},
   "outputs": [
    {
     "data": {
      "text/latex": [
       "$\\displaystyle - \\frac{\\mu \\left(\\lambda_{r}^{2} \\left(\\zeta \\left(\\zeta \\sin^{2}{\\left(\\psi_{0} \\right)} - 2 \\sin^{2}{\\left(\\psi_{0} \\right)} + 1\\right) + \\sin^{2}{\\left(\\psi_{0} \\right)} - 1\\right) \\sin{\\left(\\psi \\right)} \\cos{\\left(\\psi \\right)} - \\frac{\\lambda_{r} \\lambda_{z} \\left(\\zeta - 1\\right)^{2} \\left(\\sin{\\left(2 \\psi - 2 \\psi_{0} \\right)} - \\sin{\\left(2 \\psi + 2 \\psi_{0} \\right)}\\right)}{4} - \\lambda_{z}^{2} \\left(\\zeta \\left(\\zeta \\cos^{2}{\\left(\\psi_{0} \\right)} - 2 \\cos^{2}{\\left(\\psi_{0} \\right)} + 1\\right) - \\sin^{2}{\\left(\\psi_{0} \\right)}\\right) \\sin{\\left(\\psi \\right)} \\cos{\\left(\\psi \\right)}\\right)}{\\zeta}$"
      ],
      "text/plain": [
       "-mu*(lambda_r**2*(zeta*(zeta*sin(psi_0)**2 - 2*sin(psi_0)**2 + 1) + sin(psi_0)**2 - 1)*sin(psi)*cos(psi) - lambda_r*lambda_z*(zeta - 1)**2*(sin(2*psi - 2*psi_0) - sin(2*psi + 2*psi_0))/4 - lambda_z**2*(zeta*(zeta*cos(psi_0)**2 - 2*cos(psi_0)**2 + 1) - sin(psi_0)**2)*sin(psi)*cos(psi))/zeta"
      ]
     },
     "execution_count": 124,
     "metadata": {},
     "output_type": "execute_result"
    }
   ],
   "source": [
    "sp.simplify(df_dpsi)"
   ]
  },
  {
   "cell_type": "code",
   "execution_count": 128,
   "id": "e3228e27-4f8f-49d9-8d64-6ab3aa21b543",
   "metadata": {},
   "outputs": [
    {
     "data": {
      "text/latex": [
       "$\\displaystyle \\mu \\left(\\lambda_{r}^{2} \\left(\\zeta \\cos^{2}{\\left(\\psi_{0} \\right)} - \\zeta - 2 \\cos^{2}{\\left(\\psi_{0} \\right)} + 1 + \\frac{\\cos^{2}{\\left(\\psi_{0} \\right)}}{\\zeta}\\right) \\sin{\\left(\\psi \\right)} \\cos{\\left(\\psi \\right)} + \\frac{\\lambda_{r} \\lambda_{z} \\left(\\zeta - 1\\right)^{2} \\left(\\sin{\\left(2 \\left(\\psi - \\psi_{0}\\right) \\right)} - \\sin{\\left(2 \\left(\\psi + \\psi_{0}\\right) \\right)}\\right)}{4 \\zeta} + \\lambda_{z}^{2} \\left(- \\zeta \\sin^{2}{\\left(\\psi_{0} \\right)} + \\zeta + 2 \\sin^{2}{\\left(\\psi_{0} \\right)} - 1 - \\frac{\\sin^{2}{\\left(\\psi_{0} \\right)}}{\\zeta}\\right) \\sin{\\left(\\psi \\right)} \\cos{\\left(\\psi \\right)}\\right)$"
      ],
      "text/plain": [
       "mu*(lambda_r**2*(zeta*cos(psi_0)**2 - zeta - 2*cos(psi_0)**2 + 1 + cos(psi_0)**2/zeta)*sin(psi)*cos(psi) + lambda_r*lambda_z*(zeta - 1)**2*(sin(2*(psi - psi_0)) - sin(2*(psi + psi_0)))/(4*zeta) + lambda_z**2*(-zeta*sin(psi_0)**2 + zeta + 2*sin(psi_0)**2 - 1 - sin(psi_0)**2/zeta)*sin(psi)*cos(psi))"
      ]
     },
     "execution_count": 128,
     "metadata": {},
     "output_type": "execute_result"
    }
   ],
   "source": [
    "sp.trigsimp(df_dpsi)"
   ]
  },
  {
   "cell_type": "code",
   "execution_count": 125,
   "id": "805656e0-6ac8-4014-b4c0-9974277d8b39",
   "metadata": {},
   "outputs": [
    {
     "data": {
      "text/latex": [
       "$\\displaystyle \\mu \\left(\\lambda_{r}^{2} \\left(- \\zeta \\sin{\\left(\\psi \\right)} \\sin^{2}{\\left(\\psi_{0} \\right)} \\cos{\\left(\\psi \\right)} + 2 \\sin{\\left(\\psi \\right)} \\sin^{2}{\\left(\\psi_{0} \\right)} \\cos{\\left(\\psi \\right)} - \\sin{\\left(\\psi \\right)} \\cos{\\left(\\psi \\right)} - \\frac{\\sin{\\left(\\psi \\right)} \\sin^{2}{\\left(\\psi_{0} \\right)} \\cos{\\left(\\psi \\right)}}{\\zeta} + \\frac{\\sin{\\left(\\psi \\right)} \\cos{\\left(\\psi \\right)}}{\\zeta}\\right) + \\lambda_{r} \\lambda_{z} \\left(\\zeta \\sin^{2}{\\left(\\psi \\right)} \\sin{\\left(\\psi_{0} \\right)} \\cos{\\left(\\psi_{0} \\right)} - \\zeta \\sin{\\left(\\psi_{0} \\right)} \\cos^{2}{\\left(\\psi \\right)} \\cos{\\left(\\psi_{0} \\right)} - 2 \\sin^{2}{\\left(\\psi \\right)} \\sin{\\left(\\psi_{0} \\right)} \\cos{\\left(\\psi_{0} \\right)} + 2 \\sin{\\left(\\psi_{0} \\right)} \\cos^{2}{\\left(\\psi \\right)} \\cos{\\left(\\psi_{0} \\right)} + \\frac{\\sin^{2}{\\left(\\psi \\right)} \\sin{\\left(\\psi_{0} \\right)} \\cos{\\left(\\psi_{0} \\right)}}{\\zeta} - \\frac{\\sin{\\left(\\psi_{0} \\right)} \\cos^{2}{\\left(\\psi \\right)} \\cos{\\left(\\psi_{0} \\right)}}{\\zeta}\\right) + \\lambda_{z}^{2} \\left(- \\zeta \\sin{\\left(\\psi \\right)} \\sin^{2}{\\left(\\psi_{0} \\right)} \\cos{\\left(\\psi \\right)} + \\zeta \\sin{\\left(\\psi \\right)} \\cos{\\left(\\psi \\right)} + 2 \\sin{\\left(\\psi \\right)} \\sin^{2}{\\left(\\psi_{0} \\right)} \\cos{\\left(\\psi \\right)} - \\sin{\\left(\\psi \\right)} \\cos{\\left(\\psi \\right)} - \\frac{\\sin{\\left(\\psi \\right)} \\sin^{2}{\\left(\\psi_{0} \\right)} \\cos{\\left(\\psi \\right)}}{\\zeta}\\right)\\right)$"
      ],
      "text/plain": [
       "mu*(lambda_r**2*(-zeta*sin(psi)*sin(psi_0)**2*cos(psi) + 2*sin(psi)*sin(psi_0)**2*cos(psi) - sin(psi)*cos(psi) - sin(psi)*sin(psi_0)**2*cos(psi)/zeta + sin(psi)*cos(psi)/zeta) + lambda_r*lambda_z*(zeta*sin(psi)**2*sin(psi_0)*cos(psi_0) - zeta*sin(psi_0)*cos(psi)**2*cos(psi_0) - 2*sin(psi)**2*sin(psi_0)*cos(psi_0) + 2*sin(psi_0)*cos(psi)**2*cos(psi_0) + sin(psi)**2*sin(psi_0)*cos(psi_0)/zeta - sin(psi_0)*cos(psi)**2*cos(psi_0)/zeta) + lambda_z**2*(-zeta*sin(psi)*sin(psi_0)**2*cos(psi) + zeta*sin(psi)*cos(psi) + 2*sin(psi)*sin(psi_0)**2*cos(psi) - sin(psi)*cos(psi) - sin(psi)*sin(psi_0)**2*cos(psi)/zeta))"
      ]
     },
     "execution_count": 125,
     "metadata": {},
     "output_type": "execute_result"
    }
   ],
   "source": [
    "df_dpsi"
   ]
  },
  {
   "cell_type": "code",
   "execution_count": 129,
   "id": "740e57cb-f585-4db5-8844-bdb57bea6ee1",
   "metadata": {
    "collapsed": true,
    "jupyter": {
     "outputs_hidden": true
    },
    "tags": []
   },
   "outputs": [
    {
     "ename": "KeyboardInterrupt",
     "evalue": "",
     "output_type": "error",
     "traceback": [
      "\u001b[0;31m---------------------------------------------------------------------------\u001b[0m",
      "\u001b[0;31m_SolveTrig1Error\u001b[0m                          Traceback (most recent call last)",
      "File \u001b[0;32m/opt/anaconda3/lib/python3.9/site-packages/sympy/solvers/solveset.py:601\u001b[0m, in \u001b[0;36m_solve_trig\u001b[0;34m(f, symbol, domain)\u001b[0m\n\u001b[1;32m    600\u001b[0m \u001b[38;5;28;01mtry\u001b[39;00m:\n\u001b[0;32m--> 601\u001b[0m     sol \u001b[38;5;241m=\u001b[39m \u001b[43m_solve_trig1\u001b[49m\u001b[43m(\u001b[49m\u001b[43mf\u001b[49m\u001b[43m,\u001b[49m\u001b[43m \u001b[49m\u001b[43msymbol\u001b[49m\u001b[43m,\u001b[49m\u001b[43m \u001b[49m\u001b[43mdomain\u001b[49m\u001b[43m)\u001b[49m\n\u001b[1;32m    602\u001b[0m \u001b[38;5;28;01mexcept\u001b[39;00m _SolveTrig1Error:\n",
      "File \u001b[0;32m/opt/anaconda3/lib/python3.9/site-packages/sympy/solvers/solveset.py:709\u001b[0m, in \u001b[0;36m_solve_trig1\u001b[0;34m(f, symbol, domain)\u001b[0m\n\u001b[1;32m    708\u001b[0m \u001b[38;5;28;01melse\u001b[39;00m:\n\u001b[0;32m--> 709\u001b[0m     \u001b[38;5;28;01mraise\u001b[39;00m _SolveTrig1Error(\u001b[38;5;124m\"\u001b[39m\u001b[38;5;124mpolynomial solutions must form FiniteSet\u001b[39m\u001b[38;5;124m\"\u001b[39m)\n",
      "\u001b[0;31m_SolveTrig1Error\u001b[0m: polynomial solutions must form FiniteSet",
      "\nDuring handling of the above exception, another exception occurred:\n",
      "\u001b[0;31mKeyboardInterrupt\u001b[0m                         Traceback (most recent call last)",
      "Input \u001b[0;32mIn [129]\u001b[0m, in \u001b[0;36m<cell line: 1>\u001b[0;34m()\u001b[0m\n\u001b[0;32m----> 1\u001b[0m \u001b[43msp\u001b[49m\u001b[38;5;241;43m.\u001b[39;49m\u001b[43msolveset\u001b[49m\u001b[43m(\u001b[49m\u001b[43msp\u001b[49m\u001b[38;5;241;43m.\u001b[39;49m\u001b[43mEq\u001b[49m\u001b[43m(\u001b[49m\u001b[43mdf_dpsi\u001b[49m\u001b[43m,\u001b[49m\u001b[43m \u001b[49m\u001b[38;5;241;43m0\u001b[39;49m\u001b[43m)\u001b[49m\u001b[43m,\u001b[49m\u001b[43m \u001b[49m\u001b[43mpsi\u001b[49m\u001b[43m)\u001b[49m\n",
      "File \u001b[0;32m/opt/anaconda3/lib/python3.9/site-packages/sympy/solvers/solveset.py:2216\u001b[0m, in \u001b[0;36msolveset\u001b[0;34m(f, symbol, domain)\u001b[0m\n\u001b[1;32m   2214\u001b[0m \u001b[38;5;28;01mif\u001b[39;00m symbol \u001b[38;5;129;01mnot\u001b[39;00m \u001b[38;5;129;01min\u001b[39;00m _rc:\n\u001b[1;32m   2215\u001b[0m     x \u001b[38;5;241m=\u001b[39m _rc[\u001b[38;5;241m0\u001b[39m] \u001b[38;5;28;01mif\u001b[39;00m domain\u001b[38;5;241m.\u001b[39mis_subset(S\u001b[38;5;241m.\u001b[39mReals) \u001b[38;5;28;01melse\u001b[39;00m _rc[\u001b[38;5;241m1\u001b[39m]\n\u001b[0;32m-> 2216\u001b[0m     rv \u001b[38;5;241m=\u001b[39m \u001b[43msolveset\u001b[49m\u001b[43m(\u001b[49m\u001b[43mf\u001b[49m\u001b[38;5;241;43m.\u001b[39;49m\u001b[43mxreplace\u001b[49m\u001b[43m(\u001b[49m\u001b[43m{\u001b[49m\u001b[43msymbol\u001b[49m\u001b[43m:\u001b[49m\u001b[43m \u001b[49m\u001b[43mx\u001b[49m\u001b[43m}\u001b[49m\u001b[43m)\u001b[49m\u001b[43m,\u001b[49m\u001b[43m \u001b[49m\u001b[43mx\u001b[49m\u001b[43m,\u001b[49m\u001b[43m \u001b[49m\u001b[43mdomain\u001b[49m\u001b[43m)\u001b[49m\n\u001b[1;32m   2217\u001b[0m     \u001b[38;5;66;03m# try to use the original symbol if possible\u001b[39;00m\n\u001b[1;32m   2218\u001b[0m     \u001b[38;5;28;01mtry\u001b[39;00m:\n",
      "File \u001b[0;32m/opt/anaconda3/lib/python3.9/site-packages/sympy/solvers/solveset.py:2240\u001b[0m, in \u001b[0;36msolveset\u001b[0;34m(f, symbol, domain)\u001b[0m\n\u001b[1;32m   2237\u001b[0m     f \u001b[38;5;241m=\u001b[39m f\u001b[38;5;241m.\u001b[39mxreplace({d: e})\n\u001b[1;32m   2238\u001b[0m f \u001b[38;5;241m=\u001b[39m piecewise_fold(f)\n\u001b[0;32m-> 2240\u001b[0m \u001b[38;5;28;01mreturn\u001b[39;00m \u001b[43m_solveset\u001b[49m\u001b[43m(\u001b[49m\u001b[43mf\u001b[49m\u001b[43m,\u001b[49m\u001b[43m \u001b[49m\u001b[43msymbol\u001b[49m\u001b[43m,\u001b[49m\u001b[43m \u001b[49m\u001b[43mdomain\u001b[49m\u001b[43m,\u001b[49m\u001b[43m \u001b[49m\u001b[43m_check\u001b[49m\u001b[38;5;241;43m=\u001b[39;49m\u001b[38;5;28;43;01mTrue\u001b[39;49;00m\u001b[43m)\u001b[49m\n",
      "File \u001b[0;32m/opt/anaconda3/lib/python3.9/site-packages/sympy/solvers/solveset.py:1041\u001b[0m, in \u001b[0;36m_solveset\u001b[0;34m(f, symbol, domain, _check)\u001b[0m\n\u001b[1;32m   1039\u001b[0m         result \u001b[38;5;241m+\u001b[39m\u001b[38;5;241m=\u001b[39m solns\n\u001b[1;32m   1040\u001b[0m \u001b[38;5;28;01melif\u001b[39;00m \u001b[38;5;28misinstance\u001b[39m(f, Eq):\n\u001b[0;32m-> 1041\u001b[0m     result \u001b[38;5;241m=\u001b[39m \u001b[43msolver\u001b[49m\u001b[43m(\u001b[49m\u001b[43mAdd\u001b[49m\u001b[43m(\u001b[49m\u001b[43mf\u001b[49m\u001b[38;5;241;43m.\u001b[39;49m\u001b[43mlhs\u001b[49m\u001b[43m,\u001b[49m\u001b[43m \u001b[49m\u001b[38;5;241;43m-\u001b[39;49m\u001b[43m \u001b[49m\u001b[43mf\u001b[49m\u001b[38;5;241;43m.\u001b[39;49m\u001b[43mrhs\u001b[49m\u001b[43m,\u001b[49m\u001b[43m \u001b[49m\u001b[43mevaluate\u001b[49m\u001b[38;5;241;43m=\u001b[39;49m\u001b[38;5;28;43;01mFalse\u001b[39;49;00m\u001b[43m)\u001b[49m\u001b[43m,\u001b[49m\u001b[43m \u001b[49m\u001b[43msymbol\u001b[49m\u001b[43m,\u001b[49m\u001b[43m \u001b[49m\u001b[43mdomain\u001b[49m\u001b[43m)\u001b[49m\n\u001b[1;32m   1043\u001b[0m \u001b[38;5;28;01melif\u001b[39;00m f\u001b[38;5;241m.\u001b[39mis_Relational:\n\u001b[1;32m   1044\u001b[0m     \u001b[38;5;28;01mfrom\u001b[39;00m \u001b[38;5;21;01m.\u001b[39;00m\u001b[38;5;21;01minequalities\u001b[39;00m \u001b[38;5;28;01mimport\u001b[39;00m solve_univariate_inequality\n",
      "File \u001b[0;32m/opt/anaconda3/lib/python3.9/site-packages/sympy/solvers/solveset.py:1008\u001b[0m, in \u001b[0;36m_solveset.<locals>.<lambda>\u001b[0;34m(f, x, domain)\u001b[0m\n\u001b[1;32m   1005\u001b[0m         f \u001b[38;5;241m=\u001b[39m a\u001b[38;5;241m/\u001b[39mm \u001b[38;5;241m+\u001b[39m h  \u001b[38;5;66;03m# XXX condition `m != 0` should be added to soln\u001b[39;00m\n\u001b[1;32m   1007\u001b[0m \u001b[38;5;66;03m# assign the solvers to use\u001b[39;00m\n\u001b[0;32m-> 1008\u001b[0m solver \u001b[38;5;241m=\u001b[39m \u001b[38;5;28;01mlambda\u001b[39;00m f, x, domain\u001b[38;5;241m=\u001b[39mdomain: \u001b[43m_solveset\u001b[49m\u001b[43m(\u001b[49m\u001b[43mf\u001b[49m\u001b[43m,\u001b[49m\u001b[43m \u001b[49m\u001b[43mx\u001b[49m\u001b[43m,\u001b[49m\u001b[43m \u001b[49m\u001b[43mdomain\u001b[49m\u001b[43m)\u001b[49m\n\u001b[1;32m   1009\u001b[0m inverter \u001b[38;5;241m=\u001b[39m \u001b[38;5;28;01mlambda\u001b[39;00m f, rhs, symbol: _invert(f, rhs, symbol, domain)\n\u001b[1;32m   1011\u001b[0m result \u001b[38;5;241m=\u001b[39m S\u001b[38;5;241m.\u001b[39mEmptySet\n",
      "File \u001b[0;32m/opt/anaconda3/lib/python3.9/site-packages/sympy/solvers/solveset.py:1028\u001b[0m, in \u001b[0;36m_solveset\u001b[0;34m(f, symbol, domain, _check)\u001b[0m\n\u001b[1;32m   1025\u001b[0m     result \u001b[38;5;241m=\u001b[39m Union(\u001b[38;5;241m*\u001b[39m[solver(m, symbol) \u001b[38;5;28;01mfor\u001b[39;00m m \u001b[38;5;129;01min\u001b[39;00m f\u001b[38;5;241m.\u001b[39margs])\n\u001b[1;32m   1026\u001b[0m \u001b[38;5;28;01melif\u001b[39;00m _is_function_class_equation(TrigonometricFunction, f, symbol) \u001b[38;5;129;01mor\u001b[39;00m \\\n\u001b[1;32m   1027\u001b[0m         _is_function_class_equation(HyperbolicFunction, f, symbol):\n\u001b[0;32m-> 1028\u001b[0m     result \u001b[38;5;241m=\u001b[39m \u001b[43m_solve_trig\u001b[49m\u001b[43m(\u001b[49m\u001b[43mf\u001b[49m\u001b[43m,\u001b[49m\u001b[43m \u001b[49m\u001b[43msymbol\u001b[49m\u001b[43m,\u001b[49m\u001b[43m \u001b[49m\u001b[43mdomain\u001b[49m\u001b[43m)\u001b[49m\n\u001b[1;32m   1029\u001b[0m \u001b[38;5;28;01melif\u001b[39;00m \u001b[38;5;28misinstance\u001b[39m(f, arg):\n\u001b[1;32m   1030\u001b[0m     a \u001b[38;5;241m=\u001b[39m f\u001b[38;5;241m.\u001b[39margs[\u001b[38;5;241m0\u001b[39m]\n",
      "File \u001b[0;32m/opt/anaconda3/lib/python3.9/site-packages/sympy/solvers/solveset.py:604\u001b[0m, in \u001b[0;36m_solve_trig\u001b[0;34m(f, symbol, domain)\u001b[0m\n\u001b[1;32m    602\u001b[0m \u001b[38;5;28;01mexcept\u001b[39;00m _SolveTrig1Error:\n\u001b[1;32m    603\u001b[0m     \u001b[38;5;28;01mtry\u001b[39;00m:\n\u001b[0;32m--> 604\u001b[0m         sol \u001b[38;5;241m=\u001b[39m \u001b[43m_solve_trig2\u001b[49m\u001b[43m(\u001b[49m\u001b[43mf\u001b[49m\u001b[43m,\u001b[49m\u001b[43m \u001b[49m\u001b[43msymbol\u001b[49m\u001b[43m,\u001b[49m\u001b[43m \u001b[49m\u001b[43mdomain\u001b[49m\u001b[43m)\u001b[49m\n\u001b[1;32m    605\u001b[0m     \u001b[38;5;28;01mexcept\u001b[39;00m \u001b[38;5;167;01mValueError\u001b[39;00m:\n\u001b[1;32m    606\u001b[0m         \u001b[38;5;28;01mraise\u001b[39;00m \u001b[38;5;167;01mNotImplementedError\u001b[39;00m(filldedent(\u001b[38;5;124m'''\u001b[39m\n\u001b[1;32m    607\u001b[0m \u001b[38;5;124m            Solution to this kind of trigonometric equations\u001b[39m\n\u001b[1;32m    608\u001b[0m \u001b[38;5;124m            is yet to be implemented\u001b[39m\u001b[38;5;124m'''\u001b[39m))\n",
      "File \u001b[0;32m/opt/anaconda3/lib/python3.9/site-packages/sympy/solvers/solveset.py:768\u001b[0m, in \u001b[0;36m_solve_trig2\u001b[0;34m(f, symbol, domain)\u001b[0m\n\u001b[1;32m    766\u001b[0m \u001b[38;5;28;01mif\u001b[39;00m g\u001b[38;5;241m.\u001b[39mhas(x) \u001b[38;5;129;01mor\u001b[39;00m h\u001b[38;5;241m.\u001b[39mhas(x):\n\u001b[1;32m    767\u001b[0m     \u001b[38;5;28;01mreturn\u001b[39;00m ConditionSet(symbol, Eq(f_original, \u001b[38;5;241m0\u001b[39m), domain)\n\u001b[0;32m--> 768\u001b[0m solns \u001b[38;5;241m=\u001b[39m \u001b[43msolveset\u001b[49m\u001b[43m(\u001b[49m\u001b[43mg\u001b[49m\u001b[43m,\u001b[49m\u001b[43m \u001b[49m\u001b[43my\u001b[49m\u001b[43m,\u001b[49m\u001b[43m \u001b[49m\u001b[43mS\u001b[49m\u001b[38;5;241;43m.\u001b[39;49m\u001b[43mReals\u001b[49m\u001b[43m)\u001b[49m \u001b[38;5;241m-\u001b[39m solveset(h, y, S\u001b[38;5;241m.\u001b[39mReals)\n\u001b[1;32m    770\u001b[0m \u001b[38;5;28;01mif\u001b[39;00m \u001b[38;5;28misinstance\u001b[39m(solns, FiniteSet):\n\u001b[1;32m    771\u001b[0m     result \u001b[38;5;241m=\u001b[39m Union(\u001b[38;5;241m*\u001b[39m[invert_real(tan(symbol\u001b[38;5;241m/\u001b[39mmu), s, symbol)[\u001b[38;5;241m1\u001b[39m]\n\u001b[1;32m    772\u001b[0m                    \u001b[38;5;28;01mfor\u001b[39;00m s \u001b[38;5;129;01min\u001b[39;00m solns])\n",
      "File \u001b[0;32m/opt/anaconda3/lib/python3.9/site-packages/sympy/solvers/solveset.py:2216\u001b[0m, in \u001b[0;36msolveset\u001b[0;34m(f, symbol, domain)\u001b[0m\n\u001b[1;32m   2214\u001b[0m \u001b[38;5;28;01mif\u001b[39;00m symbol \u001b[38;5;129;01mnot\u001b[39;00m \u001b[38;5;129;01min\u001b[39;00m _rc:\n\u001b[1;32m   2215\u001b[0m     x \u001b[38;5;241m=\u001b[39m _rc[\u001b[38;5;241m0\u001b[39m] \u001b[38;5;28;01mif\u001b[39;00m domain\u001b[38;5;241m.\u001b[39mis_subset(S\u001b[38;5;241m.\u001b[39mReals) \u001b[38;5;28;01melse\u001b[39;00m _rc[\u001b[38;5;241m1\u001b[39m]\n\u001b[0;32m-> 2216\u001b[0m     rv \u001b[38;5;241m=\u001b[39m \u001b[43msolveset\u001b[49m\u001b[43m(\u001b[49m\u001b[43mf\u001b[49m\u001b[38;5;241;43m.\u001b[39;49m\u001b[43mxreplace\u001b[49m\u001b[43m(\u001b[49m\u001b[43m{\u001b[49m\u001b[43msymbol\u001b[49m\u001b[43m:\u001b[49m\u001b[43m \u001b[49m\u001b[43mx\u001b[49m\u001b[43m}\u001b[49m\u001b[43m)\u001b[49m\u001b[43m,\u001b[49m\u001b[43m \u001b[49m\u001b[43mx\u001b[49m\u001b[43m,\u001b[49m\u001b[43m \u001b[49m\u001b[43mdomain\u001b[49m\u001b[43m)\u001b[49m\n\u001b[1;32m   2217\u001b[0m     \u001b[38;5;66;03m# try to use the original symbol if possible\u001b[39;00m\n\u001b[1;32m   2218\u001b[0m     \u001b[38;5;28;01mtry\u001b[39;00m:\n",
      "File \u001b[0;32m/opt/anaconda3/lib/python3.9/site-packages/sympy/solvers/solveset.py:2240\u001b[0m, in \u001b[0;36msolveset\u001b[0;34m(f, symbol, domain)\u001b[0m\n\u001b[1;32m   2237\u001b[0m     f \u001b[38;5;241m=\u001b[39m f\u001b[38;5;241m.\u001b[39mxreplace({d: e})\n\u001b[1;32m   2238\u001b[0m f \u001b[38;5;241m=\u001b[39m piecewise_fold(f)\n\u001b[0;32m-> 2240\u001b[0m \u001b[38;5;28;01mreturn\u001b[39;00m \u001b[43m_solveset\u001b[49m\u001b[43m(\u001b[49m\u001b[43mf\u001b[49m\u001b[43m,\u001b[49m\u001b[43m \u001b[49m\u001b[43msymbol\u001b[49m\u001b[43m,\u001b[49m\u001b[43m \u001b[49m\u001b[43mdomain\u001b[49m\u001b[43m,\u001b[49m\u001b[43m \u001b[49m\u001b[43m_check\u001b[49m\u001b[38;5;241;43m=\u001b[39;49m\u001b[38;5;28;43;01mTrue\u001b[39;49;00m\u001b[43m)\u001b[49m\n",
      "File \u001b[0;32m/opt/anaconda3/lib/python3.9/site-packages/sympy/solvers/solveset.py:1080\u001b[0m, in \u001b[0;36m_solveset\u001b[0;34m(f, symbol, domain, _check)\u001b[0m\n\u001b[1;32m   1078\u001b[0m     result \u001b[38;5;241m+\u001b[39m\u001b[38;5;241m=\u001b[39m _solve_abs(f, symbol, domain)\n\u001b[1;32m   1079\u001b[0m \u001b[38;5;28;01melse\u001b[39;00m:\n\u001b[0;32m-> 1080\u001b[0m     result_rational \u001b[38;5;241m=\u001b[39m \u001b[43m_solve_as_rational\u001b[49m\u001b[43m(\u001b[49m\u001b[43mequation\u001b[49m\u001b[43m,\u001b[49m\u001b[43m \u001b[49m\u001b[43msymbol\u001b[49m\u001b[43m,\u001b[49m\u001b[43m \u001b[49m\u001b[43mdomain\u001b[49m\u001b[43m)\u001b[49m\n\u001b[1;32m   1081\u001b[0m     \u001b[38;5;28;01mif\u001b[39;00m \u001b[38;5;129;01mnot\u001b[39;00m \u001b[38;5;28misinstance\u001b[39m(result_rational, ConditionSet):\n\u001b[1;32m   1082\u001b[0m         result \u001b[38;5;241m+\u001b[39m\u001b[38;5;241m=\u001b[39m result_rational\n",
      "File \u001b[0;32m/opt/anaconda3/lib/python3.9/site-packages/sympy/solvers/solveset.py:579\u001b[0m, in \u001b[0;36m_solve_as_rational\u001b[0;34m(f, symbol, domain)\u001b[0m\n\u001b[1;32m    577\u001b[0m \u001b[38;5;28;01mif\u001b[39;00m \u001b[38;5;129;01mnot\u001b[39;00m h\u001b[38;5;241m.\u001b[39mhas(symbol):\n\u001b[1;32m    578\u001b[0m     \u001b[38;5;28;01mtry\u001b[39;00m:\n\u001b[0;32m--> 579\u001b[0m         \u001b[38;5;28;01mreturn\u001b[39;00m \u001b[43m_solve_as_poly\u001b[49m\u001b[43m(\u001b[49m\u001b[43mg\u001b[49m\u001b[43m,\u001b[49m\u001b[43m \u001b[49m\u001b[43msymbol\u001b[49m\u001b[43m,\u001b[49m\u001b[43m \u001b[49m\u001b[43mdomain\u001b[49m\u001b[43m)\u001b[49m\n\u001b[1;32m    580\u001b[0m     \u001b[38;5;28;01mexcept\u001b[39;00m \u001b[38;5;167;01mNotImplementedError\u001b[39;00m:\n\u001b[1;32m    581\u001b[0m         \u001b[38;5;66;03m# The polynomial formed from g could end up having\u001b[39;00m\n\u001b[1;32m    582\u001b[0m         \u001b[38;5;66;03m# coefficients in a ring over which finding roots\u001b[39;00m\n\u001b[1;32m    583\u001b[0m         \u001b[38;5;66;03m# isn't implemented yet, e.g. ZZ[a] for some symbol a\u001b[39;00m\n\u001b[1;32m    584\u001b[0m         \u001b[38;5;28;01mreturn\u001b[39;00m ConditionSet(symbol, Eq(f, \u001b[38;5;241m0\u001b[39m), domain)\n",
      "File \u001b[0;32m/opt/anaconda3/lib/python3.9/site-packages/sympy/solvers/solveset.py:790\u001b[0m, in \u001b[0;36m_solve_as_poly\u001b[0;34m(f, symbol, domain)\u001b[0m\n\u001b[1;32m    788\u001b[0m result \u001b[38;5;241m=\u001b[39m \u001b[38;5;28;01mNone\u001b[39;00m\n\u001b[1;32m    789\u001b[0m \u001b[38;5;28;01mif\u001b[39;00m f\u001b[38;5;241m.\u001b[39mis_polynomial(symbol):\n\u001b[0;32m--> 790\u001b[0m     solns \u001b[38;5;241m=\u001b[39m \u001b[43mroots\u001b[49m\u001b[43m(\u001b[49m\u001b[43mf\u001b[49m\u001b[43m,\u001b[49m\u001b[43m \u001b[49m\u001b[43msymbol\u001b[49m\u001b[43m,\u001b[49m\u001b[43m \u001b[49m\u001b[43mcubics\u001b[49m\u001b[38;5;241;43m=\u001b[39;49m\u001b[38;5;28;43;01mTrue\u001b[39;49;00m\u001b[43m,\u001b[49m\u001b[43m \u001b[49m\u001b[43mquartics\u001b[49m\u001b[38;5;241;43m=\u001b[39;49m\u001b[38;5;28;43;01mTrue\u001b[39;49;00m\u001b[43m,\u001b[49m\n\u001b[1;32m    791\u001b[0m \u001b[43m                  \u001b[49m\u001b[43mquintics\u001b[49m\u001b[38;5;241;43m=\u001b[39;49m\u001b[38;5;28;43;01mTrue\u001b[39;49;00m\u001b[43m,\u001b[49m\u001b[43m \u001b[49m\u001b[43mdomain\u001b[49m\u001b[38;5;241;43m=\u001b[39;49m\u001b[38;5;124;43m'\u001b[39;49m\u001b[38;5;124;43mEX\u001b[39;49m\u001b[38;5;124;43m'\u001b[39;49m\u001b[43m)\u001b[49m\n\u001b[1;32m    792\u001b[0m     num_roots \u001b[38;5;241m=\u001b[39m \u001b[38;5;28msum\u001b[39m(solns\u001b[38;5;241m.\u001b[39mvalues())\n\u001b[1;32m    793\u001b[0m     \u001b[38;5;28;01mif\u001b[39;00m degree(f, symbol) \u001b[38;5;241m<\u001b[39m\u001b[38;5;241m=\u001b[39m num_roots:\n",
      "File \u001b[0;32m/opt/anaconda3/lib/python3.9/site-packages/sympy/polys/polyroots.py:1051\u001b[0m, in \u001b[0;36mroots\u001b[0;34m(f, auto, cubics, trig, quartics, quintics, multiple, filter, predicate, *gens, **flags)\u001b[0m\n\u001b[1;32m   1049\u001b[0m             \u001b[38;5;28;01melse\u001b[39;00m:\n\u001b[1;32m   1050\u001b[0m                 \u001b[38;5;28;01mfor\u001b[39;00m currentfactor, k \u001b[38;5;129;01min\u001b[39;00m factors:\n\u001b[0;32m-> 1051\u001b[0m                     \u001b[38;5;28;01mfor\u001b[39;00m r \u001b[38;5;129;01min\u001b[39;00m \u001b[43m_try_heuristics\u001b[49m\u001b[43m(\u001b[49m\u001b[43mPoly\u001b[49m\u001b[43m(\u001b[49m\u001b[43mcurrentfactor\u001b[49m\u001b[43m,\u001b[49m\u001b[43m \u001b[49m\u001b[43mf\u001b[49m\u001b[38;5;241;43m.\u001b[39;49m\u001b[43mgen\u001b[49m\u001b[43m,\u001b[49m\u001b[43m \u001b[49m\u001b[43mfield\u001b[49m\u001b[38;5;241;43m=\u001b[39;49m\u001b[38;5;28;43;01mTrue\u001b[39;49;00m\u001b[43m)\u001b[49m\u001b[43m)\u001b[49m:\n\u001b[1;32m   1052\u001b[0m                         _update_dict(result, zeros, r, k)\n\u001b[1;32m   1054\u001b[0m \u001b[38;5;28;01mif\u001b[39;00m coeff \u001b[38;5;129;01mis\u001b[39;00m \u001b[38;5;129;01mnot\u001b[39;00m S\u001b[38;5;241m.\u001b[39mOne:\n",
      "File \u001b[0;32m/opt/anaconda3/lib/python3.9/site-packages/sympy/polys/polyroots.py:983\u001b[0m, in \u001b[0;36mroots.<locals>._try_heuristics\u001b[0;34m(f)\u001b[0m\n\u001b[1;32m    981\u001b[0m     result \u001b[38;5;241m+\u001b[39m\u001b[38;5;241m=\u001b[39m roots_cubic(f, trig\u001b[38;5;241m=\u001b[39mtrig)\n\u001b[1;32m    982\u001b[0m \u001b[38;5;28;01melif\u001b[39;00m n \u001b[38;5;241m==\u001b[39m \u001b[38;5;241m4\u001b[39m \u001b[38;5;129;01mand\u001b[39;00m quartics:\n\u001b[0;32m--> 983\u001b[0m     result \u001b[38;5;241m+\u001b[39m\u001b[38;5;241m=\u001b[39m \u001b[43mroots_quartic\u001b[49m\u001b[43m(\u001b[49m\u001b[43mf\u001b[49m\u001b[43m)\u001b[49m\n\u001b[1;32m    984\u001b[0m \u001b[38;5;28;01melif\u001b[39;00m n \u001b[38;5;241m==\u001b[39m \u001b[38;5;241m5\u001b[39m \u001b[38;5;129;01mand\u001b[39;00m quintics:\n\u001b[1;32m    985\u001b[0m     result \u001b[38;5;241m+\u001b[39m\u001b[38;5;241m=\u001b[39m roots_quintic(f)\n",
      "File \u001b[0;32m/opt/anaconda3/lib/python3.9/site-packages/sympy/polys/polyroots.py:321\u001b[0m, in \u001b[0;36mroots_quartic\u001b[0;34m(f)\u001b[0m\n\u001b[1;32m    318\u001b[0m     \u001b[38;5;28;01mreturn\u001b[39;00m [tmp \u001b[38;5;241m-\u001b[39m aon4 \u001b[38;5;28;01mfor\u001b[39;00m tmp \u001b[38;5;129;01min\u001b[39;00m y]\n\u001b[1;32m    319\u001b[0m \u001b[38;5;28;01melse\u001b[39;00m:\n\u001b[1;32m    320\u001b[0m     \u001b[38;5;66;03m# Descartes-Euler method, see [7]\u001b[39;00m\n\u001b[0;32m--> 321\u001b[0m     sols \u001b[38;5;241m=\u001b[39m \u001b[43m_roots_quartic_euler\u001b[49m\u001b[43m(\u001b[49m\u001b[43me\u001b[49m\u001b[43m,\u001b[49m\u001b[43m \u001b[49m\u001b[43mf\u001b[49m\u001b[43m,\u001b[49m\u001b[43m \u001b[49m\u001b[43mg\u001b[49m\u001b[43m,\u001b[49m\u001b[43m \u001b[49m\u001b[43maon4\u001b[49m\u001b[43m)\u001b[49m\n\u001b[1;32m    322\u001b[0m     \u001b[38;5;28;01mif\u001b[39;00m sols:\n\u001b[1;32m    323\u001b[0m         \u001b[38;5;28;01mreturn\u001b[39;00m sols\n",
      "File \u001b[0;32m/opt/anaconda3/lib/python3.9/site-packages/sympy/polys/polyroots.py:227\u001b[0m, in \u001b[0;36m_roots_quartic_euler\u001b[0;34m(p, q, r, a)\u001b[0m\n\u001b[1;32m    225\u001b[0m x \u001b[38;5;241m=\u001b[39m Dummy(\u001b[38;5;124m'\u001b[39m\u001b[38;5;124mx\u001b[39m\u001b[38;5;124m'\u001b[39m)\n\u001b[1;32m    226\u001b[0m eq \u001b[38;5;241m=\u001b[39m \u001b[38;5;241m64\u001b[39m\u001b[38;5;241m*\u001b[39mx\u001b[38;5;241m*\u001b[39m\u001b[38;5;241m*\u001b[39m\u001b[38;5;241m3\u001b[39m \u001b[38;5;241m+\u001b[39m \u001b[38;5;241m32\u001b[39m\u001b[38;5;241m*\u001b[39mp\u001b[38;5;241m*\u001b[39mx\u001b[38;5;241m*\u001b[39m\u001b[38;5;241m*\u001b[39m\u001b[38;5;241m2\u001b[39m \u001b[38;5;241m+\u001b[39m (\u001b[38;5;241m4\u001b[39m\u001b[38;5;241m*\u001b[39mp\u001b[38;5;241m*\u001b[39m\u001b[38;5;241m*\u001b[39m\u001b[38;5;241m2\u001b[39m \u001b[38;5;241m-\u001b[39m \u001b[38;5;241m16\u001b[39m\u001b[38;5;241m*\u001b[39mr)\u001b[38;5;241m*\u001b[39mx \u001b[38;5;241m-\u001b[39m q\u001b[38;5;241m*\u001b[39m\u001b[38;5;241m*\u001b[39m\u001b[38;5;241m2\u001b[39m\n\u001b[0;32m--> 227\u001b[0m xsols \u001b[38;5;241m=\u001b[39m \u001b[38;5;28mlist\u001b[39m(roots(\u001b[43mPoly\u001b[49m\u001b[43m(\u001b[49m\u001b[43meq\u001b[49m\u001b[43m,\u001b[49m\u001b[43m \u001b[49m\u001b[43mx\u001b[49m\u001b[43m)\u001b[49m, cubics\u001b[38;5;241m=\u001b[39m\u001b[38;5;28;01mFalse\u001b[39;00m)\u001b[38;5;241m.\u001b[39mkeys())\n\u001b[1;32m    228\u001b[0m xsols \u001b[38;5;241m=\u001b[39m [sol \u001b[38;5;28;01mfor\u001b[39;00m sol \u001b[38;5;129;01min\u001b[39;00m xsols \u001b[38;5;28;01mif\u001b[39;00m sol\u001b[38;5;241m.\u001b[39mis_rational \u001b[38;5;129;01mand\u001b[39;00m sol\u001b[38;5;241m.\u001b[39mis_nonzero]\n\u001b[1;32m    229\u001b[0m \u001b[38;5;28;01mif\u001b[39;00m \u001b[38;5;129;01mnot\u001b[39;00m xsols:\n",
      "File \u001b[0;32m/opt/anaconda3/lib/python3.9/site-packages/sympy/polys/polytools.py:181\u001b[0m, in \u001b[0;36mPoly.__new__\u001b[0;34m(cls, rep, *gens, **args)\u001b[0m\n\u001b[1;32m    179\u001b[0m     \u001b[38;5;28;01mreturn\u001b[39;00m \u001b[38;5;28mcls\u001b[39m\u001b[38;5;241m.\u001b[39m_from_poly(rep, opt)\n\u001b[1;32m    180\u001b[0m \u001b[38;5;28;01melse\u001b[39;00m:\n\u001b[0;32m--> 181\u001b[0m     \u001b[38;5;28;01mreturn\u001b[39;00m \u001b[38;5;28;43mcls\u001b[39;49m\u001b[38;5;241;43m.\u001b[39;49m\u001b[43m_from_expr\u001b[49m\u001b[43m(\u001b[49m\u001b[43mrep\u001b[49m\u001b[43m,\u001b[49m\u001b[43m \u001b[49m\u001b[43mopt\u001b[49m\u001b[43m)\u001b[49m\n",
      "File \u001b[0;32m/opt/anaconda3/lib/python3.9/site-packages/sympy/polys/polytools.py:310\u001b[0m, in \u001b[0;36mPoly._from_expr\u001b[0;34m(cls, rep, opt)\u001b[0m\n\u001b[1;32m    307\u001b[0m \u001b[38;5;129m@classmethod\u001b[39m\n\u001b[1;32m    308\u001b[0m \u001b[38;5;28;01mdef\u001b[39;00m \u001b[38;5;21m_from_expr\u001b[39m(\u001b[38;5;28mcls\u001b[39m, rep, opt):\n\u001b[1;32m    309\u001b[0m     \u001b[38;5;124;03m\"\"\"Construct a polynomial from an expression. \"\"\"\u001b[39;00m\n\u001b[0;32m--> 310\u001b[0m     rep, opt \u001b[38;5;241m=\u001b[39m \u001b[43m_dict_from_expr\u001b[49m\u001b[43m(\u001b[49m\u001b[43mrep\u001b[49m\u001b[43m,\u001b[49m\u001b[43m \u001b[49m\u001b[43mopt\u001b[49m\u001b[43m)\u001b[49m\n\u001b[1;32m    311\u001b[0m     \u001b[38;5;28;01mreturn\u001b[39;00m \u001b[38;5;28mcls\u001b[39m\u001b[38;5;241m.\u001b[39m_from_dict(rep, opt)\n",
      "File \u001b[0;32m/opt/anaconda3/lib/python3.9/site-packages/sympy/polys/polyutils.py:368\u001b[0m, in \u001b[0;36m_dict_from_expr\u001b[0;34m(expr, opt)\u001b[0m\n\u001b[1;32m    365\u001b[0m         expr \u001b[38;5;241m=\u001b[39m expand_mul(expr)\n\u001b[1;32m    367\u001b[0m \u001b[38;5;28;01mif\u001b[39;00m opt\u001b[38;5;241m.\u001b[39mgens:\n\u001b[0;32m--> 368\u001b[0m     rep, gens \u001b[38;5;241m=\u001b[39m \u001b[43m_dict_from_expr_if_gens\u001b[49m\u001b[43m(\u001b[49m\u001b[43mexpr\u001b[49m\u001b[43m,\u001b[49m\u001b[43m \u001b[49m\u001b[43mopt\u001b[49m\u001b[43m)\u001b[49m\n\u001b[1;32m    369\u001b[0m \u001b[38;5;28;01melse\u001b[39;00m:\n\u001b[1;32m    370\u001b[0m     rep, gens \u001b[38;5;241m=\u001b[39m _dict_from_expr_no_gens(expr, opt)\n",
      "File \u001b[0;32m/opt/anaconda3/lib/python3.9/site-packages/sympy/polys/polyutils.py:307\u001b[0m, in \u001b[0;36m_dict_from_expr_if_gens\u001b[0;34m(expr, opt)\u001b[0m\n\u001b[1;32m    305\u001b[0m \u001b[38;5;28;01mdef\u001b[39;00m \u001b[38;5;21m_dict_from_expr_if_gens\u001b[39m(expr, opt):\n\u001b[1;32m    306\u001b[0m     \u001b[38;5;124;03m\"\"\"Transform an expression into a multinomial form given generators. \"\"\"\u001b[39;00m\n\u001b[0;32m--> 307\u001b[0m     (poly,), gens \u001b[38;5;241m=\u001b[39m \u001b[43m_parallel_dict_from_expr_if_gens\u001b[49m\u001b[43m(\u001b[49m\u001b[43m(\u001b[49m\u001b[43mexpr\u001b[49m\u001b[43m,\u001b[49m\u001b[43m)\u001b[49m\u001b[43m,\u001b[49m\u001b[43m \u001b[49m\u001b[43mopt\u001b[49m\u001b[43m)\u001b[49m\n\u001b[1;32m    308\u001b[0m     \u001b[38;5;28;01mreturn\u001b[39;00m poly, gens\n",
      "File \u001b[0;32m/opt/anaconda3/lib/python3.9/site-packages/sympy/polys/polyutils.py:222\u001b[0m, in \u001b[0;36m_parallel_dict_from_expr_if_gens\u001b[0;34m(exprs, opt)\u001b[0m\n\u001b[1;32m    219\u001b[0m monom \u001b[38;5;241m=\u001b[39m \u001b[38;5;28mtuple\u001b[39m(monom)\n\u001b[1;32m    221\u001b[0m \u001b[38;5;28;01mif\u001b[39;00m monom \u001b[38;5;129;01min\u001b[39;00m poly:\n\u001b[0;32m--> 222\u001b[0m     poly[monom] \u001b[38;5;241m+\u001b[39m\u001b[38;5;241m=\u001b[39m Mul(\u001b[38;5;241m*\u001b[39mcoeff)\n\u001b[1;32m    223\u001b[0m \u001b[38;5;28;01melse\u001b[39;00m:\n\u001b[1;32m    224\u001b[0m     poly[monom] \u001b[38;5;241m=\u001b[39m Mul(\u001b[38;5;241m*\u001b[39mcoeff)\n",
      "File \u001b[0;32m/opt/anaconda3/lib/python3.9/site-packages/sympy/core/decorators.py:236\u001b[0m, in \u001b[0;36m_SympifyWrapper.make_wrapped.<locals>._func\u001b[0;34m(self, other)\u001b[0m\n\u001b[1;32m    234\u001b[0m \u001b[38;5;28;01mif\u001b[39;00m \u001b[38;5;129;01mnot\u001b[39;00m \u001b[38;5;28misinstance\u001b[39m(other, expectedcls):\n\u001b[1;32m    235\u001b[0m     \u001b[38;5;28;01mreturn\u001b[39;00m retval\n\u001b[0;32m--> 236\u001b[0m \u001b[38;5;28;01mreturn\u001b[39;00m \u001b[43mfunc\u001b[49m\u001b[43m(\u001b[49m\u001b[38;5;28;43mself\u001b[39;49m\u001b[43m,\u001b[49m\u001b[43m \u001b[49m\u001b[43mother\u001b[49m\u001b[43m)\u001b[49m\n",
      "File \u001b[0;32m/opt/anaconda3/lib/python3.9/site-packages/sympy/core/decorators.py:106\u001b[0m, in \u001b[0;36mcall_highest_priority.<locals>.priority_decorator.<locals>.binary_op_wrapper\u001b[0;34m(self, other)\u001b[0m\n\u001b[1;32m    104\u001b[0m         \u001b[38;5;28;01mif\u001b[39;00m f \u001b[38;5;129;01mis\u001b[39;00m \u001b[38;5;129;01mnot\u001b[39;00m \u001b[38;5;28;01mNone\u001b[39;00m:\n\u001b[1;32m    105\u001b[0m             \u001b[38;5;28;01mreturn\u001b[39;00m f(\u001b[38;5;28mself\u001b[39m)\n\u001b[0;32m--> 106\u001b[0m \u001b[38;5;28;01mreturn\u001b[39;00m \u001b[43mfunc\u001b[49m\u001b[43m(\u001b[49m\u001b[38;5;28;43mself\u001b[39;49m\u001b[43m,\u001b[49m\u001b[43m \u001b[49m\u001b[43mother\u001b[49m\u001b[43m)\u001b[49m\n",
      "File \u001b[0;32m/opt/anaconda3/lib/python3.9/site-packages/sympy/core/expr.py:192\u001b[0m, in \u001b[0;36mExpr.__add__\u001b[0;34m(self, other)\u001b[0m\n\u001b[1;32m    189\u001b[0m \u001b[38;5;129m@sympify_return\u001b[39m([(\u001b[38;5;124m'\u001b[39m\u001b[38;5;124mother\u001b[39m\u001b[38;5;124m'\u001b[39m, \u001b[38;5;124m'\u001b[39m\u001b[38;5;124mExpr\u001b[39m\u001b[38;5;124m'\u001b[39m)], \u001b[38;5;28mNotImplemented\u001b[39m)\n\u001b[1;32m    190\u001b[0m \u001b[38;5;129m@call_highest_priority\u001b[39m(\u001b[38;5;124m'\u001b[39m\u001b[38;5;124m__radd__\u001b[39m\u001b[38;5;124m'\u001b[39m)\n\u001b[1;32m    191\u001b[0m \u001b[38;5;28;01mdef\u001b[39;00m \u001b[38;5;21m__add__\u001b[39m(\u001b[38;5;28mself\u001b[39m, other):\n\u001b[0;32m--> 192\u001b[0m     \u001b[38;5;28;01mreturn\u001b[39;00m \u001b[43mAdd\u001b[49m\u001b[43m(\u001b[49m\u001b[38;5;28;43mself\u001b[39;49m\u001b[43m,\u001b[49m\u001b[43m \u001b[49m\u001b[43mother\u001b[49m\u001b[43m)\u001b[49m\n",
      "File \u001b[0;32m/opt/anaconda3/lib/python3.9/site-packages/sympy/core/cache.py:70\u001b[0m, in \u001b[0;36m__cacheit.<locals>.func_wrapper.<locals>.wrapper\u001b[0;34m(*args, **kwargs)\u001b[0m\n\u001b[1;32m     67\u001b[0m \u001b[38;5;129m@wraps\u001b[39m(func)\n\u001b[1;32m     68\u001b[0m \u001b[38;5;28;01mdef\u001b[39;00m \u001b[38;5;21mwrapper\u001b[39m(\u001b[38;5;241m*\u001b[39margs, \u001b[38;5;241m*\u001b[39m\u001b[38;5;241m*\u001b[39mkwargs):\n\u001b[1;32m     69\u001b[0m     \u001b[38;5;28;01mtry\u001b[39;00m:\n\u001b[0;32m---> 70\u001b[0m         retval \u001b[38;5;241m=\u001b[39m \u001b[43mcfunc\u001b[49m\u001b[43m(\u001b[49m\u001b[38;5;241;43m*\u001b[39;49m\u001b[43margs\u001b[49m\u001b[43m,\u001b[49m\u001b[43m \u001b[49m\u001b[38;5;241;43m*\u001b[39;49m\u001b[38;5;241;43m*\u001b[39;49m\u001b[43mkwargs\u001b[49m\u001b[43m)\u001b[49m\n\u001b[1;32m     71\u001b[0m     \u001b[38;5;28;01mexcept\u001b[39;00m \u001b[38;5;167;01mTypeError\u001b[39;00m \u001b[38;5;28;01mas\u001b[39;00m e:\n\u001b[1;32m     72\u001b[0m         \u001b[38;5;28;01mif\u001b[39;00m \u001b[38;5;129;01mnot\u001b[39;00m e\u001b[38;5;241m.\u001b[39margs \u001b[38;5;129;01mor\u001b[39;00m \u001b[38;5;129;01mnot\u001b[39;00m e\u001b[38;5;241m.\u001b[39margs[\u001b[38;5;241m0\u001b[39m]\u001b[38;5;241m.\u001b[39mstartswith(\u001b[38;5;124m'\u001b[39m\u001b[38;5;124munhashable type:\u001b[39m\u001b[38;5;124m'\u001b[39m):\n",
      "File \u001b[0;32m/opt/anaconda3/lib/python3.9/site-packages/sympy/core/operations.py:98\u001b[0m, in \u001b[0;36mAssocOp.__new__\u001b[0;34m(cls, evaluate, _sympify, *args)\u001b[0m\n\u001b[1;32m     95\u001b[0m \u001b[38;5;28;01mif\u001b[39;00m \u001b[38;5;28mlen\u001b[39m(args) \u001b[38;5;241m==\u001b[39m \u001b[38;5;241m1\u001b[39m:\n\u001b[1;32m     96\u001b[0m     \u001b[38;5;28;01mreturn\u001b[39;00m args[\u001b[38;5;241m0\u001b[39m]\n\u001b[0;32m---> 98\u001b[0m c_part, nc_part, order_symbols \u001b[38;5;241m=\u001b[39m \u001b[38;5;28;43mcls\u001b[39;49m\u001b[38;5;241;43m.\u001b[39;49m\u001b[43mflatten\u001b[49m\u001b[43m(\u001b[49m\u001b[43margs\u001b[49m\u001b[43m)\u001b[49m\n\u001b[1;32m     99\u001b[0m is_commutative \u001b[38;5;241m=\u001b[39m \u001b[38;5;129;01mnot\u001b[39;00m nc_part\n\u001b[1;32m    100\u001b[0m obj \u001b[38;5;241m=\u001b[39m \u001b[38;5;28mcls\u001b[39m\u001b[38;5;241m.\u001b[39m_from_args(c_part \u001b[38;5;241m+\u001b[39m nc_part, is_commutative)\n",
      "File \u001b[0;32m/opt/anaconda3/lib/python3.9/site-packages/sympy/core/add.py:381\u001b[0m, in \u001b[0;36mAdd.flatten\u001b[0;34m(cls, seq)\u001b[0m\n\u001b[1;32m    378\u001b[0m             \u001b[38;5;28;01mbreak\u001b[39;00m\n\u001b[1;32m    380\u001b[0m \u001b[38;5;66;03m# order args canonically\u001b[39;00m\n\u001b[0;32m--> 381\u001b[0m \u001b[43m_addsort\u001b[49m\u001b[43m(\u001b[49m\u001b[43mnewseq\u001b[49m\u001b[43m)\u001b[49m\n\u001b[1;32m    383\u001b[0m \u001b[38;5;66;03m# current code expects coeff to be first\u001b[39;00m\n\u001b[1;32m    384\u001b[0m \u001b[38;5;28;01mif\u001b[39;00m coeff \u001b[38;5;129;01mis\u001b[39;00m \u001b[38;5;129;01mnot\u001b[39;00m S\u001b[38;5;241m.\u001b[39mZero:\n",
      "File \u001b[0;32m/opt/anaconda3/lib/python3.9/site-packages/sympy/core/add.py:38\u001b[0m, in \u001b[0;36m_addsort\u001b[0;34m(args)\u001b[0m\n\u001b[1;32m     36\u001b[0m \u001b[38;5;28;01mdef\u001b[39;00m \u001b[38;5;21m_addsort\u001b[39m(args):\n\u001b[1;32m     37\u001b[0m     \u001b[38;5;66;03m# in-place sorting of args\u001b[39;00m\n\u001b[0;32m---> 38\u001b[0m     \u001b[43margs\u001b[49m\u001b[38;5;241;43m.\u001b[39;49m\u001b[43msort\u001b[49m\u001b[43m(\u001b[49m\u001b[43mkey\u001b[49m\u001b[38;5;241;43m=\u001b[39;49m\u001b[43m_args_sortkey\u001b[49m\u001b[43m)\u001b[49m\n",
      "File \u001b[0;32m/opt/anaconda3/lib/python3.9/site-packages/sympy/core/basic.py:235\u001b[0m, in \u001b[0;36mBasic.compare\u001b[0;34m(self, other)\u001b[0m\n\u001b[1;32m    233\u001b[0m     \u001b[38;5;28;01mreturn\u001b[39;00m c\n\u001b[1;32m    234\u001b[0m \u001b[38;5;28;01mfor\u001b[39;00m l, r \u001b[38;5;129;01min\u001b[39;00m \u001b[38;5;28mzip\u001b[39m(st, ot):\n\u001b[0;32m--> 235\u001b[0m     l \u001b[38;5;241m=\u001b[39m Basic(\u001b[38;5;241m*\u001b[39ml) \u001b[38;5;28;01mif\u001b[39;00m \u001b[38;5;28;43misinstance\u001b[39;49m\u001b[43m(\u001b[49m\u001b[43ml\u001b[49m\u001b[43m,\u001b[49m\u001b[43m \u001b[49m\u001b[38;5;28;43mfrozenset\u001b[39;49m\u001b[43m)\u001b[49m \u001b[38;5;28;01melse\u001b[39;00m l\n\u001b[1;32m    236\u001b[0m     r \u001b[38;5;241m=\u001b[39m Basic(\u001b[38;5;241m*\u001b[39mr) \u001b[38;5;28;01mif\u001b[39;00m \u001b[38;5;28misinstance\u001b[39m(r, \u001b[38;5;28mfrozenset\u001b[39m) \u001b[38;5;28;01melse\u001b[39;00m r\n\u001b[1;32m    237\u001b[0m     \u001b[38;5;28;01mif\u001b[39;00m \u001b[38;5;28misinstance\u001b[39m(l, Basic):\n",
      "\u001b[0;31mKeyboardInterrupt\u001b[0m: "
     ]
    }
   ],
   "source": [
    "sp.solveset(sp.Eq(df_dpsi, 0), psi)"
   ]
  },
  {
   "cell_type": "code",
   "execution_count": 132,
   "id": "14147467-4e47-49a6-87ef-ec1dd36d62b6",
   "metadata": {},
   "outputs": [
    {
     "data": {
      "text/latex": [
       "$\\displaystyle \\left(- \\lambda_{r} \\lambda_{z} \\mu \\zeta \\sin{\\left(\\psi_{0} \\right)} \\cos{\\left(\\psi_{0} \\right)} + 2 \\lambda_{r} \\lambda_{z} \\mu \\sin{\\left(\\psi_{0} \\right)} \\cos{\\left(\\psi_{0} \\right)} - \\frac{\\lambda_{r} \\lambda_{z} \\mu \\sin{\\left(\\psi_{0} \\right)} \\cos{\\left(\\psi_{0} \\right)}}{\\zeta}\\right) \\cos^{2}{\\left(\\psi \\right)} + \\left(\\lambda_{r} \\lambda_{z} \\mu \\zeta \\sin{\\left(\\psi_{0} \\right)} \\cos{\\left(\\psi_{0} \\right)} - 2 \\lambda_{r} \\lambda_{z} \\mu \\sin{\\left(\\psi_{0} \\right)} \\cos{\\left(\\psi_{0} \\right)} + \\frac{\\lambda_{r} \\lambda_{z} \\mu \\sin{\\left(\\psi_{0} \\right)} \\cos{\\left(\\psi_{0} \\right)}}{\\zeta}\\right) \\sin^{2}{\\left(\\psi \\right)} + \\left(- \\lambda_{r}^{2} \\mu \\zeta \\sin^{2}{\\left(\\psi_{0} \\right)} + 2 \\lambda_{r}^{2} \\mu \\sin^{2}{\\left(\\psi_{0} \\right)} - \\lambda_{r}^{2} \\mu - \\frac{\\lambda_{r}^{2} \\mu \\sin^{2}{\\left(\\psi_{0} \\right)}}{\\zeta} + \\frac{\\lambda_{r}^{2} \\mu}{\\zeta} - \\lambda_{z}^{2} \\mu \\zeta \\sin^{2}{\\left(\\psi_{0} \\right)} + \\lambda_{z}^{2} \\mu \\zeta + 2 \\lambda_{z}^{2} \\mu \\sin^{2}{\\left(\\psi_{0} \\right)} - \\lambda_{z}^{2} \\mu - \\frac{\\lambda_{z}^{2} \\mu \\sin^{2}{\\left(\\psi_{0} \\right)}}{\\zeta}\\right) \\sin{\\left(\\psi \\right)} \\cos{\\left(\\psi \\right)}$"
      ],
      "text/plain": [
       "(-lambda_r*lambda_z*mu*zeta*sin(psi_0)*cos(psi_0) + 2*lambda_r*lambda_z*mu*sin(psi_0)*cos(psi_0) - lambda_r*lambda_z*mu*sin(psi_0)*cos(psi_0)/zeta)*cos(psi)**2 + (lambda_r*lambda_z*mu*zeta*sin(psi_0)*cos(psi_0) - 2*lambda_r*lambda_z*mu*sin(psi_0)*cos(psi_0) + lambda_r*lambda_z*mu*sin(psi_0)*cos(psi_0)/zeta)*sin(psi)**2 + (-lambda_r**2*mu*zeta*sin(psi_0)**2 + 2*lambda_r**2*mu*sin(psi_0)**2 - lambda_r**2*mu - lambda_r**2*mu*sin(psi_0)**2/zeta + lambda_r**2*mu/zeta - lambda_z**2*mu*zeta*sin(psi_0)**2 + lambda_z**2*mu*zeta + 2*lambda_z**2*mu*sin(psi_0)**2 - lambda_z**2*mu - lambda_z**2*mu*sin(psi_0)**2/zeta)*sin(psi)*cos(psi)"
      ]
     },
     "execution_count": 132,
     "metadata": {},
     "output_type": "execute_result"
    }
   ],
   "source": [
    "df_dpsi = sp.expand(df_dpsi)\n",
    "df_dpsi = sp.collect(df_dpsi, [sp.cos(psi) * sp.sin(psi), sp.cos(psi), sp.sin(psi)])\n",
    "\n",
    "df_dpsi"
   ]
  },
  {
   "cell_type": "code",
   "execution_count": 134,
   "id": "94ab3559-dd47-4e86-8795-9ef0c5dc4c4f",
   "metadata": {},
   "outputs": [
    {
     "data": {
      "text/latex": [
       "$\\displaystyle \\frac{\\lambda_{r} \\lambda_{z} \\mu \\left(\\zeta - 1\\right)^{2} \\sin^{2}{\\left(\\psi \\right)} \\sin{\\left(2 \\psi_{0} \\right)}}{2 \\zeta} - \\frac{\\lambda_{r} \\lambda_{z} \\mu \\left(\\zeta - 1\\right)^{2} \\sin{\\left(2 \\psi_{0} \\right)} \\cos^{2}{\\left(\\psi \\right)}}{2 \\zeta} + \\mu \\left(\\lambda_{r}^{2} \\zeta \\cos^{2}{\\left(\\psi_{0} \\right)} - \\lambda_{r}^{2} \\zeta - 2 \\lambda_{r}^{2} \\cos^{2}{\\left(\\psi_{0} \\right)} + \\lambda_{r}^{2} + \\frac{\\lambda_{r}^{2} \\cos^{2}{\\left(\\psi_{0} \\right)}}{\\zeta} + \\lambda_{z}^{2} \\zeta \\cos^{2}{\\left(\\psi_{0} \\right)} - 2 \\lambda_{z}^{2} \\cos^{2}{\\left(\\psi_{0} \\right)} + \\lambda_{z}^{2} + \\frac{\\lambda_{z}^{2} \\cos^{2}{\\left(\\psi_{0} \\right)}}{\\zeta} - \\frac{\\lambda_{z}^{2}}{\\zeta}\\right) \\sin{\\left(\\psi \\right)} \\cos{\\left(\\psi \\right)}$"
      ],
      "text/plain": [
       "lambda_r*lambda_z*mu*(zeta - 1)**2*sin(psi)**2*sin(2*psi_0)/(2*zeta) - lambda_r*lambda_z*mu*(zeta - 1)**2*sin(2*psi_0)*cos(psi)**2/(2*zeta) + mu*(lambda_r**2*zeta*cos(psi_0)**2 - lambda_r**2*zeta - 2*lambda_r**2*cos(psi_0)**2 + lambda_r**2 + lambda_r**2*cos(psi_0)**2/zeta + lambda_z**2*zeta*cos(psi_0)**2 - 2*lambda_z**2*cos(psi_0)**2 + lambda_z**2 + lambda_z**2*cos(psi_0)**2/zeta - lambda_z**2/zeta)*sin(psi)*cos(psi)"
      ]
     },
     "execution_count": 134,
     "metadata": {},
     "output_type": "execute_result"
    }
   ],
   "source": [
    "df_dpsi = sp.trigsimp(df_dpsi)\n",
    "df_dpsi"
   ]
  },
  {
   "cell_type": "code",
   "execution_count": 136,
   "id": "11cc6a23-41fc-4e9d-a954-792ede1251cd",
   "metadata": {},
   "outputs": [
    {
     "data": {
      "text/latex": [
       "$\\displaystyle \\frac{\\lambda_{r} \\lambda_{z} \\mu \\zeta \\sin^{2}{\\left(\\psi \\right)} \\sin{\\left(2 \\psi_{0} \\right)}}{2} - \\frac{\\lambda_{r} \\lambda_{z} \\mu \\zeta \\sin{\\left(2 \\psi_{0} \\right)} \\cos^{2}{\\left(\\psi \\right)}}{2} - \\lambda_{r} \\lambda_{z} \\mu \\sin^{2}{\\left(\\psi \\right)} \\sin{\\left(2 \\psi_{0} \\right)} + \\lambda_{r} \\lambda_{z} \\mu \\sin{\\left(2 \\psi_{0} \\right)} \\cos^{2}{\\left(\\psi \\right)} + \\frac{\\lambda_{r} \\lambda_{z} \\mu \\sin^{2}{\\left(\\psi \\right)} \\sin{\\left(2 \\psi_{0} \\right)}}{2 \\zeta} - \\frac{\\lambda_{r} \\lambda_{z} \\mu \\sin{\\left(2 \\psi_{0} \\right)} \\cos^{2}{\\left(\\psi \\right)}}{2 \\zeta} + \\left(\\lambda_{r}^{2} \\mu \\zeta \\cos^{2}{\\left(\\psi_{0} \\right)} - \\lambda_{r}^{2} \\mu \\zeta - 2 \\lambda_{r}^{2} \\mu \\cos^{2}{\\left(\\psi_{0} \\right)} + \\lambda_{r}^{2} \\mu + \\frac{\\lambda_{r}^{2} \\mu \\cos^{2}{\\left(\\psi_{0} \\right)}}{\\zeta} + \\lambda_{z}^{2} \\mu \\zeta \\cos^{2}{\\left(\\psi_{0} \\right)} - 2 \\lambda_{z}^{2} \\mu \\cos^{2}{\\left(\\psi_{0} \\right)} + \\lambda_{z}^{2} \\mu + \\frac{\\lambda_{z}^{2} \\mu \\cos^{2}{\\left(\\psi_{0} \\right)}}{\\zeta} - \\frac{\\lambda_{z}^{2} \\mu}{\\zeta}\\right) \\sin{\\left(\\psi \\right)} \\cos{\\left(\\psi \\right)}$"
      ],
      "text/plain": [
       "lambda_r*lambda_z*mu*zeta*sin(psi)**2*sin(2*psi_0)/2 - lambda_r*lambda_z*mu*zeta*sin(2*psi_0)*cos(psi)**2/2 - lambda_r*lambda_z*mu*sin(psi)**2*sin(2*psi_0) + lambda_r*lambda_z*mu*sin(2*psi_0)*cos(psi)**2 + lambda_r*lambda_z*mu*sin(psi)**2*sin(2*psi_0)/(2*zeta) - lambda_r*lambda_z*mu*sin(2*psi_0)*cos(psi)**2/(2*zeta) + (lambda_r**2*mu*zeta*cos(psi_0)**2 - lambda_r**2*mu*zeta - 2*lambda_r**2*mu*cos(psi_0)**2 + lambda_r**2*mu + lambda_r**2*mu*cos(psi_0)**2/zeta + lambda_z**2*mu*zeta*cos(psi_0)**2 - 2*lambda_z**2*mu*cos(psi_0)**2 + lambda_z**2*mu + lambda_z**2*mu*cos(psi_0)**2/zeta - lambda_z**2*mu/zeta)*sin(psi)*cos(psi)"
      ]
     },
     "execution_count": 136,
     "metadata": {},
     "output_type": "execute_result"
    }
   ],
   "source": [
    "df_dpsi = sp.expand(df_dpsi)\n",
    "df_dpsi = sp.collect(df_dpsi, [sp.cos(psi)**2 - sp.sin(psi)**2, sp.sin(psi) * sp.cos(psi)])\n",
    "df_dpsi"
   ]
  },
  {
   "cell_type": "markdown",
   "id": "fb030898-af84-42fe-aa0c-871400756fb9",
   "metadata": {},
   "source": [
    "ezpz"
   ]
  }
 ],
 "metadata": {
  "kernelspec": {
   "display_name": "Python 3 (ipykernel)",
   "language": "python",
   "name": "python3"
  },
  "language_info": {
   "codemirror_mode": {
    "name": "ipython",
    "version": 3
   },
   "file_extension": ".py",
   "mimetype": "text/x-python",
   "name": "python",
   "nbconvert_exporter": "python",
   "pygments_lexer": "ipython3",
   "version": "3.9.12"
  }
 },
 "nbformat": 4,
 "nbformat_minor": 5
}
