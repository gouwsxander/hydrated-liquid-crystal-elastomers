{
 "cells": [
  {
   "cell_type": "code",
   "execution_count": 1,
   "id": "47e4d49e-59cb-4133-b4ee-ce3508056159",
   "metadata": {},
   "outputs": [],
   "source": [
    "import sympy as sp"
   ]
  },
  {
   "cell_type": "code",
   "execution_count": 2,
   "id": "bbccae45-eba0-4965-9213-9631fa6a544b",
   "metadata": {},
   "outputs": [],
   "source": [
    "x, y, z, r, phi = sp.symbols(\"x y z r phi\")\n",
    "\n",
    "psi_0, psi = sp.symbols(\"psi_0 psi\")\n",
    "\n",
    "lambda_r, lambda_z = sp.symbols(\"lambda_r lambda_z\")\n",
    "\n",
    "l0perp, l0par = sp.symbols(\"\\ell_0^\\perp \\ell_0^\\parallel\")\n",
    "\n",
    "lperp, lpar = sp.symbols(\"\\ell^\\perp \\ell^\\parallel\")\n",
    "\n",
    "v, mu = sp.symbols(\"v mu\")"
   ]
  },
  {
   "cell_type": "code",
   "execution_count": null,
   "id": "ffc09c89-509d-4889-b2c2-cfa389fdcb88",
   "metadata": {},
   "outputs": [],
   "source": []
  },
  {
   "cell_type": "code",
   "execution_count": null,
   "id": "99498b0f-c90b-4696-85fc-c69f2a56fa23",
   "metadata": {},
   "outputs": [],
   "source": []
  }
 ],
 "metadata": {
  "kernelspec": {
   "display_name": "Python 3 (ipykernel)",
   "language": "python",
   "name": "python3"
  },
  "language_info": {
   "codemirror_mode": {
    "name": "ipython",
    "version": 3
   },
   "file_extension": ".py",
   "mimetype": "text/x-python",
   "name": "python",
   "nbconvert_exporter": "python",
   "pygments_lexer": "ipython3",
   "version": "3.9.12"
  }
 },
 "nbformat": 4,
 "nbformat_minor": 5
}
